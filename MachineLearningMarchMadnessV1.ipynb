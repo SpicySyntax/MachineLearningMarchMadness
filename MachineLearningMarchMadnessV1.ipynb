{
 "cells": [
  {
   "cell_type": "markdown",
   "metadata": {},
   "source": [
    "# Prediction March Madness"
   ]
  },
  {
   "cell_type": "markdown",
   "metadata": {},
   "source": [
    "## Import Libs"
   ]
  },
  {
   "cell_type": "code",
   "execution_count": 1,
   "metadata": {},
   "outputs": [],
   "source": [
    "import pandas as pd #dataframes\n",
    "import matplotlib.pyplot as plt \n",
    "import numpy as np # n-dim object support\n",
    "# do ploting inline instead of in a separate window\n",
    "%matplotlib inline\n",
    "import random"
   ]
  },
  {
   "cell_type": "markdown",
   "metadata": {},
   "source": [
    "## Load and review data"
   ]
  },
  {
   "cell_type": "code",
   "execution_count": 2,
   "metadata": {},
   "outputs": [],
   "source": [
    "df_team = pd.read_csv(\"data/team_yearly_stats.csv\")\n",
    "df_ps_game = pd.read_csv(\"data/post_season_games.csv\")"
   ]
  },
  {
   "cell_type": "code",
   "execution_count": 3,
   "metadata": {},
   "outputs": [
    {
     "data": {
      "text/plain": [
       "(629, 7)"
      ]
     },
     "execution_count": 3,
     "metadata": {},
     "output_type": "execute_result"
    }
   ],
   "source": [
    "df_ps_game.shape"
   ]
  },
  {
   "cell_type": "code",
   "execution_count": 4,
   "metadata": {},
   "outputs": [
    {
     "data": {
      "text/plain": [
       "(4211, 21)"
      ]
     },
     "execution_count": 4,
     "metadata": {},
     "output_type": "execute_result"
    }
   ],
   "source": [
    "df_team.shape"
   ]
  },
  {
   "cell_type": "code",
   "execution_count": 5,
   "metadata": {},
   "outputs": [
    {
     "data": {
      "text/html": [
       "<div>\n",
       "<style scoped>\n",
       "    .dataframe tbody tr th:only-of-type {\n",
       "        vertical-align: middle;\n",
       "    }\n",
       "\n",
       "    .dataframe tbody tr th {\n",
       "        vertical-align: top;\n",
       "    }\n",
       "\n",
       "    .dataframe thead th {\n",
       "        text-align: right;\n",
       "    }\n",
       "</style>\n",
       "<table border=\"1\" class=\"dataframe\">\n",
       "  <thead>\n",
       "    <tr style=\"text-align: right;\">\n",
       "      <th></th>\n",
       "      <th>year</th>\n",
       "      <th>team_name</th>\n",
       "      <th>fg_pg</th>\n",
       "      <th>ft_pg</th>\n",
       "      <th>three_pt_pg</th>\n",
       "      <th>orb_pg</th>\n",
       "      <th>drb_pg</th>\n",
       "      <th>ast_pg</th>\n",
       "      <th>stl_pg</th>\n",
       "      <th>blk_pg</th>\n",
       "      <th>...</th>\n",
       "      <th>pf_pg</th>\n",
       "      <th>pt_pg</th>\n",
       "      <th>opnt_pt_pg</th>\n",
       "      <th>fg_pct</th>\n",
       "      <th>three_p_pct</th>\n",
       "      <th>ft_pct</th>\n",
       "      <th>wl_pct</th>\n",
       "      <th>conf_wl_pct</th>\n",
       "      <th>srs</th>\n",
       "      <th>sos</th>\n",
       "    </tr>\n",
       "  </thead>\n",
       "  <tbody>\n",
       "    <tr>\n",
       "      <th>0</th>\n",
       "      <td>2011.0</td>\n",
       "      <td>Air Force</td>\n",
       "      <td>22.562500</td>\n",
       "      <td>13.062500</td>\n",
       "      <td>6.625000</td>\n",
       "      <td>5.843750</td>\n",
       "      <td>28.504883</td>\n",
       "      <td>15.437500</td>\n",
       "      <td>6.250000</td>\n",
       "      <td>2.593750</td>\n",
       "      <td>...</td>\n",
       "      <td>17.593750</td>\n",
       "      <td>64.812500</td>\n",
       "      <td>65.062500</td>\n",
       "      <td>0.471</td>\n",
       "      <td>0.377</td>\n",
       "      <td>0.705</td>\n",
       "      <td>0.500</td>\n",
       "      <td>0.375000</td>\n",
       "      <td>2.71</td>\n",
       "      <td>3.31</td>\n",
       "    </tr>\n",
       "    <tr>\n",
       "      <th>1</th>\n",
       "      <td>2011.0</td>\n",
       "      <td>Akron</td>\n",
       "      <td>24.777778</td>\n",
       "      <td>12.694444</td>\n",
       "      <td>7.861111</td>\n",
       "      <td>10.083333</td>\n",
       "      <td>34.108796</td>\n",
       "      <td>14.444444</td>\n",
       "      <td>6.666667</td>\n",
       "      <td>3.583333</td>\n",
       "      <td>...</td>\n",
       "      <td>19.222222</td>\n",
       "      <td>70.111111</td>\n",
       "      <td>65.694444</td>\n",
       "      <td>0.430</td>\n",
       "      <td>0.361</td>\n",
       "      <td>0.704</td>\n",
       "      <td>0.639</td>\n",
       "      <td>0.562500</td>\n",
       "      <td>2.15</td>\n",
       "      <td>-1.02</td>\n",
       "    </tr>\n",
       "    <tr>\n",
       "      <th>2</th>\n",
       "      <td>2011.0</td>\n",
       "      <td>Alabama A&amp;M</td>\n",
       "      <td>22.607143</td>\n",
       "      <td>14.892857</td>\n",
       "      <td>4.464286</td>\n",
       "      <td>12.392857</td>\n",
       "      <td>37.343112</td>\n",
       "      <td>12.107143</td>\n",
       "      <td>8.321429</td>\n",
       "      <td>5.392857</td>\n",
       "      <td>...</td>\n",
       "      <td>20.071429</td>\n",
       "      <td>64.571429</td>\n",
       "      <td>66.785714</td>\n",
       "      <td>0.396</td>\n",
       "      <td>0.288</td>\n",
       "      <td>0.624</td>\n",
       "      <td>0.464</td>\n",
       "      <td>0.555556</td>\n",
       "      <td>-15.19</td>\n",
       "      <td>-11.75</td>\n",
       "    </tr>\n",
       "    <tr>\n",
       "      <th>3</th>\n",
       "      <td>2011.0</td>\n",
       "      <td>Alabama-Birmingham</td>\n",
       "      <td>24.387097</td>\n",
       "      <td>11.870968</td>\n",
       "      <td>7.709677</td>\n",
       "      <td>11.354839</td>\n",
       "      <td>35.407908</td>\n",
       "      <td>13.548387</td>\n",
       "      <td>5.290323</td>\n",
       "      <td>3.129032</td>\n",
       "      <td>...</td>\n",
       "      <td>16.580645</td>\n",
       "      <td>68.354839</td>\n",
       "      <td>62.580645</td>\n",
       "      <td>0.438</td>\n",
       "      <td>0.342</td>\n",
       "      <td>0.717</td>\n",
       "      <td>0.710</td>\n",
       "      <td>0.750000</td>\n",
       "      <td>8.55</td>\n",
       "      <td>2.78</td>\n",
       "    </tr>\n",
       "    <tr>\n",
       "      <th>4</th>\n",
       "      <td>2011.0</td>\n",
       "      <td>Alabama State</td>\n",
       "      <td>20.800000</td>\n",
       "      <td>15.000000</td>\n",
       "      <td>4.714286</td>\n",
       "      <td>13.142857</td>\n",
       "      <td>35.938776</td>\n",
       "      <td>11.542857</td>\n",
       "      <td>7.285714</td>\n",
       "      <td>4.657143</td>\n",
       "      <td>...</td>\n",
       "      <td>22.200000</td>\n",
       "      <td>61.314286</td>\n",
       "      <td>63.828571</td>\n",
       "      <td>0.395</td>\n",
       "      <td>0.283</td>\n",
       "      <td>0.603</td>\n",
       "      <td>0.486</td>\n",
       "      <td>0.611111</td>\n",
       "      <td>-13.37</td>\n",
       "      <td>-10.31</td>\n",
       "    </tr>\n",
       "  </tbody>\n",
       "</table>\n",
       "<p>5 rows × 21 columns</p>\n",
       "</div>"
      ],
      "text/plain": [
       "     year           team_name      fg_pg      ft_pg  three_pt_pg     orb_pg  \\\n",
       "0  2011.0           Air Force  22.562500  13.062500     6.625000   5.843750   \n",
       "1  2011.0               Akron  24.777778  12.694444     7.861111  10.083333   \n",
       "2  2011.0         Alabama A&M  22.607143  14.892857     4.464286  12.392857   \n",
       "3  2011.0  Alabama-Birmingham  24.387097  11.870968     7.709677  11.354839   \n",
       "4  2011.0       Alabama State  20.800000  15.000000     4.714286  13.142857   \n",
       "\n",
       "      drb_pg     ast_pg    stl_pg    blk_pg  ...      pf_pg      pt_pg  \\\n",
       "0  28.504883  15.437500  6.250000  2.593750  ...  17.593750  64.812500   \n",
       "1  34.108796  14.444444  6.666667  3.583333  ...  19.222222  70.111111   \n",
       "2  37.343112  12.107143  8.321429  5.392857  ...  20.071429  64.571429   \n",
       "3  35.407908  13.548387  5.290323  3.129032  ...  16.580645  68.354839   \n",
       "4  35.938776  11.542857  7.285714  4.657143  ...  22.200000  61.314286   \n",
       "\n",
       "   opnt_pt_pg  fg_pct  three_p_pct  ft_pct  wl_pct  conf_wl_pct    srs    sos  \n",
       "0   65.062500   0.471        0.377   0.705   0.500     0.375000   2.71   3.31  \n",
       "1   65.694444   0.430        0.361   0.704   0.639     0.562500   2.15  -1.02  \n",
       "2   66.785714   0.396        0.288   0.624   0.464     0.555556 -15.19 -11.75  \n",
       "3   62.580645   0.438        0.342   0.717   0.710     0.750000   8.55   2.78  \n",
       "4   63.828571   0.395        0.283   0.603   0.486     0.611111 -13.37 -10.31  \n",
       "\n",
       "[5 rows x 21 columns]"
      ]
     },
     "execution_count": 5,
     "metadata": {},
     "output_type": "execute_result"
    }
   ],
   "source": [
    "df_team.head(5)"
   ]
  },
  {
   "cell_type": "code",
   "execution_count": 6,
   "metadata": {},
   "outputs": [
    {
     "data": {
      "text/html": [
       "<div>\n",
       "<style scoped>\n",
       "    .dataframe tbody tr th:only-of-type {\n",
       "        vertical-align: middle;\n",
       "    }\n",
       "\n",
       "    .dataframe tbody tr th {\n",
       "        vertical-align: top;\n",
       "    }\n",
       "\n",
       "    .dataframe thead th {\n",
       "        text-align: right;\n",
       "    }\n",
       "</style>\n",
       "<table border=\"1\" class=\"dataframe\">\n",
       "  <thead>\n",
       "    <tr style=\"text-align: right;\">\n",
       "      <th></th>\n",
       "      <th>year</th>\n",
       "      <th>team_1_name</th>\n",
       "      <th>team_1_score</th>\n",
       "      <th>team_1_seed</th>\n",
       "      <th>team_2_name</th>\n",
       "      <th>team_2_score</th>\n",
       "      <th>team_2_seed</th>\n",
       "    </tr>\n",
       "  </thead>\n",
       "  <tbody>\n",
       "    <tr>\n",
       "      <th>0</th>\n",
       "      <td>2011</td>\n",
       "      <td>UTSA</td>\n",
       "      <td>46.0</td>\n",
       "      <td>16.0</td>\n",
       "      <td>Ohio State</td>\n",
       "      <td>75.0</td>\n",
       "      <td>1.0</td>\n",
       "    </tr>\n",
       "    <tr>\n",
       "      <th>1</th>\n",
       "      <td>2011</td>\n",
       "      <td>Villanova</td>\n",
       "      <td>57.0</td>\n",
       "      <td>9.0</td>\n",
       "      <td>George Mason</td>\n",
       "      <td>61.0</td>\n",
       "      <td>8.0</td>\n",
       "    </tr>\n",
       "    <tr>\n",
       "      <th>2</th>\n",
       "      <td>2011</td>\n",
       "      <td>Clemson</td>\n",
       "      <td>76.0</td>\n",
       "      <td>12.0</td>\n",
       "      <td>West Virginia</td>\n",
       "      <td>84.0</td>\n",
       "      <td>5.0</td>\n",
       "    </tr>\n",
       "    <tr>\n",
       "      <th>3</th>\n",
       "      <td>2011</td>\n",
       "      <td>Princeton</td>\n",
       "      <td>57.0</td>\n",
       "      <td>13.0</td>\n",
       "      <td>Kentucky</td>\n",
       "      <td>59.0</td>\n",
       "      <td>4.0</td>\n",
       "    </tr>\n",
       "    <tr>\n",
       "      <th>4</th>\n",
       "      <td>2011</td>\n",
       "      <td>Xavier</td>\n",
       "      <td>55.0</td>\n",
       "      <td>6.0</td>\n",
       "      <td>Marquette</td>\n",
       "      <td>66.0</td>\n",
       "      <td>11.0</td>\n",
       "    </tr>\n",
       "  </tbody>\n",
       "</table>\n",
       "</div>"
      ],
      "text/plain": [
       "   year team_1_name  team_1_score  team_1_seed    team_2_name  team_2_score  \\\n",
       "0  2011        UTSA          46.0         16.0     Ohio State          75.0   \n",
       "1  2011   Villanova          57.0          9.0   George Mason          61.0   \n",
       "2  2011     Clemson          76.0         12.0  West Virginia          84.0   \n",
       "3  2011   Princeton          57.0         13.0       Kentucky          59.0   \n",
       "4  2011      Xavier          55.0          6.0      Marquette          66.0   \n",
       "\n",
       "   team_2_seed  \n",
       "0          1.0  \n",
       "1          8.0  \n",
       "2          5.0  \n",
       "3          4.0  \n",
       "4         11.0  "
      ]
     },
     "execution_count": 6,
     "metadata": {},
     "output_type": "execute_result"
    }
   ],
   "source": [
    "df_ps_game.head(5)"
   ]
  },
  {
   "cell_type": "markdown",
   "metadata": {},
   "source": [
    "## Check for nulls"
   ]
  },
  {
   "cell_type": "code",
   "execution_count": 7,
   "metadata": {},
   "outputs": [
    {
     "data": {
      "text/plain": [
       "False"
      ]
     },
     "execution_count": 7,
     "metadata": {},
     "output_type": "execute_result"
    }
   ],
   "source": [
    "df_team.isnull().values.any()"
   ]
  },
  {
   "cell_type": "code",
   "execution_count": 8,
   "metadata": {},
   "outputs": [
    {
     "data": {
      "text/plain": [
       "False"
      ]
     },
     "execution_count": 8,
     "metadata": {},
     "output_type": "execute_result"
    }
   ],
   "source": [
    "df_ps_game.isnull().values.any()"
   ]
  },
  {
   "cell_type": "markdown",
   "metadata": {},
   "source": [
    "## How to query the dataframes for specific column values"
   ]
  },
  {
   "cell_type": "code",
   "execution_count": 9,
   "metadata": {},
   "outputs": [
    {
     "data": {
      "text/html": [
       "<div>\n",
       "<style scoped>\n",
       "    .dataframe tbody tr th:only-of-type {\n",
       "        vertical-align: middle;\n",
       "    }\n",
       "\n",
       "    .dataframe tbody tr th {\n",
       "        vertical-align: top;\n",
       "    }\n",
       "\n",
       "    .dataframe thead th {\n",
       "        text-align: right;\n",
       "    }\n",
       "</style>\n",
       "<table border=\"1\" class=\"dataframe\">\n",
       "  <thead>\n",
       "    <tr style=\"text-align: right;\">\n",
       "      <th></th>\n",
       "      <th>year</th>\n",
       "      <th>team_name</th>\n",
       "      <th>fg_pg</th>\n",
       "      <th>ft_pg</th>\n",
       "      <th>three_pt_pg</th>\n",
       "      <th>orb_pg</th>\n",
       "      <th>drb_pg</th>\n",
       "      <th>ast_pg</th>\n",
       "      <th>stl_pg</th>\n",
       "      <th>blk_pg</th>\n",
       "      <th>...</th>\n",
       "      <th>pf_pg</th>\n",
       "      <th>pt_pg</th>\n",
       "      <th>opnt_pt_pg</th>\n",
       "      <th>fg_pct</th>\n",
       "      <th>three_p_pct</th>\n",
       "      <th>ft_pct</th>\n",
       "      <th>wl_pct</th>\n",
       "      <th>conf_wl_pct</th>\n",
       "      <th>srs</th>\n",
       "      <th>sos</th>\n",
       "    </tr>\n",
       "  </thead>\n",
       "  <tbody>\n",
       "    <tr>\n",
       "      <th>0</th>\n",
       "      <td>2011.0</td>\n",
       "      <td>Air Force</td>\n",
       "      <td>22.5625</td>\n",
       "      <td>13.0625</td>\n",
       "      <td>6.625</td>\n",
       "      <td>5.84375</td>\n",
       "      <td>28.504883</td>\n",
       "      <td>15.4375</td>\n",
       "      <td>6.25</td>\n",
       "      <td>2.59375</td>\n",
       "      <td>...</td>\n",
       "      <td>17.59375</td>\n",
       "      <td>64.8125</td>\n",
       "      <td>65.0625</td>\n",
       "      <td>0.471</td>\n",
       "      <td>0.377</td>\n",
       "      <td>0.705</td>\n",
       "      <td>0.5</td>\n",
       "      <td>0.375</td>\n",
       "      <td>2.71</td>\n",
       "      <td>3.31</td>\n",
       "    </tr>\n",
       "  </tbody>\n",
       "</table>\n",
       "<p>1 rows × 21 columns</p>\n",
       "</div>"
      ],
      "text/plain": [
       "     year  team_name    fg_pg    ft_pg  three_pt_pg   orb_pg     drb_pg  \\\n",
       "0  2011.0  Air Force  22.5625  13.0625        6.625  5.84375  28.504883   \n",
       "\n",
       "    ast_pg  stl_pg   blk_pg  ...     pf_pg    pt_pg  opnt_pt_pg  fg_pct  \\\n",
       "0  15.4375    6.25  2.59375  ...  17.59375  64.8125     65.0625   0.471   \n",
       "\n",
       "   three_p_pct  ft_pct  wl_pct  conf_wl_pct   srs   sos  \n",
       "0        0.377   0.705     0.5        0.375  2.71  3.31  \n",
       "\n",
       "[1 rows x 21 columns]"
      ]
     },
     "execution_count": 9,
     "metadata": {},
     "output_type": "execute_result"
    }
   ],
   "source": [
    "df_team[(df_team['year'] == 2011) & (df_team['team_name'] == \"Air Force\")]"
   ]
  },
  {
   "cell_type": "markdown",
   "metadata": {},
   "source": [
    "## Get team stats for post-season games"
   ]
  },
  {
   "cell_type": "code",
   "execution_count": 10,
   "metadata": {},
   "outputs": [
    {
     "name": "stdout",
     "output_type": "stream",
     "text": [
      "2011\n",
      "LIU\n",
      "2011\n",
      "UNC Asheville\n",
      "2012\n",
      "UNC Asheville\n",
      "2012\n",
      "LIU\n",
      "2012\n",
      "Long Beach State\n",
      "2012\n",
      "NC State\n",
      "2012\n",
      "NC State\n",
      "2012\n",
      "NC State\n",
      "2013\n",
      "NC State\n",
      "2013\n",
      "California\n",
      "2013\n",
      "California\n",
      "2014\n",
      "NC State\n",
      "2015\n",
      "NC State\n",
      "2015\n",
      "NC State\n",
      "2015\n",
      "NC State\n",
      "2016\n",
      "UNC Wilmington\n",
      "2016\n",
      "California\n",
      "2016\n",
      "UNC Asheville\n",
      "2017\n",
      "UNC Wilmington\n",
      "2018\n",
      "Penn\n",
      "2018\n",
      "NC State\n",
      "2018\n",
      "TCU\n",
      "2018\n",
      "UMBC\n",
      "2018\n",
      "UMBC\n"
     ]
    }
   ],
   "source": [
    "import shared\n",
    "ps_team_stats_df = shared.get_team_stats_df(df_team, df_ps_game, True)"
   ]
  },
  {
   "cell_type": "code",
   "execution_count": 11,
   "metadata": {},
   "outputs": [
    {
     "data": {
      "text/html": [
       "<div>\n",
       "<style scoped>\n",
       "    .dataframe tbody tr th:only-of-type {\n",
       "        vertical-align: middle;\n",
       "    }\n",
       "\n",
       "    .dataframe tbody tr th {\n",
       "        vertical-align: top;\n",
       "    }\n",
       "\n",
       "    .dataframe thead th {\n",
       "        text-align: right;\n",
       "    }\n",
       "</style>\n",
       "<table border=\"1\" class=\"dataframe\">\n",
       "  <thead>\n",
       "    <tr style=\"text-align: right;\">\n",
       "      <th></th>\n",
       "      <th>team_name_1</th>\n",
       "      <th>fg_pg_1</th>\n",
       "      <th>ft_pg_1</th>\n",
       "      <th>three_pt_pg_1</th>\n",
       "      <th>orb_pg_1</th>\n",
       "      <th>drb_pg_1</th>\n",
       "      <th>ast_pg_1</th>\n",
       "      <th>stl_pg_1</th>\n",
       "      <th>blk_pg_1</th>\n",
       "      <th>tov_pg_1</th>\n",
       "      <th>...</th>\n",
       "      <th>pt_pg_2</th>\n",
       "      <th>opnt_pt_pg_2</th>\n",
       "      <th>fg_pct_2</th>\n",
       "      <th>three_p_pct_2</th>\n",
       "      <th>ft_pct_2</th>\n",
       "      <th>wl_pct_2</th>\n",
       "      <th>conf_wl_pct_2</th>\n",
       "      <th>srs_2</th>\n",
       "      <th>sos_2</th>\n",
       "      <th>t1_win</th>\n",
       "    </tr>\n",
       "  </thead>\n",
       "  <tbody>\n",
       "    <tr>\n",
       "      <th>0</th>\n",
       "      <td>Texas-San Antonio</td>\n",
       "      <td>23.588235</td>\n",
       "      <td>16.058824</td>\n",
       "      <td>6.882353</td>\n",
       "      <td>10.647059</td>\n",
       "      <td>34.569204</td>\n",
       "      <td>12.647059</td>\n",
       "      <td>7.058824</td>\n",
       "      <td>2.235294</td>\n",
       "      <td>13.558824</td>\n",
       "      <td>...</td>\n",
       "      <td>77.135135</td>\n",
       "      <td>59.675676</td>\n",
       "      <td>0.494</td>\n",
       "      <td>0.423</td>\n",
       "      <td>0.701</td>\n",
       "      <td>0.919</td>\n",
       "      <td>0.888889</td>\n",
       "      <td>25.84</td>\n",
       "      <td>8.38</td>\n",
       "      <td>False</td>\n",
       "    </tr>\n",
       "    <tr>\n",
       "      <th>1</th>\n",
       "      <td>Villanova</td>\n",
       "      <td>24.121212</td>\n",
       "      <td>17.636364</td>\n",
       "      <td>6.363636</td>\n",
       "      <td>12.181818</td>\n",
       "      <td>36.691460</td>\n",
       "      <td>13.636364</td>\n",
       "      <td>6.303030</td>\n",
       "      <td>3.787879</td>\n",
       "      <td>11.878788</td>\n",
       "      <td>...</td>\n",
       "      <td>72.764706</td>\n",
       "      <td>62.470588</td>\n",
       "      <td>0.471</td>\n",
       "      <td>0.395</td>\n",
       "      <td>0.689</td>\n",
       "      <td>0.794</td>\n",
       "      <td>0.888889</td>\n",
       "      <td>11.66</td>\n",
       "      <td>1.37</td>\n",
       "      <td>False</td>\n",
       "    </tr>\n",
       "    <tr>\n",
       "      <th>2</th>\n",
       "      <td>Clemson</td>\n",
       "      <td>23.823529</td>\n",
       "      <td>14.500000</td>\n",
       "      <td>6.382353</td>\n",
       "      <td>11.294118</td>\n",
       "      <td>34.285467</td>\n",
       "      <td>13.088235</td>\n",
       "      <td>8.000000</td>\n",
       "      <td>4.735294</td>\n",
       "      <td>13.205882</td>\n",
       "      <td>...</td>\n",
       "      <td>69.787879</td>\n",
       "      <td>64.666667</td>\n",
       "      <td>0.429</td>\n",
       "      <td>0.337</td>\n",
       "      <td>0.711</td>\n",
       "      <td>0.636</td>\n",
       "      <td>0.611111</td>\n",
       "      <td>16.15</td>\n",
       "      <td>11.03</td>\n",
       "      <td>False</td>\n",
       "    </tr>\n",
       "    <tr>\n",
       "      <th>3</th>\n",
       "      <td>Princeton</td>\n",
       "      <td>24.625000</td>\n",
       "      <td>13.937500</td>\n",
       "      <td>6.031250</td>\n",
       "      <td>9.843750</td>\n",
       "      <td>34.223633</td>\n",
       "      <td>13.343750</td>\n",
       "      <td>5.968750</td>\n",
       "      <td>4.187500</td>\n",
       "      <td>12.156250</td>\n",
       "      <td>...</td>\n",
       "      <td>74.868421</td>\n",
       "      <td>63.473684</td>\n",
       "      <td>0.459</td>\n",
       "      <td>0.397</td>\n",
       "      <td>0.710</td>\n",
       "      <td>0.763</td>\n",
       "      <td>0.625000</td>\n",
       "      <td>20.30</td>\n",
       "      <td>8.91</td>\n",
       "      <td>False</td>\n",
       "    </tr>\n",
       "    <tr>\n",
       "      <th>4</th>\n",
       "      <td>Xavier</td>\n",
       "      <td>24.500000</td>\n",
       "      <td>17.656250</td>\n",
       "      <td>5.406250</td>\n",
       "      <td>10.250000</td>\n",
       "      <td>34.992188</td>\n",
       "      <td>13.250000</td>\n",
       "      <td>5.437500</td>\n",
       "      <td>3.062500</td>\n",
       "      <td>12.062500</td>\n",
       "      <td>...</td>\n",
       "      <td>75.189189</td>\n",
       "      <td>68.810811</td>\n",
       "      <td>0.465</td>\n",
       "      <td>0.349</td>\n",
       "      <td>0.696</td>\n",
       "      <td>0.595</td>\n",
       "      <td>0.500000</td>\n",
       "      <td>14.89</td>\n",
       "      <td>8.51</td>\n",
       "      <td>False</td>\n",
       "    </tr>\n",
       "  </tbody>\n",
       "</table>\n",
       "<p>5 rows × 41 columns</p>\n",
       "</div>"
      ],
      "text/plain": [
       "         team_name_1    fg_pg_1    ft_pg_1  three_pt_pg_1   orb_pg_1  \\\n",
       "0  Texas-San Antonio  23.588235  16.058824       6.882353  10.647059   \n",
       "1          Villanova  24.121212  17.636364       6.363636  12.181818   \n",
       "2            Clemson  23.823529  14.500000       6.382353  11.294118   \n",
       "3          Princeton  24.625000  13.937500       6.031250   9.843750   \n",
       "4             Xavier  24.500000  17.656250       5.406250  10.250000   \n",
       "\n",
       "    drb_pg_1   ast_pg_1  stl_pg_1  blk_pg_1   tov_pg_1  ...    pt_pg_2  \\\n",
       "0  34.569204  12.647059  7.058824  2.235294  13.558824  ...  77.135135   \n",
       "1  36.691460  13.636364  6.303030  3.787879  11.878788  ...  72.764706   \n",
       "2  34.285467  13.088235  8.000000  4.735294  13.205882  ...  69.787879   \n",
       "3  34.223633  13.343750  5.968750  4.187500  12.156250  ...  74.868421   \n",
       "4  34.992188  13.250000  5.437500  3.062500  12.062500  ...  75.189189   \n",
       "\n",
       "   opnt_pt_pg_2  fg_pct_2  three_p_pct_2  ft_pct_2  wl_pct_2  conf_wl_pct_2  \\\n",
       "0     59.675676     0.494          0.423     0.701     0.919       0.888889   \n",
       "1     62.470588     0.471          0.395     0.689     0.794       0.888889   \n",
       "2     64.666667     0.429          0.337     0.711     0.636       0.611111   \n",
       "3     63.473684     0.459          0.397     0.710     0.763       0.625000   \n",
       "4     68.810811     0.465          0.349     0.696     0.595       0.500000   \n",
       "\n",
       "   srs_2  sos_2  t1_win  \n",
       "0  25.84   8.38   False  \n",
       "1  11.66   1.37   False  \n",
       "2  16.15  11.03   False  \n",
       "3  20.30   8.91   False  \n",
       "4  14.89   8.51   False  \n",
       "\n",
       "[5 rows x 41 columns]"
      ]
     },
     "execution_count": 11,
     "metadata": {},
     "output_type": "execute_result"
    }
   ],
   "source": [
    "ps_team_stats_df.head(5)"
   ]
  },
  {
   "cell_type": "markdown",
   "metadata": {},
   "source": [
    "## Concat the team stats with the post-season game data"
   ]
  },
  {
   "cell_type": "code",
   "execution_count": 12,
   "metadata": {},
   "outputs": [],
   "source": [
    "ps_game_w_team_stats = pd.concat([df_ps_game, ps_team_stats_df], axis=1, join='inner')"
   ]
  },
  {
   "cell_type": "code",
   "execution_count": 13,
   "metadata": {},
   "outputs": [
    {
     "data": {
      "text/html": [
       "<div>\n",
       "<style scoped>\n",
       "    .dataframe tbody tr th:only-of-type {\n",
       "        vertical-align: middle;\n",
       "    }\n",
       "\n",
       "    .dataframe tbody tr th {\n",
       "        vertical-align: top;\n",
       "    }\n",
       "\n",
       "    .dataframe thead th {\n",
       "        text-align: right;\n",
       "    }\n",
       "</style>\n",
       "<table border=\"1\" class=\"dataframe\">\n",
       "  <thead>\n",
       "    <tr style=\"text-align: right;\">\n",
       "      <th></th>\n",
       "      <th>year</th>\n",
       "      <th>team_1_name</th>\n",
       "      <th>team_1_score</th>\n",
       "      <th>team_1_seed</th>\n",
       "      <th>team_2_name</th>\n",
       "      <th>team_2_score</th>\n",
       "      <th>team_2_seed</th>\n",
       "      <th>team_name_1</th>\n",
       "      <th>fg_pg_1</th>\n",
       "      <th>ft_pg_1</th>\n",
       "      <th>...</th>\n",
       "      <th>pt_pg_2</th>\n",
       "      <th>opnt_pt_pg_2</th>\n",
       "      <th>fg_pct_2</th>\n",
       "      <th>three_p_pct_2</th>\n",
       "      <th>ft_pct_2</th>\n",
       "      <th>wl_pct_2</th>\n",
       "      <th>conf_wl_pct_2</th>\n",
       "      <th>srs_2</th>\n",
       "      <th>sos_2</th>\n",
       "      <th>t1_win</th>\n",
       "    </tr>\n",
       "  </thead>\n",
       "  <tbody>\n",
       "    <tr>\n",
       "      <th>0</th>\n",
       "      <td>2011</td>\n",
       "      <td>UTSA</td>\n",
       "      <td>46.0</td>\n",
       "      <td>16.0</td>\n",
       "      <td>Ohio State</td>\n",
       "      <td>75.0</td>\n",
       "      <td>1.0</td>\n",
       "      <td>Texas-San Antonio</td>\n",
       "      <td>23.588235</td>\n",
       "      <td>16.058824</td>\n",
       "      <td>...</td>\n",
       "      <td>77.135135</td>\n",
       "      <td>59.675676</td>\n",
       "      <td>0.494</td>\n",
       "      <td>0.423</td>\n",
       "      <td>0.701</td>\n",
       "      <td>0.919</td>\n",
       "      <td>0.888889</td>\n",
       "      <td>25.84</td>\n",
       "      <td>8.38</td>\n",
       "      <td>False</td>\n",
       "    </tr>\n",
       "    <tr>\n",
       "      <th>1</th>\n",
       "      <td>2011</td>\n",
       "      <td>Villanova</td>\n",
       "      <td>57.0</td>\n",
       "      <td>9.0</td>\n",
       "      <td>George Mason</td>\n",
       "      <td>61.0</td>\n",
       "      <td>8.0</td>\n",
       "      <td>Villanova</td>\n",
       "      <td>24.121212</td>\n",
       "      <td>17.636364</td>\n",
       "      <td>...</td>\n",
       "      <td>72.764706</td>\n",
       "      <td>62.470588</td>\n",
       "      <td>0.471</td>\n",
       "      <td>0.395</td>\n",
       "      <td>0.689</td>\n",
       "      <td>0.794</td>\n",
       "      <td>0.888889</td>\n",
       "      <td>11.66</td>\n",
       "      <td>1.37</td>\n",
       "      <td>False</td>\n",
       "    </tr>\n",
       "    <tr>\n",
       "      <th>2</th>\n",
       "      <td>2011</td>\n",
       "      <td>Clemson</td>\n",
       "      <td>76.0</td>\n",
       "      <td>12.0</td>\n",
       "      <td>West Virginia</td>\n",
       "      <td>84.0</td>\n",
       "      <td>5.0</td>\n",
       "      <td>Clemson</td>\n",
       "      <td>23.823529</td>\n",
       "      <td>14.500000</td>\n",
       "      <td>...</td>\n",
       "      <td>69.787879</td>\n",
       "      <td>64.666667</td>\n",
       "      <td>0.429</td>\n",
       "      <td>0.337</td>\n",
       "      <td>0.711</td>\n",
       "      <td>0.636</td>\n",
       "      <td>0.611111</td>\n",
       "      <td>16.15</td>\n",
       "      <td>11.03</td>\n",
       "      <td>False</td>\n",
       "    </tr>\n",
       "  </tbody>\n",
       "</table>\n",
       "<p>3 rows × 48 columns</p>\n",
       "</div>"
      ],
      "text/plain": [
       "   year team_1_name  team_1_score  team_1_seed    team_2_name  team_2_score  \\\n",
       "0  2011        UTSA          46.0         16.0     Ohio State          75.0   \n",
       "1  2011   Villanova          57.0          9.0   George Mason          61.0   \n",
       "2  2011     Clemson          76.0         12.0  West Virginia          84.0   \n",
       "\n",
       "   team_2_seed        team_name_1    fg_pg_1    ft_pg_1  ...    pt_pg_2  \\\n",
       "0          1.0  Texas-San Antonio  23.588235  16.058824  ...  77.135135   \n",
       "1          8.0          Villanova  24.121212  17.636364  ...  72.764706   \n",
       "2          5.0            Clemson  23.823529  14.500000  ...  69.787879   \n",
       "\n",
       "   opnt_pt_pg_2  fg_pct_2  three_p_pct_2  ft_pct_2  wl_pct_2  conf_wl_pct_2  \\\n",
       "0     59.675676     0.494          0.423     0.701     0.919       0.888889   \n",
       "1     62.470588     0.471          0.395     0.689     0.794       0.888889   \n",
       "2     64.666667     0.429          0.337     0.711     0.636       0.611111   \n",
       "\n",
       "   srs_2  sos_2  t1_win  \n",
       "0  25.84   8.38   False  \n",
       "1  11.66   1.37   False  \n",
       "2  16.15  11.03   False  \n",
       "\n",
       "[3 rows x 48 columns]"
      ]
     },
     "execution_count": 13,
     "metadata": {},
     "output_type": "execute_result"
    }
   ],
   "source": [
    "ps_game_w_team_stats.head(3)"
   ]
  },
  {
   "cell_type": "code",
   "execution_count": 14,
   "metadata": {},
   "outputs": [
    {
     "data": {
      "text/plain": [
       "(605, 48)"
      ]
     },
     "execution_count": 14,
     "metadata": {},
     "output_type": "execute_result"
    }
   ],
   "source": [
    "\n",
    "ps_game_w_team_stats.shape"
   ]
  },
  {
   "cell_type": "markdown",
   "metadata": {},
   "source": [
    "## Check true/false ration"
   ]
  },
  {
   "cell_type": "code",
   "execution_count": 15,
   "metadata": {},
   "outputs": [
    {
     "name": "stdout",
     "output_type": "stream",
     "text": [
      "Number of True cases: 297 (49.09%)\n",
      "Number of False cases: 308 (50.91%)\n"
     ]
    }
   ],
   "source": [
    "t1_win_map = {True:1, False:0}\n",
    "ps_game_w_team_stats['t1_win'] = ps_game_w_team_stats['t1_win'].map(t1_win_map)\n",
    "num_true = len(ps_game_w_team_stats.loc[ps_game_w_team_stats['t1_win'] == True])\n",
    "num_false = len(ps_game_w_team_stats.loc[ps_game_w_team_stats['t1_win'] == False])\n",
    "print(\"Number of True cases: {0} ({1:2.2f}%)\".format(num_true, (num_true/(num_true+num_false))*100))\n",
    "print(\"Number of False cases: {0} ({1:2.2f}%)\".format(num_false, (num_false/(num_true+num_false))*100))"
   ]
  },
  {
   "cell_type": "markdown",
   "metadata": {},
   "source": [
    "## Setup training, validation, and testing splits"
   ]
  },
  {
   "cell_type": "code",
   "execution_count": 16,
   "metadata": {},
   "outputs": [],
   "source": [
    "import sklearn.model_selection\n",
    "\n",
    "ps_predict_class_names = ['t1_win']\n",
    "ps_x = ps_game_w_team_stats[shared.ps_feature_col_names].values\n",
    "ps_y = ps_game_w_team_stats[shared.ps_predict_class_names].values\n",
    "split_test_size = 0.30\n",
    "\n",
    "ps_x_train, ps_x_test, ps_y_train, ps_y_test = sklearn.model_selection.train_test_split(ps_x, ps_y, test_size=split_test_size, random_state=42)"
   ]
  },
  {
   "cell_type": "code",
   "execution_count": 17,
   "metadata": {},
   "outputs": [
    {
     "name": "stdout",
     "output_type": "stream",
     "text": [
      "69.92% in training set\n",
      "30.08% in test set\n"
     ]
    }
   ],
   "source": [
    "print(\"{0:0.2f}% in training set\".format((len(ps_x_train)/len(ps_game_w_team_stats.index))*100))\n",
    "print(\"{0:0.2f}% in test set\".format((len(ps_x_test)/len(ps_game_w_team_stats.index))*100))"
   ]
  },
  {
   "cell_type": "markdown",
   "metadata": {},
   "source": [
    "## Imput with the mean"
   ]
  },
  {
   "cell_type": "code",
   "execution_count": 18,
   "metadata": {},
   "outputs": [],
   "source": [
    "import sklearn.impute\n",
    "\n",
    "#Impute with mean all 0 readings\n",
    "fill_0 = sklearn.impute.SimpleImputer(missing_values=0, strategy=\"mean\")\n",
    "\n",
    "ps_x_train = fill_0.fit_transform(ps_x_train)\n",
    "ps_x_test = fill_0.fit_transform(ps_x_test)\n",
    "\n",
    "# TODO : impute incorrect negative values such anything other than (SOS and SRS"
   ]
  },
  {
   "cell_type": "markdown",
   "metadata": {},
   "source": [
    "## Training Baive Bayes mode"
   ]
  },
  {
   "cell_type": "code",
   "execution_count": 19,
   "metadata": {},
   "outputs": [
    {
     "data": {
      "text/plain": [
       "GaussianNB()"
      ]
     },
     "execution_count": 19,
     "metadata": {},
     "output_type": "execute_result"
    }
   ],
   "source": [
    "from sklearn.naive_bayes import GaussianNB\n",
    "\n",
    "ps_nb_model = GaussianNB()\n",
    "ps_nb_model.fit(ps_x_train, ps_y_train.ravel())"
   ]
  },
  {
   "cell_type": "markdown",
   "metadata": {},
   "source": [
    "### Perfrormance on Testing Data"
   ]
  },
  {
   "cell_type": "code",
   "execution_count": 20,
   "metadata": {},
   "outputs": [
    {
     "name": "stdout",
     "output_type": "stream",
     "text": [
      "Accuracy: 0.7473\n"
     ]
    }
   ],
   "source": [
    "\n",
    "ps_nb_predict_test = ps_nb_model.predict(ps_x_test)\n",
    "from sklearn import metrics\n",
    "print(\"Accuracy: {0:.4f}\".format(metrics.accuracy_score(ps_y_test, ps_nb_predict_test)))"
   ]
  },
  {
   "cell_type": "code",
   "execution_count": 21,
   "metadata": {},
   "outputs": [
    {
     "name": "stdout",
     "output_type": "stream",
     "text": [
      "Ps - Confusion Matrix\n",
      "[[67 15]\n",
      " [31 69]]\n",
      "\n",
      "PS -Classification Report\n",
      "              precision    recall  f1-score   support\n",
      "\n",
      "           1       0.68      0.82      0.74        82\n",
      "           0       0.82      0.69      0.75       100\n",
      "\n",
      "    accuracy                           0.75       182\n",
      "   macro avg       0.75      0.75      0.75       182\n",
      "weighted avg       0.76      0.75      0.75       182\n",
      "\n"
     ]
    }
   ],
   "source": [
    "print(\"Ps - Confusion Matrix\")\n",
    "\n",
    "print(\"{0}\".format(metrics.confusion_matrix(ps_y_test, ps_nb_predict_test, labels=[1, 0])))\n",
    "print(\"\")\n",
    "\n",
    "print(\"PS -Classification Report\")\n",
    "print(metrics.classification_report(ps_y_test, ps_nb_predict_test, labels=[1, 0]))"
   ]
  },
  {
   "cell_type": "markdown",
   "metadata": {},
   "source": [
    "## Random Forsest"
   ]
  },
  {
   "cell_type": "code",
   "execution_count": 22,
   "metadata": {},
   "outputs": [
    {
     "data": {
      "text/plain": [
       "RandomForestClassifier(random_state=42)"
      ]
     },
     "execution_count": 22,
     "metadata": {},
     "output_type": "execute_result"
    }
   ],
   "source": [
    "from sklearn.ensemble import RandomForestClassifier\n",
    "ps_rf_model = RandomForestClassifier(random_state=42)\n",
    "ps_rf_model.fit(ps_x_train, ps_y_train.ravel())"
   ]
  },
  {
   "cell_type": "code",
   "execution_count": 23,
   "metadata": {},
   "outputs": [
    {
     "name": "stdout",
     "output_type": "stream",
     "text": [
      "Accuracy: 0.7198\n"
     ]
    }
   ],
   "source": [
    "ps_rf_predict_test = ps_rf_model.predict(ps_x_test)\n",
    "from sklearn import metrics\n",
    "print(\"Accuracy: {0:.4f}\".format(metrics.accuracy_score(ps_y_test, ps_rf_predict_test))) # Will be low because of over-fitting"
   ]
  },
  {
   "cell_type": "markdown",
   "metadata": {},
   "source": [
    "## Logistic Regression"
   ]
  },
  {
   "cell_type": "code",
   "execution_count": 24,
   "metadata": {},
   "outputs": [
    {
     "name": "stderr",
     "output_type": "stream",
     "text": [
      "/Users/njp020/Library/Caches/pypoetry/virtualenvs/machinelearningmarchmadness-Ra9ZsL2z-py3.9/lib/python3.9/site-packages/sklearn/linear_model/_logistic.py:814: ConvergenceWarning: lbfgs failed to converge (status=1):\n",
      "STOP: TOTAL NO. of ITERATIONS REACHED LIMIT.\n",
      "\n",
      "Increase the number of iterations (max_iter) or scale the data as shown in:\n",
      "    https://scikit-learn.org/stable/modules/preprocessing.html\n",
      "Please also refer to the documentation for alternative solver options:\n",
      "    https://scikit-learn.org/stable/modules/linear_model.html#logistic-regression\n",
      "  n_iter_i = _check_optimize_result(\n",
      "/Users/njp020/Library/Caches/pypoetry/virtualenvs/machinelearningmarchmadness-Ra9ZsL2z-py3.9/lib/python3.9/site-packages/sklearn/linear_model/_logistic.py:814: ConvergenceWarning: lbfgs failed to converge (status=1):\n",
      "STOP: TOTAL NO. of ITERATIONS REACHED LIMIT.\n",
      "\n",
      "Increase the number of iterations (max_iter) or scale the data as shown in:\n",
      "    https://scikit-learn.org/stable/modules/preprocessing.html\n",
      "Please also refer to the documentation for alternative solver options:\n",
      "    https://scikit-learn.org/stable/modules/linear_model.html#logistic-regression\n",
      "  n_iter_i = _check_optimize_result(\n",
      "/Users/njp020/Library/Caches/pypoetry/virtualenvs/machinelearningmarchmadness-Ra9ZsL2z-py3.9/lib/python3.9/site-packages/sklearn/linear_model/_logistic.py:814: ConvergenceWarning: lbfgs failed to converge (status=1):\n",
      "STOP: TOTAL NO. of ITERATIONS REACHED LIMIT.\n",
      "\n",
      "Increase the number of iterations (max_iter) or scale the data as shown in:\n",
      "    https://scikit-learn.org/stable/modules/preprocessing.html\n",
      "Please also refer to the documentation for alternative solver options:\n",
      "    https://scikit-learn.org/stable/modules/linear_model.html#logistic-regression\n",
      "  n_iter_i = _check_optimize_result(\n",
      "/Users/njp020/Library/Caches/pypoetry/virtualenvs/machinelearningmarchmadness-Ra9ZsL2z-py3.9/lib/python3.9/site-packages/sklearn/linear_model/_logistic.py:814: ConvergenceWarning: lbfgs failed to converge (status=1):\n",
      "STOP: TOTAL NO. of ITERATIONS REACHED LIMIT.\n",
      "\n",
      "Increase the number of iterations (max_iter) or scale the data as shown in:\n",
      "    https://scikit-learn.org/stable/modules/preprocessing.html\n",
      "Please also refer to the documentation for alternative solver options:\n",
      "    https://scikit-learn.org/stable/modules/linear_model.html#logistic-regression\n",
      "  n_iter_i = _check_optimize_result(\n",
      "/Users/njp020/Library/Caches/pypoetry/virtualenvs/machinelearningmarchmadness-Ra9ZsL2z-py3.9/lib/python3.9/site-packages/sklearn/linear_model/_logistic.py:814: ConvergenceWarning: lbfgs failed to converge (status=1):\n",
      "STOP: TOTAL NO. of ITERATIONS REACHED LIMIT.\n",
      "\n",
      "Increase the number of iterations (max_iter) or scale the data as shown in:\n",
      "    https://scikit-learn.org/stable/modules/preprocessing.html\n",
      "Please also refer to the documentation for alternative solver options:\n",
      "    https://scikit-learn.org/stable/modules/linear_model.html#logistic-regression\n",
      "  n_iter_i = _check_optimize_result(\n",
      "/Users/njp020/Library/Caches/pypoetry/virtualenvs/machinelearningmarchmadness-Ra9ZsL2z-py3.9/lib/python3.9/site-packages/sklearn/linear_model/_logistic.py:814: ConvergenceWarning: lbfgs failed to converge (status=1):\n",
      "STOP: TOTAL NO. of ITERATIONS REACHED LIMIT.\n",
      "\n",
      "Increase the number of iterations (max_iter) or scale the data as shown in:\n",
      "    https://scikit-learn.org/stable/modules/preprocessing.html\n",
      "Please also refer to the documentation for alternative solver options:\n",
      "    https://scikit-learn.org/stable/modules/linear_model.html#logistic-regression\n",
      "  n_iter_i = _check_optimize_result(\n",
      "/Users/njp020/Library/Caches/pypoetry/virtualenvs/machinelearningmarchmadness-Ra9ZsL2z-py3.9/lib/python3.9/site-packages/sklearn/linear_model/_logistic.py:814: ConvergenceWarning: lbfgs failed to converge (status=1):\n",
      "STOP: TOTAL NO. of ITERATIONS REACHED LIMIT.\n",
      "\n",
      "Increase the number of iterations (max_iter) or scale the data as shown in:\n",
      "    https://scikit-learn.org/stable/modules/preprocessing.html\n",
      "Please also refer to the documentation for alternative solver options:\n",
      "    https://scikit-learn.org/stable/modules/linear_model.html#logistic-regression\n",
      "  n_iter_i = _check_optimize_result(\n",
      "/Users/njp020/Library/Caches/pypoetry/virtualenvs/machinelearningmarchmadness-Ra9ZsL2z-py3.9/lib/python3.9/site-packages/sklearn/linear_model/_logistic.py:814: ConvergenceWarning: lbfgs failed to converge (status=1):\n",
      "STOP: TOTAL NO. of ITERATIONS REACHED LIMIT.\n",
      "\n",
      "Increase the number of iterations (max_iter) or scale the data as shown in:\n",
      "    https://scikit-learn.org/stable/modules/preprocessing.html\n",
      "Please also refer to the documentation for alternative solver options:\n",
      "    https://scikit-learn.org/stable/modules/linear_model.html#logistic-regression\n",
      "  n_iter_i = _check_optimize_result(\n",
      "/Users/njp020/Library/Caches/pypoetry/virtualenvs/machinelearningmarchmadness-Ra9ZsL2z-py3.9/lib/python3.9/site-packages/sklearn/linear_model/_logistic.py:814: ConvergenceWarning: lbfgs failed to converge (status=1):\n",
      "STOP: TOTAL NO. of ITERATIONS REACHED LIMIT.\n",
      "\n",
      "Increase the number of iterations (max_iter) or scale the data as shown in:\n",
      "    https://scikit-learn.org/stable/modules/preprocessing.html\n",
      "Please also refer to the documentation for alternative solver options:\n",
      "    https://scikit-learn.org/stable/modules/linear_model.html#logistic-regression\n",
      "  n_iter_i = _check_optimize_result(\n",
      "/Users/njp020/Library/Caches/pypoetry/virtualenvs/machinelearningmarchmadness-Ra9ZsL2z-py3.9/lib/python3.9/site-packages/sklearn/linear_model/_logistic.py:814: ConvergenceWarning: lbfgs failed to converge (status=1):\n",
      "STOP: TOTAL NO. of ITERATIONS REACHED LIMIT.\n",
      "\n",
      "Increase the number of iterations (max_iter) or scale the data as shown in:\n",
      "    https://scikit-learn.org/stable/modules/preprocessing.html\n",
      "Please also refer to the documentation for alternative solver options:\n",
      "    https://scikit-learn.org/stable/modules/linear_model.html#logistic-regression\n",
      "  n_iter_i = _check_optimize_result(\n",
      "/Users/njp020/Library/Caches/pypoetry/virtualenvs/machinelearningmarchmadness-Ra9ZsL2z-py3.9/lib/python3.9/site-packages/sklearn/linear_model/_logistic.py:814: ConvergenceWarning: lbfgs failed to converge (status=1):\n",
      "STOP: TOTAL NO. of ITERATIONS REACHED LIMIT.\n",
      "\n",
      "Increase the number of iterations (max_iter) or scale the data as shown in:\n",
      "    https://scikit-learn.org/stable/modules/preprocessing.html\n",
      "Please also refer to the documentation for alternative solver options:\n",
      "    https://scikit-learn.org/stable/modules/linear_model.html#logistic-regression\n",
      "  n_iter_i = _check_optimize_result(\n",
      "/Users/njp020/Library/Caches/pypoetry/virtualenvs/machinelearningmarchmadness-Ra9ZsL2z-py3.9/lib/python3.9/site-packages/sklearn/linear_model/_logistic.py:814: ConvergenceWarning: lbfgs failed to converge (status=1):\n",
      "STOP: TOTAL NO. of ITERATIONS REACHED LIMIT.\n",
      "\n",
      "Increase the number of iterations (max_iter) or scale the data as shown in:\n",
      "    https://scikit-learn.org/stable/modules/preprocessing.html\n",
      "Please also refer to the documentation for alternative solver options:\n",
      "    https://scikit-learn.org/stable/modules/linear_model.html#logistic-regression\n",
      "  n_iter_i = _check_optimize_result(\n",
      "/Users/njp020/Library/Caches/pypoetry/virtualenvs/machinelearningmarchmadness-Ra9ZsL2z-py3.9/lib/python3.9/site-packages/sklearn/linear_model/_logistic.py:814: ConvergenceWarning: lbfgs failed to converge (status=1):\n",
      "STOP: TOTAL NO. of ITERATIONS REACHED LIMIT.\n",
      "\n",
      "Increase the number of iterations (max_iter) or scale the data as shown in:\n",
      "    https://scikit-learn.org/stable/modules/preprocessing.html\n",
      "Please also refer to the documentation for alternative solver options:\n",
      "    https://scikit-learn.org/stable/modules/linear_model.html#logistic-regression\n",
      "  n_iter_i = _check_optimize_result(\n",
      "/Users/njp020/Library/Caches/pypoetry/virtualenvs/machinelearningmarchmadness-Ra9ZsL2z-py3.9/lib/python3.9/site-packages/sklearn/linear_model/_logistic.py:814: ConvergenceWarning: lbfgs failed to converge (status=1):\n",
      "STOP: TOTAL NO. of ITERATIONS REACHED LIMIT.\n",
      "\n",
      "Increase the number of iterations (max_iter) or scale the data as shown in:\n",
      "    https://scikit-learn.org/stable/modules/preprocessing.html\n",
      "Please also refer to the documentation for alternative solver options:\n",
      "    https://scikit-learn.org/stable/modules/linear_model.html#logistic-regression\n",
      "  n_iter_i = _check_optimize_result(\n",
      "/Users/njp020/Library/Caches/pypoetry/virtualenvs/machinelearningmarchmadness-Ra9ZsL2z-py3.9/lib/python3.9/site-packages/sklearn/linear_model/_logistic.py:814: ConvergenceWarning: lbfgs failed to converge (status=1):\n",
      "STOP: TOTAL NO. of ITERATIONS REACHED LIMIT.\n",
      "\n",
      "Increase the number of iterations (max_iter) or scale the data as shown in:\n",
      "    https://scikit-learn.org/stable/modules/preprocessing.html\n",
      "Please also refer to the documentation for alternative solver options:\n",
      "    https://scikit-learn.org/stable/modules/linear_model.html#logistic-regression\n",
      "  n_iter_i = _check_optimize_result(\n",
      "/Users/njp020/Library/Caches/pypoetry/virtualenvs/machinelearningmarchmadness-Ra9ZsL2z-py3.9/lib/python3.9/site-packages/sklearn/linear_model/_logistic.py:814: ConvergenceWarning: lbfgs failed to converge (status=1):\n",
      "STOP: TOTAL NO. of ITERATIONS REACHED LIMIT.\n",
      "\n",
      "Increase the number of iterations (max_iter) or scale the data as shown in:\n",
      "    https://scikit-learn.org/stable/modules/preprocessing.html\n",
      "Please also refer to the documentation for alternative solver options:\n",
      "    https://scikit-learn.org/stable/modules/linear_model.html#logistic-regression\n",
      "  n_iter_i = _check_optimize_result(\n",
      "/Users/njp020/Library/Caches/pypoetry/virtualenvs/machinelearningmarchmadness-Ra9ZsL2z-py3.9/lib/python3.9/site-packages/sklearn/linear_model/_logistic.py:814: ConvergenceWarning: lbfgs failed to converge (status=1):\n",
      "STOP: TOTAL NO. of ITERATIONS REACHED LIMIT.\n",
      "\n",
      "Increase the number of iterations (max_iter) or scale the data as shown in:\n",
      "    https://scikit-learn.org/stable/modules/preprocessing.html\n",
      "Please also refer to the documentation for alternative solver options:\n",
      "    https://scikit-learn.org/stable/modules/linear_model.html#logistic-regression\n",
      "  n_iter_i = _check_optimize_result(\n",
      "/Users/njp020/Library/Caches/pypoetry/virtualenvs/machinelearningmarchmadness-Ra9ZsL2z-py3.9/lib/python3.9/site-packages/sklearn/linear_model/_logistic.py:814: ConvergenceWarning: lbfgs failed to converge (status=1):\n",
      "STOP: TOTAL NO. of ITERATIONS REACHED LIMIT.\n",
      "\n",
      "Increase the number of iterations (max_iter) or scale the data as shown in:\n",
      "    https://scikit-learn.org/stable/modules/preprocessing.html\n",
      "Please also refer to the documentation for alternative solver options:\n",
      "    https://scikit-learn.org/stable/modules/linear_model.html#logistic-regression\n",
      "  n_iter_i = _check_optimize_result(\n",
      "/Users/njp020/Library/Caches/pypoetry/virtualenvs/machinelearningmarchmadness-Ra9ZsL2z-py3.9/lib/python3.9/site-packages/sklearn/linear_model/_logistic.py:814: ConvergenceWarning: lbfgs failed to converge (status=1):\n",
      "STOP: TOTAL NO. of ITERATIONS REACHED LIMIT.\n",
      "\n",
      "Increase the number of iterations (max_iter) or scale the data as shown in:\n",
      "    https://scikit-learn.org/stable/modules/preprocessing.html\n",
      "Please also refer to the documentation for alternative solver options:\n",
      "    https://scikit-learn.org/stable/modules/linear_model.html#logistic-regression\n",
      "  n_iter_i = _check_optimize_result(\n"
     ]
    },
    {
     "name": "stderr",
     "output_type": "stream",
     "text": [
      "/Users/njp020/Library/Caches/pypoetry/virtualenvs/machinelearningmarchmadness-Ra9ZsL2z-py3.9/lib/python3.9/site-packages/sklearn/linear_model/_logistic.py:814: ConvergenceWarning: lbfgs failed to converge (status=1):\n",
      "STOP: TOTAL NO. of ITERATIONS REACHED LIMIT.\n",
      "\n",
      "Increase the number of iterations (max_iter) or scale the data as shown in:\n",
      "    https://scikit-learn.org/stable/modules/preprocessing.html\n",
      "Please also refer to the documentation for alternative solver options:\n",
      "    https://scikit-learn.org/stable/modules/linear_model.html#logistic-regression\n",
      "  n_iter_i = _check_optimize_result(\n",
      "/Users/njp020/Library/Caches/pypoetry/virtualenvs/machinelearningmarchmadness-Ra9ZsL2z-py3.9/lib/python3.9/site-packages/sklearn/linear_model/_logistic.py:814: ConvergenceWarning: lbfgs failed to converge (status=1):\n",
      "STOP: TOTAL NO. of ITERATIONS REACHED LIMIT.\n",
      "\n",
      "Increase the number of iterations (max_iter) or scale the data as shown in:\n",
      "    https://scikit-learn.org/stable/modules/preprocessing.html\n",
      "Please also refer to the documentation for alternative solver options:\n",
      "    https://scikit-learn.org/stable/modules/linear_model.html#logistic-regression\n",
      "  n_iter_i = _check_optimize_result(\n",
      "/Users/njp020/Library/Caches/pypoetry/virtualenvs/machinelearningmarchmadness-Ra9ZsL2z-py3.9/lib/python3.9/site-packages/sklearn/linear_model/_logistic.py:814: ConvergenceWarning: lbfgs failed to converge (status=1):\n",
      "STOP: TOTAL NO. of ITERATIONS REACHED LIMIT.\n",
      "\n",
      "Increase the number of iterations (max_iter) or scale the data as shown in:\n",
      "    https://scikit-learn.org/stable/modules/preprocessing.html\n",
      "Please also refer to the documentation for alternative solver options:\n",
      "    https://scikit-learn.org/stable/modules/linear_model.html#logistic-regression\n",
      "  n_iter_i = _check_optimize_result(\n",
      "/Users/njp020/Library/Caches/pypoetry/virtualenvs/machinelearningmarchmadness-Ra9ZsL2z-py3.9/lib/python3.9/site-packages/sklearn/linear_model/_logistic.py:814: ConvergenceWarning: lbfgs failed to converge (status=1):\n",
      "STOP: TOTAL NO. of ITERATIONS REACHED LIMIT.\n",
      "\n",
      "Increase the number of iterations (max_iter) or scale the data as shown in:\n",
      "    https://scikit-learn.org/stable/modules/preprocessing.html\n",
      "Please also refer to the documentation for alternative solver options:\n",
      "    https://scikit-learn.org/stable/modules/linear_model.html#logistic-regression\n",
      "  n_iter_i = _check_optimize_result(\n",
      "/Users/njp020/Library/Caches/pypoetry/virtualenvs/machinelearningmarchmadness-Ra9ZsL2z-py3.9/lib/python3.9/site-packages/sklearn/linear_model/_logistic.py:814: ConvergenceWarning: lbfgs failed to converge (status=1):\n",
      "STOP: TOTAL NO. of ITERATIONS REACHED LIMIT.\n",
      "\n",
      "Increase the number of iterations (max_iter) or scale the data as shown in:\n",
      "    https://scikit-learn.org/stable/modules/preprocessing.html\n",
      "Please also refer to the documentation for alternative solver options:\n",
      "    https://scikit-learn.org/stable/modules/linear_model.html#logistic-regression\n",
      "  n_iter_i = _check_optimize_result(\n",
      "/Users/njp020/Library/Caches/pypoetry/virtualenvs/machinelearningmarchmadness-Ra9ZsL2z-py3.9/lib/python3.9/site-packages/sklearn/linear_model/_logistic.py:814: ConvergenceWarning: lbfgs failed to converge (status=1):\n",
      "STOP: TOTAL NO. of ITERATIONS REACHED LIMIT.\n",
      "\n",
      "Increase the number of iterations (max_iter) or scale the data as shown in:\n",
      "    https://scikit-learn.org/stable/modules/preprocessing.html\n",
      "Please also refer to the documentation for alternative solver options:\n",
      "    https://scikit-learn.org/stable/modules/linear_model.html#logistic-regression\n",
      "  n_iter_i = _check_optimize_result(\n",
      "/Users/njp020/Library/Caches/pypoetry/virtualenvs/machinelearningmarchmadness-Ra9ZsL2z-py3.9/lib/python3.9/site-packages/sklearn/linear_model/_logistic.py:814: ConvergenceWarning: lbfgs failed to converge (status=1):\n",
      "STOP: TOTAL NO. of ITERATIONS REACHED LIMIT.\n",
      "\n",
      "Increase the number of iterations (max_iter) or scale the data as shown in:\n",
      "    https://scikit-learn.org/stable/modules/preprocessing.html\n",
      "Please also refer to the documentation for alternative solver options:\n",
      "    https://scikit-learn.org/stable/modules/linear_model.html#logistic-regression\n",
      "  n_iter_i = _check_optimize_result(\n",
      "/Users/njp020/Library/Caches/pypoetry/virtualenvs/machinelearningmarchmadness-Ra9ZsL2z-py3.9/lib/python3.9/site-packages/sklearn/linear_model/_logistic.py:814: ConvergenceWarning: lbfgs failed to converge (status=1):\n",
      "STOP: TOTAL NO. of ITERATIONS REACHED LIMIT.\n",
      "\n",
      "Increase the number of iterations (max_iter) or scale the data as shown in:\n",
      "    https://scikit-learn.org/stable/modules/preprocessing.html\n",
      "Please also refer to the documentation for alternative solver options:\n",
      "    https://scikit-learn.org/stable/modules/linear_model.html#logistic-regression\n",
      "  n_iter_i = _check_optimize_result(\n",
      "/Users/njp020/Library/Caches/pypoetry/virtualenvs/machinelearningmarchmadness-Ra9ZsL2z-py3.9/lib/python3.9/site-packages/sklearn/linear_model/_logistic.py:814: ConvergenceWarning: lbfgs failed to converge (status=1):\n",
      "STOP: TOTAL NO. of ITERATIONS REACHED LIMIT.\n",
      "\n",
      "Increase the number of iterations (max_iter) or scale the data as shown in:\n",
      "    https://scikit-learn.org/stable/modules/preprocessing.html\n",
      "Please also refer to the documentation for alternative solver options:\n",
      "    https://scikit-learn.org/stable/modules/linear_model.html#logistic-regression\n",
      "  n_iter_i = _check_optimize_result(\n",
      "/Users/njp020/Library/Caches/pypoetry/virtualenvs/machinelearningmarchmadness-Ra9ZsL2z-py3.9/lib/python3.9/site-packages/sklearn/linear_model/_logistic.py:814: ConvergenceWarning: lbfgs failed to converge (status=1):\n",
      "STOP: TOTAL NO. of ITERATIONS REACHED LIMIT.\n",
      "\n",
      "Increase the number of iterations (max_iter) or scale the data as shown in:\n",
      "    https://scikit-learn.org/stable/modules/preprocessing.html\n",
      "Please also refer to the documentation for alternative solver options:\n",
      "    https://scikit-learn.org/stable/modules/linear_model.html#logistic-regression\n",
      "  n_iter_i = _check_optimize_result(\n",
      "/Users/njp020/Library/Caches/pypoetry/virtualenvs/machinelearningmarchmadness-Ra9ZsL2z-py3.9/lib/python3.9/site-packages/sklearn/linear_model/_logistic.py:814: ConvergenceWarning: lbfgs failed to converge (status=1):\n",
      "STOP: TOTAL NO. of ITERATIONS REACHED LIMIT.\n",
      "\n",
      "Increase the number of iterations (max_iter) or scale the data as shown in:\n",
      "    https://scikit-learn.org/stable/modules/preprocessing.html\n",
      "Please also refer to the documentation for alternative solver options:\n",
      "    https://scikit-learn.org/stable/modules/linear_model.html#logistic-regression\n",
      "  n_iter_i = _check_optimize_result(\n",
      "/Users/njp020/Library/Caches/pypoetry/virtualenvs/machinelearningmarchmadness-Ra9ZsL2z-py3.9/lib/python3.9/site-packages/sklearn/linear_model/_logistic.py:814: ConvergenceWarning: lbfgs failed to converge (status=1):\n",
      "STOP: TOTAL NO. of ITERATIONS REACHED LIMIT.\n",
      "\n",
      "Increase the number of iterations (max_iter) or scale the data as shown in:\n",
      "    https://scikit-learn.org/stable/modules/preprocessing.html\n",
      "Please also refer to the documentation for alternative solver options:\n",
      "    https://scikit-learn.org/stable/modules/linear_model.html#logistic-regression\n",
      "  n_iter_i = _check_optimize_result(\n",
      "/Users/njp020/Library/Caches/pypoetry/virtualenvs/machinelearningmarchmadness-Ra9ZsL2z-py3.9/lib/python3.9/site-packages/sklearn/linear_model/_logistic.py:814: ConvergenceWarning: lbfgs failed to converge (status=1):\n",
      "STOP: TOTAL NO. of ITERATIONS REACHED LIMIT.\n",
      "\n",
      "Increase the number of iterations (max_iter) or scale the data as shown in:\n",
      "    https://scikit-learn.org/stable/modules/preprocessing.html\n",
      "Please also refer to the documentation for alternative solver options:\n",
      "    https://scikit-learn.org/stable/modules/linear_model.html#logistic-regression\n",
      "  n_iter_i = _check_optimize_result(\n",
      "/Users/njp020/Library/Caches/pypoetry/virtualenvs/machinelearningmarchmadness-Ra9ZsL2z-py3.9/lib/python3.9/site-packages/sklearn/linear_model/_logistic.py:814: ConvergenceWarning: lbfgs failed to converge (status=1):\n",
      "STOP: TOTAL NO. of ITERATIONS REACHED LIMIT.\n",
      "\n",
      "Increase the number of iterations (max_iter) or scale the data as shown in:\n",
      "    https://scikit-learn.org/stable/modules/preprocessing.html\n",
      "Please also refer to the documentation for alternative solver options:\n",
      "    https://scikit-learn.org/stable/modules/linear_model.html#logistic-regression\n",
      "  n_iter_i = _check_optimize_result(\n",
      "/Users/njp020/Library/Caches/pypoetry/virtualenvs/machinelearningmarchmadness-Ra9ZsL2z-py3.9/lib/python3.9/site-packages/sklearn/linear_model/_logistic.py:814: ConvergenceWarning: lbfgs failed to converge (status=1):\n",
      "STOP: TOTAL NO. of ITERATIONS REACHED LIMIT.\n",
      "\n",
      "Increase the number of iterations (max_iter) or scale the data as shown in:\n",
      "    https://scikit-learn.org/stable/modules/preprocessing.html\n",
      "Please also refer to the documentation for alternative solver options:\n",
      "    https://scikit-learn.org/stable/modules/linear_model.html#logistic-regression\n",
      "  n_iter_i = _check_optimize_result(\n",
      "/Users/njp020/Library/Caches/pypoetry/virtualenvs/machinelearningmarchmadness-Ra9ZsL2z-py3.9/lib/python3.9/site-packages/sklearn/linear_model/_logistic.py:814: ConvergenceWarning: lbfgs failed to converge (status=1):\n",
      "STOP: TOTAL NO. of ITERATIONS REACHED LIMIT.\n",
      "\n",
      "Increase the number of iterations (max_iter) or scale the data as shown in:\n",
      "    https://scikit-learn.org/stable/modules/preprocessing.html\n",
      "Please also refer to the documentation for alternative solver options:\n",
      "    https://scikit-learn.org/stable/modules/linear_model.html#logistic-regression\n",
      "  n_iter_i = _check_optimize_result(\n",
      "/Users/njp020/Library/Caches/pypoetry/virtualenvs/machinelearningmarchmadness-Ra9ZsL2z-py3.9/lib/python3.9/site-packages/sklearn/linear_model/_logistic.py:814: ConvergenceWarning: lbfgs failed to converge (status=1):\n",
      "STOP: TOTAL NO. of ITERATIONS REACHED LIMIT.\n",
      "\n",
      "Increase the number of iterations (max_iter) or scale the data as shown in:\n",
      "    https://scikit-learn.org/stable/modules/preprocessing.html\n",
      "Please also refer to the documentation for alternative solver options:\n",
      "    https://scikit-learn.org/stable/modules/linear_model.html#logistic-regression\n",
      "  n_iter_i = _check_optimize_result(\n",
      "/Users/njp020/Library/Caches/pypoetry/virtualenvs/machinelearningmarchmadness-Ra9ZsL2z-py3.9/lib/python3.9/site-packages/sklearn/linear_model/_logistic.py:814: ConvergenceWarning: lbfgs failed to converge (status=1):\n",
      "STOP: TOTAL NO. of ITERATIONS REACHED LIMIT.\n",
      "\n",
      "Increase the number of iterations (max_iter) or scale the data as shown in:\n",
      "    https://scikit-learn.org/stable/modules/preprocessing.html\n",
      "Please also refer to the documentation for alternative solver options:\n",
      "    https://scikit-learn.org/stable/modules/linear_model.html#logistic-regression\n",
      "  n_iter_i = _check_optimize_result(\n"
     ]
    },
    {
     "name": "stderr",
     "output_type": "stream",
     "text": [
      "/Users/njp020/Library/Caches/pypoetry/virtualenvs/machinelearningmarchmadness-Ra9ZsL2z-py3.9/lib/python3.9/site-packages/sklearn/linear_model/_logistic.py:814: ConvergenceWarning: lbfgs failed to converge (status=1):\n",
      "STOP: TOTAL NO. of ITERATIONS REACHED LIMIT.\n",
      "\n",
      "Increase the number of iterations (max_iter) or scale the data as shown in:\n",
      "    https://scikit-learn.org/stable/modules/preprocessing.html\n",
      "Please also refer to the documentation for alternative solver options:\n",
      "    https://scikit-learn.org/stable/modules/linear_model.html#logistic-regression\n",
      "  n_iter_i = _check_optimize_result(\n",
      "/Users/njp020/Library/Caches/pypoetry/virtualenvs/machinelearningmarchmadness-Ra9ZsL2z-py3.9/lib/python3.9/site-packages/sklearn/linear_model/_logistic.py:814: ConvergenceWarning: lbfgs failed to converge (status=1):\n",
      "STOP: TOTAL NO. of ITERATIONS REACHED LIMIT.\n",
      "\n",
      "Increase the number of iterations (max_iter) or scale the data as shown in:\n",
      "    https://scikit-learn.org/stable/modules/preprocessing.html\n",
      "Please also refer to the documentation for alternative solver options:\n",
      "    https://scikit-learn.org/stable/modules/linear_model.html#logistic-regression\n",
      "  n_iter_i = _check_optimize_result(\n",
      "/Users/njp020/Library/Caches/pypoetry/virtualenvs/machinelearningmarchmadness-Ra9ZsL2z-py3.9/lib/python3.9/site-packages/sklearn/linear_model/_logistic.py:814: ConvergenceWarning: lbfgs failed to converge (status=1):\n",
      "STOP: TOTAL NO. of ITERATIONS REACHED LIMIT.\n",
      "\n",
      "Increase the number of iterations (max_iter) or scale the data as shown in:\n",
      "    https://scikit-learn.org/stable/modules/preprocessing.html\n",
      "Please also refer to the documentation for alternative solver options:\n",
      "    https://scikit-learn.org/stable/modules/linear_model.html#logistic-regression\n",
      "  n_iter_i = _check_optimize_result(\n",
      "/Users/njp020/Library/Caches/pypoetry/virtualenvs/machinelearningmarchmadness-Ra9ZsL2z-py3.9/lib/python3.9/site-packages/sklearn/linear_model/_logistic.py:814: ConvergenceWarning: lbfgs failed to converge (status=1):\n",
      "STOP: TOTAL NO. of ITERATIONS REACHED LIMIT.\n",
      "\n",
      "Increase the number of iterations (max_iter) or scale the data as shown in:\n",
      "    https://scikit-learn.org/stable/modules/preprocessing.html\n",
      "Please also refer to the documentation for alternative solver options:\n",
      "    https://scikit-learn.org/stable/modules/linear_model.html#logistic-regression\n",
      "  n_iter_i = _check_optimize_result(\n",
      "/Users/njp020/Library/Caches/pypoetry/virtualenvs/machinelearningmarchmadness-Ra9ZsL2z-py3.9/lib/python3.9/site-packages/sklearn/linear_model/_logistic.py:814: ConvergenceWarning: lbfgs failed to converge (status=1):\n",
      "STOP: TOTAL NO. of ITERATIONS REACHED LIMIT.\n",
      "\n",
      "Increase the number of iterations (max_iter) or scale the data as shown in:\n",
      "    https://scikit-learn.org/stable/modules/preprocessing.html\n",
      "Please also refer to the documentation for alternative solver options:\n",
      "    https://scikit-learn.org/stable/modules/linear_model.html#logistic-regression\n",
      "  n_iter_i = _check_optimize_result(\n",
      "/Users/njp020/Library/Caches/pypoetry/virtualenvs/machinelearningmarchmadness-Ra9ZsL2z-py3.9/lib/python3.9/site-packages/sklearn/linear_model/_logistic.py:814: ConvergenceWarning: lbfgs failed to converge (status=1):\n",
      "STOP: TOTAL NO. of ITERATIONS REACHED LIMIT.\n",
      "\n",
      "Increase the number of iterations (max_iter) or scale the data as shown in:\n",
      "    https://scikit-learn.org/stable/modules/preprocessing.html\n",
      "Please also refer to the documentation for alternative solver options:\n",
      "    https://scikit-learn.org/stable/modules/linear_model.html#logistic-regression\n",
      "  n_iter_i = _check_optimize_result(\n",
      "/Users/njp020/Library/Caches/pypoetry/virtualenvs/machinelearningmarchmadness-Ra9ZsL2z-py3.9/lib/python3.9/site-packages/sklearn/linear_model/_logistic.py:814: ConvergenceWarning: lbfgs failed to converge (status=1):\n",
      "STOP: TOTAL NO. of ITERATIONS REACHED LIMIT.\n",
      "\n",
      "Increase the number of iterations (max_iter) or scale the data as shown in:\n",
      "    https://scikit-learn.org/stable/modules/preprocessing.html\n",
      "Please also refer to the documentation for alternative solver options:\n",
      "    https://scikit-learn.org/stable/modules/linear_model.html#logistic-regression\n",
      "  n_iter_i = _check_optimize_result(\n",
      "/Users/njp020/Library/Caches/pypoetry/virtualenvs/machinelearningmarchmadness-Ra9ZsL2z-py3.9/lib/python3.9/site-packages/sklearn/linear_model/_logistic.py:814: ConvergenceWarning: lbfgs failed to converge (status=1):\n",
      "STOP: TOTAL NO. of ITERATIONS REACHED LIMIT.\n",
      "\n",
      "Increase the number of iterations (max_iter) or scale the data as shown in:\n",
      "    https://scikit-learn.org/stable/modules/preprocessing.html\n",
      "Please also refer to the documentation for alternative solver options:\n",
      "    https://scikit-learn.org/stable/modules/linear_model.html#logistic-regression\n",
      "  n_iter_i = _check_optimize_result(\n",
      "/Users/njp020/Library/Caches/pypoetry/virtualenvs/machinelearningmarchmadness-Ra9ZsL2z-py3.9/lib/python3.9/site-packages/sklearn/linear_model/_logistic.py:814: ConvergenceWarning: lbfgs failed to converge (status=1):\n",
      "STOP: TOTAL NO. of ITERATIONS REACHED LIMIT.\n",
      "\n",
      "Increase the number of iterations (max_iter) or scale the data as shown in:\n",
      "    https://scikit-learn.org/stable/modules/preprocessing.html\n",
      "Please also refer to the documentation for alternative solver options:\n",
      "    https://scikit-learn.org/stable/modules/linear_model.html#logistic-regression\n",
      "  n_iter_i = _check_optimize_result(\n"
     ]
    },
    {
     "name": "stdout",
     "output_type": "stream",
     "text": [
      "1st max valu of 0.756 occured at C=0.300\n"
     ]
    },
    {
     "name": "stderr",
     "output_type": "stream",
     "text": [
      "/Users/njp020/Library/Caches/pypoetry/virtualenvs/machinelearningmarchmadness-Ra9ZsL2z-py3.9/lib/python3.9/site-packages/sklearn/linear_model/_logistic.py:814: ConvergenceWarning: lbfgs failed to converge (status=1):\n",
      "STOP: TOTAL NO. of ITERATIONS REACHED LIMIT.\n",
      "\n",
      "Increase the number of iterations (max_iter) or scale the data as shown in:\n",
      "    https://scikit-learn.org/stable/modules/preprocessing.html\n",
      "Please also refer to the documentation for alternative solver options:\n",
      "    https://scikit-learn.org/stable/modules/linear_model.html#logistic-regression\n",
      "  n_iter_i = _check_optimize_result(\n",
      "/Users/njp020/Library/Caches/pypoetry/virtualenvs/machinelearningmarchmadness-Ra9ZsL2z-py3.9/lib/python3.9/site-packages/sklearn/linear_model/_logistic.py:814: ConvergenceWarning: lbfgs failed to converge (status=1):\n",
      "STOP: TOTAL NO. of ITERATIONS REACHED LIMIT.\n",
      "\n",
      "Increase the number of iterations (max_iter) or scale the data as shown in:\n",
      "    https://scikit-learn.org/stable/modules/preprocessing.html\n",
      "Please also refer to the documentation for alternative solver options:\n",
      "    https://scikit-learn.org/stable/modules/linear_model.html#logistic-regression\n",
      "  n_iter_i = _check_optimize_result(\n",
      "/Users/njp020/Library/Caches/pypoetry/virtualenvs/machinelearningmarchmadness-Ra9ZsL2z-py3.9/lib/python3.9/site-packages/sklearn/linear_model/_logistic.py:814: ConvergenceWarning: lbfgs failed to converge (status=1):\n",
      "STOP: TOTAL NO. of ITERATIONS REACHED LIMIT.\n",
      "\n",
      "Increase the number of iterations (max_iter) or scale the data as shown in:\n",
      "    https://scikit-learn.org/stable/modules/preprocessing.html\n",
      "Please also refer to the documentation for alternative solver options:\n",
      "    https://scikit-learn.org/stable/modules/linear_model.html#logistic-regression\n",
      "  n_iter_i = _check_optimize_result(\n",
      "/Users/njp020/Library/Caches/pypoetry/virtualenvs/machinelearningmarchmadness-Ra9ZsL2z-py3.9/lib/python3.9/site-packages/sklearn/linear_model/_logistic.py:814: ConvergenceWarning: lbfgs failed to converge (status=1):\n",
      "STOP: TOTAL NO. of ITERATIONS REACHED LIMIT.\n",
      "\n",
      "Increase the number of iterations (max_iter) or scale the data as shown in:\n",
      "    https://scikit-learn.org/stable/modules/preprocessing.html\n",
      "Please also refer to the documentation for alternative solver options:\n",
      "    https://scikit-learn.org/stable/modules/linear_model.html#logistic-regression\n",
      "  n_iter_i = _check_optimize_result(\n"
     ]
    },
    {
     "data": {
      "image/png": "[encoded data removed]",
      "text/plain": [
       "<Figure size 432x288 with 1 Axes>"
      ]
     },
     "metadata": {
      "needs_background": "light"
     },
     "output_type": "display_data"
    }
   ],
   "source": [
    "from sklearn.linear_model import LogisticRegression\n",
    "# Setting up regularization Params\n",
    "def get_best_score_C_val_for_LR(x_tr, y_tr, x_tst, y_tst):\n",
    "    C_start = 0.1\n",
    "    C_end = 5\n",
    "    C_inc = 0.1\n",
    "    C_values, recall_scores = [], []\n",
    "    C_val = C_start\n",
    "    best_recall_score = 0\n",
    "\n",
    "    while (C_val < C_end):\n",
    "        C_values.append(C_val)\n",
    "        lr_model_loop = LogisticRegression(C=C_val, random_state=42)\n",
    "        lr_model_loop.fit(x_tr, y_tr.ravel())\n",
    "        lr_predict_loop_test = lr_model_loop.predict(x_tst)\n",
    "        recall_score = metrics.recall_score(y_tst, lr_predict_loop_test)\n",
    "        recall_scores.append(recall_score)\n",
    "        if (recall_score > best_recall_score):\n",
    "            best_recall_score = recall_score\n",
    "            best_lr_predict_test = lr_predict_loop_test\n",
    "        C_val = C_val + C_inc\n",
    "    best_score_C_val = C_values[recall_scores.index(best_recall_score)]\n",
    "    print(\"1st max valu of {0:.3f} occured at C={1:.3f}\".format(best_recall_score, best_score_C_val))\n",
    "    %matplotlib inline\n",
    "    plt.plot(C_values, recall_scores, \"-\")\n",
    "    plt.xlabel(\"C value\")\n",
    "    plt.ylabel(\"recall score\")\n",
    "    return best_score_C_val\n",
    "ps_best_score_C_val = get_best_score_C_val_for_LR(ps_x_train, ps_y_train, ps_x_test, ps_y_test)"
   ]
  },
  {
   "cell_type": "code",
   "execution_count": 25,
   "metadata": {},
   "outputs": [
    {
     "name": "stderr",
     "output_type": "stream",
     "text": [
      "/Users/njp020/Library/Caches/pypoetry/virtualenvs/machinelearningmarchmadness-Ra9ZsL2z-py3.9/lib/python3.9/site-packages/sklearn/linear_model/_logistic.py:814: ConvergenceWarning: lbfgs failed to converge (status=1):\n",
      "STOP: TOTAL NO. of ITERATIONS REACHED LIMIT.\n",
      "\n",
      "Increase the number of iterations (max_iter) or scale the data as shown in:\n",
      "    https://scikit-learn.org/stable/modules/preprocessing.html\n",
      "Please also refer to the documentation for alternative solver options:\n",
      "    https://scikit-learn.org/stable/modules/linear_model.html#logistic-regression\n",
      "  n_iter_i = _check_optimize_result(\n"
     ]
    },
    {
     "data": {
      "text/plain": [
       "LogisticRegression(C=0.30000000000000004, class_weight='balanced',\n",
       "                   random_state=42)"
      ]
     },
     "execution_count": 25,
     "metadata": {},
     "output_type": "execute_result"
    }
   ],
   "source": [
    "\n",
    "ps_lr_model = LogisticRegression(class_weight=\"balanced\", C=ps_best_score_C_val, random_state=42)\n",
    "ps_lr_model.fit(ps_x_train, ps_y_train.ravel())\n"
   ]
  },
  {
   "cell_type": "code",
   "execution_count": 26,
   "metadata": {},
   "outputs": [
    {
     "name": "stdout",
     "output_type": "stream",
     "text": [
      "Accuracy: {0:.4f} 0.6978021978021978\n"
     ]
    }
   ],
   "source": [
    "ps_lr_predict_test = ps_lr_model.predict(ps_x_test)\n",
    "print(\"Accuracy: {0:.4f}\",format(metrics.accuracy_score(ps_y_test, ps_lr_predict_test)))"
   ]
  },
  {
   "cell_type": "markdown",
   "metadata": {},
   "source": [
    "## Logistic Regression with Cross Validation"
   ]
  },
  {
   "cell_type": "code",
   "execution_count": 27,
   "metadata": {},
   "outputs": [
    {
     "name": "stderr",
     "output_type": "stream",
     "text": [
      "/Users/njp020/Library/Caches/pypoetry/virtualenvs/machinelearningmarchmadness-Ra9ZsL2z-py3.9/lib/python3.9/site-packages/sklearn/linear_model/_logistic.py:814: ConvergenceWarning: lbfgs failed to converge (status=1):\n",
      "STOP: TOTAL NO. of ITERATIONS REACHED LIMIT.\n",
      "\n",
      "Increase the number of iterations (max_iter) or scale the data as shown in:\n",
      "    https://scikit-learn.org/stable/modules/preprocessing.html\n",
      "Please also refer to the documentation for alternative solver options:\n",
      "    https://scikit-learn.org/stable/modules/linear_model.html#logistic-regression\n",
      "  n_iter_i = _check_optimize_result(\n",
      "/Users/njp020/Library/Caches/pypoetry/virtualenvs/machinelearningmarchmadness-Ra9ZsL2z-py3.9/lib/python3.9/site-packages/sklearn/linear_model/_logistic.py:814: ConvergenceWarning: lbfgs failed to converge (status=1):\n",
      "STOP: TOTAL NO. of ITERATIONS REACHED LIMIT.\n",
      "\n",
      "Increase the number of iterations (max_iter) or scale the data as shown in:\n",
      "    https://scikit-learn.org/stable/modules/preprocessing.html\n",
      "Please also refer to the documentation for alternative solver options:\n",
      "    https://scikit-learn.org/stable/modules/linear_model.html#logistic-regression\n",
      "  n_iter_i = _check_optimize_result(\n",
      "/Users/njp020/Library/Caches/pypoetry/virtualenvs/machinelearningmarchmadness-Ra9ZsL2z-py3.9/lib/python3.9/site-packages/sklearn/linear_model/_logistic.py:814: ConvergenceWarning: lbfgs failed to converge (status=1):\n",
      "STOP: TOTAL NO. of ITERATIONS REACHED LIMIT.\n",
      "\n",
      "Increase the number of iterations (max_iter) or scale the data as shown in:\n",
      "    https://scikit-learn.org/stable/modules/preprocessing.html\n",
      "Please also refer to the documentation for alternative solver options:\n",
      "    https://scikit-learn.org/stable/modules/linear_model.html#logistic-regression\n",
      "  n_iter_i = _check_optimize_result(\n",
      "/Users/njp020/Library/Caches/pypoetry/virtualenvs/machinelearningmarchmadness-Ra9ZsL2z-py3.9/lib/python3.9/site-packages/sklearn/linear_model/_logistic.py:814: ConvergenceWarning: lbfgs failed to converge (status=1):\n",
      "STOP: TOTAL NO. of ITERATIONS REACHED LIMIT.\n",
      "\n",
      "Increase the number of iterations (max_iter) or scale the data as shown in:\n",
      "    https://scikit-learn.org/stable/modules/preprocessing.html\n",
      "Please also refer to the documentation for alternative solver options:\n",
      "    https://scikit-learn.org/stable/modules/linear_model.html#logistic-regression\n",
      "  n_iter_i = _check_optimize_result(\n",
      "/Users/njp020/Library/Caches/pypoetry/virtualenvs/machinelearningmarchmadness-Ra9ZsL2z-py3.9/lib/python3.9/site-packages/sklearn/linear_model/_logistic.py:814: ConvergenceWarning: lbfgs failed to converge (status=1):\n",
      "STOP: TOTAL NO. of ITERATIONS REACHED LIMIT.\n",
      "\n",
      "Increase the number of iterations (max_iter) or scale the data as shown in:\n",
      "    https://scikit-learn.org/stable/modules/preprocessing.html\n",
      "Please also refer to the documentation for alternative solver options:\n",
      "    https://scikit-learn.org/stable/modules/linear_model.html#logistic-regression\n",
      "  n_iter_i = _check_optimize_result(\n",
      "/Users/njp020/Library/Caches/pypoetry/virtualenvs/machinelearningmarchmadness-Ra9ZsL2z-py3.9/lib/python3.9/site-packages/sklearn/linear_model/_logistic.py:814: ConvergenceWarning: lbfgs failed to converge (status=1):\n",
      "STOP: TOTAL NO. of ITERATIONS REACHED LIMIT.\n",
      "\n",
      "Increase the number of iterations (max_iter) or scale the data as shown in:\n",
      "    https://scikit-learn.org/stable/modules/preprocessing.html\n",
      "Please also refer to the documentation for alternative solver options:\n",
      "    https://scikit-learn.org/stable/modules/linear_model.html#logistic-regression\n",
      "  n_iter_i = _check_optimize_result(\n",
      "/Users/njp020/Library/Caches/pypoetry/virtualenvs/machinelearningmarchmadness-Ra9ZsL2z-py3.9/lib/python3.9/site-packages/sklearn/linear_model/_logistic.py:814: ConvergenceWarning: lbfgs failed to converge (status=1):\n",
      "STOP: TOTAL NO. of ITERATIONS REACHED LIMIT.\n",
      "\n",
      "Increase the number of iterations (max_iter) or scale the data as shown in:\n",
      "    https://scikit-learn.org/stable/modules/preprocessing.html\n",
      "Please also refer to the documentation for alternative solver options:\n",
      "    https://scikit-learn.org/stable/modules/linear_model.html#logistic-regression\n",
      "  n_iter_i = _check_optimize_result(\n",
      "/Users/njp020/Library/Caches/pypoetry/virtualenvs/machinelearningmarchmadness-Ra9ZsL2z-py3.9/lib/python3.9/site-packages/sklearn/linear_model/_logistic.py:814: ConvergenceWarning: lbfgs failed to converge (status=1):\n",
      "STOP: TOTAL NO. of ITERATIONS REACHED LIMIT.\n",
      "\n",
      "Increase the number of iterations (max_iter) or scale the data as shown in:\n",
      "    https://scikit-learn.org/stable/modules/preprocessing.html\n",
      "Please also refer to the documentation for alternative solver options:\n",
      "    https://scikit-learn.org/stable/modules/linear_model.html#logistic-regression\n",
      "  n_iter_i = _check_optimize_result(\n",
      "/Users/njp020/Library/Caches/pypoetry/virtualenvs/machinelearningmarchmadness-Ra9ZsL2z-py3.9/lib/python3.9/site-packages/sklearn/linear_model/_logistic.py:814: ConvergenceWarning: lbfgs failed to converge (status=1):\n",
      "STOP: TOTAL NO. of ITERATIONS REACHED LIMIT.\n",
      "\n",
      "Increase the number of iterations (max_iter) or scale the data as shown in:\n",
      "    https://scikit-learn.org/stable/modules/preprocessing.html\n",
      "Please also refer to the documentation for alternative solver options:\n",
      "    https://scikit-learn.org/stable/modules/linear_model.html#logistic-regression\n",
      "  n_iter_i = _check_optimize_result(\n",
      "/Users/njp020/Library/Caches/pypoetry/virtualenvs/machinelearningmarchmadness-Ra9ZsL2z-py3.9/lib/python3.9/site-packages/sklearn/linear_model/_logistic.py:814: ConvergenceWarning: lbfgs failed to converge (status=1):\n",
      "STOP: TOTAL NO. of ITERATIONS REACHED LIMIT.\n",
      "\n",
      "Increase the number of iterations (max_iter) or scale the data as shown in:\n",
      "    https://scikit-learn.org/stable/modules/preprocessing.html\n",
      "Please also refer to the documentation for alternative solver options:\n",
      "    https://scikit-learn.org/stable/modules/linear_model.html#logistic-regression\n",
      "  n_iter_i = _check_optimize_result(\n",
      "/Users/njp020/Library/Caches/pypoetry/virtualenvs/machinelearningmarchmadness-Ra9ZsL2z-py3.9/lib/python3.9/site-packages/sklearn/linear_model/_logistic.py:814: ConvergenceWarning: lbfgs failed to converge (status=1):\n",
      "STOP: TOTAL NO. of ITERATIONS REACHED LIMIT.\n",
      "\n",
      "Increase the number of iterations (max_iter) or scale the data as shown in:\n",
      "    https://scikit-learn.org/stable/modules/preprocessing.html\n",
      "Please also refer to the documentation for alternative solver options:\n",
      "    https://scikit-learn.org/stable/modules/linear_model.html#logistic-regression\n",
      "  n_iter_i = _check_optimize_result(\n",
      "/Users/njp020/Library/Caches/pypoetry/virtualenvs/machinelearningmarchmadness-Ra9ZsL2z-py3.9/lib/python3.9/site-packages/sklearn/linear_model/_logistic.py:814: ConvergenceWarning: lbfgs failed to converge (status=1):\n",
      "STOP: TOTAL NO. of ITERATIONS REACHED LIMIT.\n",
      "\n",
      "Increase the number of iterations (max_iter) or scale the data as shown in:\n",
      "    https://scikit-learn.org/stable/modules/preprocessing.html\n",
      "Please also refer to the documentation for alternative solver options:\n",
      "    https://scikit-learn.org/stable/modules/linear_model.html#logistic-regression\n",
      "  n_iter_i = _check_optimize_result(\n",
      "/Users/njp020/Library/Caches/pypoetry/virtualenvs/machinelearningmarchmadness-Ra9ZsL2z-py3.9/lib/python3.9/site-packages/sklearn/linear_model/_logistic.py:814: ConvergenceWarning: lbfgs failed to converge (status=1):\n",
      "STOP: TOTAL NO. of ITERATIONS REACHED LIMIT.\n",
      "\n",
      "Increase the number of iterations (max_iter) or scale the data as shown in:\n",
      "    https://scikit-learn.org/stable/modules/preprocessing.html\n",
      "Please also refer to the documentation for alternative solver options:\n",
      "    https://scikit-learn.org/stable/modules/linear_model.html#logistic-regression\n",
      "  n_iter_i = _check_optimize_result(\n",
      "/Users/njp020/Library/Caches/pypoetry/virtualenvs/machinelearningmarchmadness-Ra9ZsL2z-py3.9/lib/python3.9/site-packages/sklearn/linear_model/_logistic.py:814: ConvergenceWarning: lbfgs failed to converge (status=1):\n",
      "STOP: TOTAL NO. of ITERATIONS REACHED LIMIT.\n",
      "\n",
      "Increase the number of iterations (max_iter) or scale the data as shown in:\n",
      "    https://scikit-learn.org/stable/modules/preprocessing.html\n",
      "Please also refer to the documentation for alternative solver options:\n",
      "    https://scikit-learn.org/stable/modules/linear_model.html#logistic-regression\n",
      "  n_iter_i = _check_optimize_result(\n",
      "/Users/njp020/Library/Caches/pypoetry/virtualenvs/machinelearningmarchmadness-Ra9ZsL2z-py3.9/lib/python3.9/site-packages/sklearn/linear_model/_logistic.py:814: ConvergenceWarning: lbfgs failed to converge (status=1):\n",
      "STOP: TOTAL NO. of ITERATIONS REACHED LIMIT.\n",
      "\n",
      "Increase the number of iterations (max_iter) or scale the data as shown in:\n",
      "    https://scikit-learn.org/stable/modules/preprocessing.html\n",
      "Please also refer to the documentation for alternative solver options:\n",
      "    https://scikit-learn.org/stable/modules/linear_model.html#logistic-regression\n",
      "  n_iter_i = _check_optimize_result(\n",
      "/Users/njp020/Library/Caches/pypoetry/virtualenvs/machinelearningmarchmadness-Ra9ZsL2z-py3.9/lib/python3.9/site-packages/sklearn/linear_model/_logistic.py:814: ConvergenceWarning: lbfgs failed to converge (status=1):\n",
      "STOP: TOTAL NO. of ITERATIONS REACHED LIMIT.\n",
      "\n",
      "Increase the number of iterations (max_iter) or scale the data as shown in:\n",
      "    https://scikit-learn.org/stable/modules/preprocessing.html\n",
      "Please also refer to the documentation for alternative solver options:\n",
      "    https://scikit-learn.org/stable/modules/linear_model.html#logistic-regression\n",
      "  n_iter_i = _check_optimize_result(\n",
      "/Users/njp020/Library/Caches/pypoetry/virtualenvs/machinelearningmarchmadness-Ra9ZsL2z-py3.9/lib/python3.9/site-packages/sklearn/linear_model/_logistic.py:814: ConvergenceWarning: lbfgs failed to converge (status=1):\n",
      "STOP: TOTAL NO. of ITERATIONS REACHED LIMIT.\n",
      "\n",
      "Increase the number of iterations (max_iter) or scale the data as shown in:\n",
      "    https://scikit-learn.org/stable/modules/preprocessing.html\n",
      "Please also refer to the documentation for alternative solver options:\n",
      "    https://scikit-learn.org/stable/modules/linear_model.html#logistic-regression\n",
      "  n_iter_i = _check_optimize_result(\n",
      "/Users/njp020/Library/Caches/pypoetry/virtualenvs/machinelearningmarchmadness-Ra9ZsL2z-py3.9/lib/python3.9/site-packages/sklearn/linear_model/_logistic.py:814: ConvergenceWarning: lbfgs failed to converge (status=1):\n",
      "STOP: TOTAL NO. of ITERATIONS REACHED LIMIT.\n",
      "\n",
      "Increase the number of iterations (max_iter) or scale the data as shown in:\n",
      "    https://scikit-learn.org/stable/modules/preprocessing.html\n",
      "Please also refer to the documentation for alternative solver options:\n",
      "    https://scikit-learn.org/stable/modules/linear_model.html#logistic-regression\n",
      "  n_iter_i = _check_optimize_result(\n",
      "/Users/njp020/Library/Caches/pypoetry/virtualenvs/machinelearningmarchmadness-Ra9ZsL2z-py3.9/lib/python3.9/site-packages/sklearn/linear_model/_logistic.py:814: ConvergenceWarning: lbfgs failed to converge (status=1):\n",
      "STOP: TOTAL NO. of ITERATIONS REACHED LIMIT.\n",
      "\n",
      "Increase the number of iterations (max_iter) or scale the data as shown in:\n",
      "    https://scikit-learn.org/stable/modules/preprocessing.html\n",
      "Please also refer to the documentation for alternative solver options:\n",
      "    https://scikit-learn.org/stable/modules/linear_model.html#logistic-regression\n",
      "  n_iter_i = _check_optimize_result(\n",
      "/Users/njp020/Library/Caches/pypoetry/virtualenvs/machinelearningmarchmadness-Ra9ZsL2z-py3.9/lib/python3.9/site-packages/sklearn/linear_model/_logistic.py:814: ConvergenceWarning: lbfgs failed to converge (status=1):\n",
      "STOP: TOTAL NO. of ITERATIONS REACHED LIMIT.\n",
      "\n",
      "Increase the number of iterations (max_iter) or scale the data as shown in:\n",
      "    https://scikit-learn.org/stable/modules/preprocessing.html\n",
      "Please also refer to the documentation for alternative solver options:\n",
      "    https://scikit-learn.org/stable/modules/linear_model.html#logistic-regression\n",
      "  n_iter_i = _check_optimize_result(\n",
      "/Users/njp020/Library/Caches/pypoetry/virtualenvs/machinelearningmarchmadness-Ra9ZsL2z-py3.9/lib/python3.9/site-packages/sklearn/linear_model/_logistic.py:814: ConvergenceWarning: lbfgs failed to converge (status=1):\n",
      "STOP: TOTAL NO. of ITERATIONS REACHED LIMIT.\n",
      "\n",
      "Increase the number of iterations (max_iter) or scale the data as shown in:\n",
      "    https://scikit-learn.org/stable/modules/preprocessing.html\n",
      "Please also refer to the documentation for alternative solver options:\n",
      "    https://scikit-learn.org/stable/modules/linear_model.html#logistic-regression\n",
      "  n_iter_i = _check_optimize_result(\n"
     ]
    },
    {
     "data": {
      "text/plain": [
       "LogisticRegressionCV(Cs=3, class_weight='balanced', cv=10, n_jobs=-1,\n",
       "                     random_state=42)"
      ]
     },
     "execution_count": 27,
     "metadata": {},
     "output_type": "execute_result"
    }
   ],
   "source": [
    "from sklearn.linear_model import LogisticRegressionCV\n",
    "ps_lr_cv_model = LogisticRegressionCV(n_jobs=-1, random_state=42, Cs=3, cv=10, refit=True, class_weight=\"balanced\") #Set number of folds\n",
    "ps_lr_cv_model.fit(ps_x_train, ps_y_train.ravel())\n"
   ]
  },
  {
   "cell_type": "code",
   "execution_count": 28,
   "metadata": {},
   "outputs": [
    {
     "name": "stdout",
     "output_type": "stream",
     "text": [
      "Accuracy: {0:.4f} 0.6978021978021978\n"
     ]
    }
   ],
   "source": [
    "ps_lr_cv_predict_test = ps_lr_cv_model.predict(ps_x_test)\n",
    "print(\"Accuracy: {0:.4f}\",format(metrics.accuracy_score(ps_y_test, ps_lr_cv_predict_test)))"
   ]
  },
  {
   "cell_type": "markdown",
   "metadata": {},
   "source": [
    "## XG Boost"
   ]
  },
  {
   "cell_type": "code",
   "execution_count": 30,
   "metadata": {},
   "outputs": [
    {
     "name": "stderr",
     "output_type": "stream",
     "text": [
      "/Users/njp020/Library/Caches/pypoetry/virtualenvs/machinelearningmarchmadness-Ra9ZsL2z-py3.9/lib/python3.9/site-packages/xgboost/sklearn.py:1224: UserWarning: The use of label encoder in XGBClassifier is deprecated and will be removed in a future release. To remove this warning, do the following: 1) Pass option use_label_encoder=False when constructing XGBClassifier object; and 2) Encode your labels (y) as integers starting with 0, i.e. 0, 1, 2, ..., [num_class - 1].\n",
      "  warnings.warn(label_encoder_deprecation_msg, UserWarning)\n"
     ]
    },
    {
     "name": "stdout",
     "output_type": "stream",
     "text": [
      "[12:25:54] WARNING: /Users/runner/work/xgboost/xgboost/src/learner.cc:1115: Starting in XGBoost 1.3.0, the default evaluation metric used with the objective 'binary:logistic' was changed from 'error' to 'logloss'. Explicitly set eval_metric if you'd like to restore the old behavior.\n"
     ]
    },
    {
     "data": {
      "text/plain": [
       "XGBClassifier(base_score=0.5, booster='gbtree', colsample_bylevel=1,\n",
       "              colsample_bynode=1, colsample_bytree=0.8,\n",
       "              enable_categorical=False, gamma=0, gpu_id=-1,\n",
       "              importance_type=None, interaction_constraints='',\n",
       "              learning_rate=0.1, max_delta_step=0, max_depth=5,\n",
       "              min_child_weight=1, missing=nan, monotone_constraints='()',\n",
       "              n_estimators=1000, n_jobs=4, nthread=4, num_parallel_tree=1,\n",
       "              predictor='auto', random_state=27, reg_alpha=0, reg_lambda=1,\n",
       "              scale_pos_weight=1, seed=27, subsample=0.8, tree_method='exact',\n",
       "              validate_parameters=1, verbosity=None)"
      ]
     },
     "execution_count": 30,
     "metadata": {},
     "output_type": "execute_result"
    }
   ],
   "source": [
    "import xgboost as xgb\n",
    "from sklearn.model_selection import GridSearchCV   #Perforing grid search\n",
    "\n",
    "xgb_model = xgb.XGBClassifier(learning_rate =0.1,\n",
    " n_estimators=1000,\n",
    " max_depth=5,\n",
    " min_child_weight=1,\n",
    " gamma=0,\n",
    " subsample=0.8,\n",
    " colsample_bytree=0.8,\n",
    " objective= 'binary:logistic',\n",
    " nthread=4,\n",
    " scale_pos_weight=1,\n",
    " seed=27)\n",
    "\n",
    "xgb_model.fit(ps_x_train, ps_y_train.ravel())"
   ]
  },
  {
   "cell_type": "code",
   "execution_count": 31,
   "metadata": {},
   "outputs": [
    {
     "name": "stdout",
     "output_type": "stream",
     "text": [
      "Accuracy: {0:.4f} 0.6758241758241759\n"
     ]
    }
   ],
   "source": [
    "xgb_test = xgb_model.predict(ps_x_test)\n",
    "print(\"Accuracy: {0:.4f}\",format(metrics.accuracy_score(ps_y_test, xgb_test)))"
   ]
  },
  {
   "cell_type": "code",
   "execution_count": 32,
   "metadata": {},
   "outputs": [
    {
     "name": "stderr",
     "output_type": "stream",
     "text": [
      "/Users/njp020/Library/Caches/pypoetry/virtualenvs/machinelearningmarchmadness-Ra9ZsL2z-py3.9/lib/python3.9/site-packages/xgboost/compat.py:36: FutureWarning: pandas.Int64Index is deprecated and will be removed from pandas in a future version. Use pandas.Index with the appropriate dtype instead.\n",
      "  from pandas import MultiIndex, Int64Index\n",
      "/Users/njp020/Library/Caches/pypoetry/virtualenvs/machinelearningmarchmadness-Ra9ZsL2z-py3.9/lib/python3.9/site-packages/xgboost/compat.py:36: FutureWarning: pandas.Int64Index is deprecated and will be removed from pandas in a future version. Use pandas.Index with the appropriate dtype instead.\n",
      "  from pandas import MultiIndex, Int64Index\n",
      "/Users/njp020/Library/Caches/pypoetry/virtualenvs/machinelearningmarchmadness-Ra9ZsL2z-py3.9/lib/python3.9/site-packages/xgboost/compat.py:36: FutureWarning: pandas.Int64Index is deprecated and will be removed from pandas in a future version. Use pandas.Index with the appropriate dtype instead.\n",
      "  from pandas import MultiIndex, Int64Index\n",
      "/Users/njp020/Library/Caches/pypoetry/virtualenvs/machinelearningmarchmadness-Ra9ZsL2z-py3.9/lib/python3.9/site-packages/xgboost/compat.py:36: FutureWarning: pandas.Int64Index is deprecated and will be removed from pandas in a future version. Use pandas.Index with the appropriate dtype instead.\n",
      "  from pandas import MultiIndex, Int64Index\n",
      "/Users/njp020/Library/Caches/pypoetry/virtualenvs/machinelearningmarchmadness-Ra9ZsL2z-py3.9/lib/python3.9/site-packages/xgboost/sklearn.py:1224: UserWarning: The use of label encoder in XGBClassifier is deprecated and will be removed in a future release. To remove this warning, do the following: 1) Pass option use_label_encoder=False when constructing XGBClassifier object; and 2) Encode your labels (y) as integers starting with 0, i.e. 0, 1, 2, ..., [num_class - 1].\n",
      "  warnings.warn(label_encoder_deprecation_msg, UserWarning)\n",
      "/Users/njp020/Library/Caches/pypoetry/virtualenvs/machinelearningmarchmadness-Ra9ZsL2z-py3.9/lib/python3.9/site-packages/xgboost/sklearn.py:1224: UserWarning: The use of label encoder in XGBClassifier is deprecated and will be removed in a future release. To remove this warning, do the following: 1) Pass option use_label_encoder=False when constructing XGBClassifier object; and 2) Encode your labels (y) as integers starting with 0, i.e. 0, 1, 2, ..., [num_class - 1].\n",
      "  warnings.warn(label_encoder_deprecation_msg, UserWarning)\n",
      "/Users/njp020/Library/Caches/pypoetry/virtualenvs/machinelearningmarchmadness-Ra9ZsL2z-py3.9/lib/python3.9/site-packages/xgboost/sklearn.py:1224: UserWarning: The use of label encoder in XGBClassifier is deprecated and will be removed in a future release. To remove this warning, do the following: 1) Pass option use_label_encoder=False when constructing XGBClassifier object; and 2) Encode your labels (y) as integers starting with 0, i.e. 0, 1, 2, ..., [num_class - 1].\n",
      "  warnings.warn(label_encoder_deprecation_msg, UserWarning)\n",
      "/Users/njp020/Library/Caches/pypoetry/virtualenvs/machinelearningmarchmadness-Ra9ZsL2z-py3.9/lib/python3.9/site-packages/xgboost/sklearn.py:1224: UserWarning: The use of label encoder in XGBClassifier is deprecated and will be removed in a future release. To remove this warning, do the following: 1) Pass option use_label_encoder=False when constructing XGBClassifier object; and 2) Encode your labels (y) as integers starting with 0, i.e. 0, 1, 2, ..., [num_class - 1].\n",
      "  warnings.warn(label_encoder_deprecation_msg, UserWarning)\n",
      "/Users/njp020/Library/Caches/pypoetry/virtualenvs/machinelearningmarchmadness-Ra9ZsL2z-py3.9/lib/python3.9/site-packages/xgboost/sklearn.py:1224: UserWarning: The use of label encoder in XGBClassifier is deprecated and will be removed in a future release. To remove this warning, do the following: 1) Pass option use_label_encoder=False when constructing XGBClassifier object; and 2) Encode your labels (y) as integers starting with 0, i.e. 0, 1, 2, ..., [num_class - 1].\n",
      "  warnings.warn(label_encoder_deprecation_msg, UserWarning)\n",
      "/Users/njp020/Library/Caches/pypoetry/virtualenvs/machinelearningmarchmadness-Ra9ZsL2z-py3.9/lib/python3.9/site-packages/xgboost/sklearn.py:1224: UserWarning: The use of label encoder in XGBClassifier is deprecated and will be removed in a future release. To remove this warning, do the following: 1) Pass option use_label_encoder=False when constructing XGBClassifier object; and 2) Encode your labels (y) as integers starting with 0, i.e. 0, 1, 2, ..., [num_class - 1].\n",
      "  warnings.warn(label_encoder_deprecation_msg, UserWarning)\n",
      "/Users/njp020/Library/Caches/pypoetry/virtualenvs/machinelearningmarchmadness-Ra9ZsL2z-py3.9/lib/python3.9/site-packages/xgboost/sklearn.py:1224: UserWarning: The use of label encoder in XGBClassifier is deprecated and will be removed in a future release. To remove this warning, do the following: 1) Pass option use_label_encoder=False when constructing XGBClassifier object; and 2) Encode your labels (y) as integers starting with 0, i.e. 0, 1, 2, ..., [num_class - 1].\n",
      "  warnings.warn(label_encoder_deprecation_msg, UserWarning)\n",
      "/Users/njp020/Library/Caches/pypoetry/virtualenvs/machinelearningmarchmadness-Ra9ZsL2z-py3.9/lib/python3.9/site-packages/xgboost/sklearn.py:1224: UserWarning: The use of label encoder in XGBClassifier is deprecated and will be removed in a future release. To remove this warning, do the following: 1) Pass option use_label_encoder=False when constructing XGBClassifier object; and 2) Encode your labels (y) as integers starting with 0, i.e. 0, 1, 2, ..., [num_class - 1].\n",
      "  warnings.warn(label_encoder_deprecation_msg, UserWarning)\n",
      "/Users/njp020/Library/Caches/pypoetry/virtualenvs/machinelearningmarchmadness-Ra9ZsL2z-py3.9/lib/python3.9/site-packages/xgboost/sklearn.py:1224: UserWarning: The use of label encoder in XGBClassifier is deprecated and will be removed in a future release. To remove this warning, do the following: 1) Pass option use_label_encoder=False when constructing XGBClassifier object; and 2) Encode your labels (y) as integers starting with 0, i.e. 0, 1, 2, ..., [num_class - 1].\n",
      "  warnings.warn(label_encoder_deprecation_msg, UserWarning)\n",
      "/Users/njp020/Library/Caches/pypoetry/virtualenvs/machinelearningmarchmadness-Ra9ZsL2z-py3.9/lib/python3.9/site-packages/xgboost/sklearn.py:1224: UserWarning: The use of label encoder in XGBClassifier is deprecated and will be removed in a future release. To remove this warning, do the following: 1) Pass option use_label_encoder=False when constructing XGBClassifier object; and 2) Encode your labels (y) as integers starting with 0, i.e. 0, 1, 2, ..., [num_class - 1].\n",
      "  warnings.warn(label_encoder_deprecation_msg, UserWarning)\n",
      "/Users/njp020/Library/Caches/pypoetry/virtualenvs/machinelearningmarchmadness-Ra9ZsL2z-py3.9/lib/python3.9/site-packages/xgboost/sklearn.py:1224: UserWarning: The use of label encoder in XGBClassifier is deprecated and will be removed in a future release. To remove this warning, do the following: 1) Pass option use_label_encoder=False when constructing XGBClassifier object; and 2) Encode your labels (y) as integers starting with 0, i.e. 0, 1, 2, ..., [num_class - 1].\n",
      "  warnings.warn(label_encoder_deprecation_msg, UserWarning)\n",
      "/Users/njp020/Library/Caches/pypoetry/virtualenvs/machinelearningmarchmadness-Ra9ZsL2z-py3.9/lib/python3.9/site-packages/xgboost/sklearn.py:1224: UserWarning: The use of label encoder in XGBClassifier is deprecated and will be removed in a future release. To remove this warning, do the following: 1) Pass option use_label_encoder=False when constructing XGBClassifier object; and 2) Encode your labels (y) as integers starting with 0, i.e. 0, 1, 2, ..., [num_class - 1].\n",
      "  warnings.warn(label_encoder_deprecation_msg, UserWarning)\n",
      "/Users/njp020/Library/Caches/pypoetry/virtualenvs/machinelearningmarchmadness-Ra9ZsL2z-py3.9/lib/python3.9/site-packages/xgboost/sklearn.py:1224: UserWarning: The use of label encoder in XGBClassifier is deprecated and will be removed in a future release. To remove this warning, do the following: 1) Pass option use_label_encoder=False when constructing XGBClassifier object; and 2) Encode your labels (y) as integers starting with 0, i.e. 0, 1, 2, ..., [num_class - 1].\n",
      "  warnings.warn(label_encoder_deprecation_msg, UserWarning)\n",
      "/Users/njp020/Library/Caches/pypoetry/virtualenvs/machinelearningmarchmadness-Ra9ZsL2z-py3.9/lib/python3.9/site-packages/xgboost/sklearn.py:1224: UserWarning: The use of label encoder in XGBClassifier is deprecated and will be removed in a future release. To remove this warning, do the following: 1) Pass option use_label_encoder=False when constructing XGBClassifier object; and 2) Encode your labels (y) as integers starting with 0, i.e. 0, 1, 2, ..., [num_class - 1].\n",
      "  warnings.warn(label_encoder_deprecation_msg, UserWarning)\n",
      "/Users/njp020/Library/Caches/pypoetry/virtualenvs/machinelearningmarchmadness-Ra9ZsL2z-py3.9/lib/python3.9/site-packages/xgboost/sklearn.py:1224: UserWarning: The use of label encoder in XGBClassifier is deprecated and will be removed in a future release. To remove this warning, do the following: 1) Pass option use_label_encoder=False when constructing XGBClassifier object; and 2) Encode your labels (y) as integers starting with 0, i.e. 0, 1, 2, ..., [num_class - 1].\n",
      "  warnings.warn(label_encoder_deprecation_msg, UserWarning)\n",
      "/Users/njp020/Library/Caches/pypoetry/virtualenvs/machinelearningmarchmadness-Ra9ZsL2z-py3.9/lib/python3.9/site-packages/xgboost/sklearn.py:1224: UserWarning: The use of label encoder in XGBClassifier is deprecated and will be removed in a future release. To remove this warning, do the following: 1) Pass option use_label_encoder=False when constructing XGBClassifier object; and 2) Encode your labels (y) as integers starting with 0, i.e. 0, 1, 2, ..., [num_class - 1].\n",
      "  warnings.warn(label_encoder_deprecation_msg, UserWarning)\n"
     ]
    },
    {
     "name": "stderr",
     "output_type": "stream",
     "text": [
      "/Users/njp020/Library/Caches/pypoetry/virtualenvs/machinelearningmarchmadness-Ra9ZsL2z-py3.9/lib/python3.9/site-packages/xgboost/sklearn.py:1224: UserWarning: The use of label encoder in XGBClassifier is deprecated and will be removed in a future release. To remove this warning, do the following: 1) Pass option use_label_encoder=False when constructing XGBClassifier object; and 2) Encode your labels (y) as integers starting with 0, i.e. 0, 1, 2, ..., [num_class - 1].\n",
      "  warnings.warn(label_encoder_deprecation_msg, UserWarning)\n",
      "/Users/njp020/Library/Caches/pypoetry/virtualenvs/machinelearningmarchmadness-Ra9ZsL2z-py3.9/lib/python3.9/site-packages/xgboost/sklearn.py:1224: UserWarning: The use of label encoder in XGBClassifier is deprecated and will be removed in a future release. To remove this warning, do the following: 1) Pass option use_label_encoder=False when constructing XGBClassifier object; and 2) Encode your labels (y) as integers starting with 0, i.e. 0, 1, 2, ..., [num_class - 1].\n",
      "  warnings.warn(label_encoder_deprecation_msg, UserWarning)\n",
      "/Users/njp020/Library/Caches/pypoetry/virtualenvs/machinelearningmarchmadness-Ra9ZsL2z-py3.9/lib/python3.9/site-packages/xgboost/sklearn.py:1224: UserWarning: The use of label encoder in XGBClassifier is deprecated and will be removed in a future release. To remove this warning, do the following: 1) Pass option use_label_encoder=False when constructing XGBClassifier object; and 2) Encode your labels (y) as integers starting with 0, i.e. 0, 1, 2, ..., [num_class - 1].\n",
      "  warnings.warn(label_encoder_deprecation_msg, UserWarning)\n",
      "/Users/njp020/Library/Caches/pypoetry/virtualenvs/machinelearningmarchmadness-Ra9ZsL2z-py3.9/lib/python3.9/site-packages/xgboost/sklearn.py:1224: UserWarning: The use of label encoder in XGBClassifier is deprecated and will be removed in a future release. To remove this warning, do the following: 1) Pass option use_label_encoder=False when constructing XGBClassifier object; and 2) Encode your labels (y) as integers starting with 0, i.e. 0, 1, 2, ..., [num_class - 1].\n",
      "  warnings.warn(label_encoder_deprecation_msg, UserWarning)\n",
      "/Users/njp020/Library/Caches/pypoetry/virtualenvs/machinelearningmarchmadness-Ra9ZsL2z-py3.9/lib/python3.9/site-packages/xgboost/sklearn.py:1224: UserWarning: The use of label encoder in XGBClassifier is deprecated and will be removed in a future release. To remove this warning, do the following: 1) Pass option use_label_encoder=False when constructing XGBClassifier object; and 2) Encode your labels (y) as integers starting with 0, i.e. 0, 1, 2, ..., [num_class - 1].\n",
      "  warnings.warn(label_encoder_deprecation_msg, UserWarning)\n",
      "/Users/njp020/Library/Caches/pypoetry/virtualenvs/machinelearningmarchmadness-Ra9ZsL2z-py3.9/lib/python3.9/site-packages/xgboost/sklearn.py:1224: UserWarning: The use of label encoder in XGBClassifier is deprecated and will be removed in a future release. To remove this warning, do the following: 1) Pass option use_label_encoder=False when constructing XGBClassifier object; and 2) Encode your labels (y) as integers starting with 0, i.e. 0, 1, 2, ..., [num_class - 1].\n",
      "  warnings.warn(label_encoder_deprecation_msg, UserWarning)\n",
      "/Users/njp020/Library/Caches/pypoetry/virtualenvs/machinelearningmarchmadness-Ra9ZsL2z-py3.9/lib/python3.9/site-packages/xgboost/sklearn.py:1224: UserWarning: The use of label encoder in XGBClassifier is deprecated and will be removed in a future release. To remove this warning, do the following: 1) Pass option use_label_encoder=False when constructing XGBClassifier object; and 2) Encode your labels (y) as integers starting with 0, i.e. 0, 1, 2, ..., [num_class - 1].\n",
      "  warnings.warn(label_encoder_deprecation_msg, UserWarning)\n",
      "/Users/njp020/Library/Caches/pypoetry/virtualenvs/machinelearningmarchmadness-Ra9ZsL2z-py3.9/lib/python3.9/site-packages/xgboost/sklearn.py:1224: UserWarning: The use of label encoder in XGBClassifier is deprecated and will be removed in a future release. To remove this warning, do the following: 1) Pass option use_label_encoder=False when constructing XGBClassifier object; and 2) Encode your labels (y) as integers starting with 0, i.e. 0, 1, 2, ..., [num_class - 1].\n",
      "  warnings.warn(label_encoder_deprecation_msg, UserWarning)\n",
      "/Users/njp020/Library/Caches/pypoetry/virtualenvs/machinelearningmarchmadness-Ra9ZsL2z-py3.9/lib/python3.9/site-packages/xgboost/sklearn.py:1224: UserWarning: The use of label encoder in XGBClassifier is deprecated and will be removed in a future release. To remove this warning, do the following: 1) Pass option use_label_encoder=False when constructing XGBClassifier object; and 2) Encode your labels (y) as integers starting with 0, i.e. 0, 1, 2, ..., [num_class - 1].\n",
      "  warnings.warn(label_encoder_deprecation_msg, UserWarning)\n",
      "/Users/njp020/Library/Caches/pypoetry/virtualenvs/machinelearningmarchmadness-Ra9ZsL2z-py3.9/lib/python3.9/site-packages/xgboost/sklearn.py:1224: UserWarning: The use of label encoder in XGBClassifier is deprecated and will be removed in a future release. To remove this warning, do the following: 1) Pass option use_label_encoder=False when constructing XGBClassifier object; and 2) Encode your labels (y) as integers starting with 0, i.e. 0, 1, 2, ..., [num_class - 1].\n",
      "  warnings.warn(label_encoder_deprecation_msg, UserWarning)\n",
      "/Users/njp020/Library/Caches/pypoetry/virtualenvs/machinelearningmarchmadness-Ra9ZsL2z-py3.9/lib/python3.9/site-packages/xgboost/sklearn.py:1224: UserWarning: The use of label encoder in XGBClassifier is deprecated and will be removed in a future release. To remove this warning, do the following: 1) Pass option use_label_encoder=False when constructing XGBClassifier object; and 2) Encode your labels (y) as integers starting with 0, i.e. 0, 1, 2, ..., [num_class - 1].\n",
      "  warnings.warn(label_encoder_deprecation_msg, UserWarning)\n",
      "/Users/njp020/Library/Caches/pypoetry/virtualenvs/machinelearningmarchmadness-Ra9ZsL2z-py3.9/lib/python3.9/site-packages/xgboost/sklearn.py:1224: UserWarning: The use of label encoder in XGBClassifier is deprecated and will be removed in a future release. To remove this warning, do the following: 1) Pass option use_label_encoder=False when constructing XGBClassifier object; and 2) Encode your labels (y) as integers starting with 0, i.e. 0, 1, 2, ..., [num_class - 1].\n",
      "  warnings.warn(label_encoder_deprecation_msg, UserWarning)\n",
      "/Users/njp020/Library/Caches/pypoetry/virtualenvs/machinelearningmarchmadness-Ra9ZsL2z-py3.9/lib/python3.9/site-packages/xgboost/sklearn.py:1224: UserWarning: The use of label encoder in XGBClassifier is deprecated and will be removed in a future release. To remove this warning, do the following: 1) Pass option use_label_encoder=False when constructing XGBClassifier object; and 2) Encode your labels (y) as integers starting with 0, i.e. 0, 1, 2, ..., [num_class - 1].\n",
      "  warnings.warn(label_encoder_deprecation_msg, UserWarning)\n",
      "/Users/njp020/Library/Caches/pypoetry/virtualenvs/machinelearningmarchmadness-Ra9ZsL2z-py3.9/lib/python3.9/site-packages/xgboost/sklearn.py:1224: UserWarning: The use of label encoder in XGBClassifier is deprecated and will be removed in a future release. To remove this warning, do the following: 1) Pass option use_label_encoder=False when constructing XGBClassifier object; and 2) Encode your labels (y) as integers starting with 0, i.e. 0, 1, 2, ..., [num_class - 1].\n",
      "  warnings.warn(label_encoder_deprecation_msg, UserWarning)\n",
      "/Users/njp020/Library/Caches/pypoetry/virtualenvs/machinelearningmarchmadness-Ra9ZsL2z-py3.9/lib/python3.9/site-packages/xgboost/sklearn.py:1224: UserWarning: The use of label encoder in XGBClassifier is deprecated and will be removed in a future release. To remove this warning, do the following: 1) Pass option use_label_encoder=False when constructing XGBClassifier object; and 2) Encode your labels (y) as integers starting with 0, i.e. 0, 1, 2, ..., [num_class - 1].\n",
      "  warnings.warn(label_encoder_deprecation_msg, UserWarning)\n",
      "/Users/njp020/Library/Caches/pypoetry/virtualenvs/machinelearningmarchmadness-Ra9ZsL2z-py3.9/lib/python3.9/site-packages/xgboost/sklearn.py:1224: UserWarning: The use of label encoder in XGBClassifier is deprecated and will be removed in a future release. To remove this warning, do the following: 1) Pass option use_label_encoder=False when constructing XGBClassifier object; and 2) Encode your labels (y) as integers starting with 0, i.e. 0, 1, 2, ..., [num_class - 1].\n",
      "  warnings.warn(label_encoder_deprecation_msg, UserWarning)\n"
     ]
    },
    {
     "name": "stderr",
     "output_type": "stream",
     "text": [
      "/Users/njp020/Library/Caches/pypoetry/virtualenvs/machinelearningmarchmadness-Ra9ZsL2z-py3.9/lib/python3.9/site-packages/xgboost/sklearn.py:1224: UserWarning: The use of label encoder in XGBClassifier is deprecated and will be removed in a future release. To remove this warning, do the following: 1) Pass option use_label_encoder=False when constructing XGBClassifier object; and 2) Encode your labels (y) as integers starting with 0, i.e. 0, 1, 2, ..., [num_class - 1].\n",
      "  warnings.warn(label_encoder_deprecation_msg, UserWarning)\n",
      "/Users/njp020/Library/Caches/pypoetry/virtualenvs/machinelearningmarchmadness-Ra9ZsL2z-py3.9/lib/python3.9/site-packages/xgboost/sklearn.py:1224: UserWarning: The use of label encoder in XGBClassifier is deprecated and will be removed in a future release. To remove this warning, do the following: 1) Pass option use_label_encoder=False when constructing XGBClassifier object; and 2) Encode your labels (y) as integers starting with 0, i.e. 0, 1, 2, ..., [num_class - 1].\n",
      "  warnings.warn(label_encoder_deprecation_msg, UserWarning)\n",
      "/Users/njp020/Library/Caches/pypoetry/virtualenvs/machinelearningmarchmadness-Ra9ZsL2z-py3.9/lib/python3.9/site-packages/xgboost/sklearn.py:1224: UserWarning: The use of label encoder in XGBClassifier is deprecated and will be removed in a future release. To remove this warning, do the following: 1) Pass option use_label_encoder=False when constructing XGBClassifier object; and 2) Encode your labels (y) as integers starting with 0, i.e. 0, 1, 2, ..., [num_class - 1].\n",
      "  warnings.warn(label_encoder_deprecation_msg, UserWarning)\n",
      "/Users/njp020/Library/Caches/pypoetry/virtualenvs/machinelearningmarchmadness-Ra9ZsL2z-py3.9/lib/python3.9/site-packages/xgboost/sklearn.py:1224: UserWarning: The use of label encoder in XGBClassifier is deprecated and will be removed in a future release. To remove this warning, do the following: 1) Pass option use_label_encoder=False when constructing XGBClassifier object; and 2) Encode your labels (y) as integers starting with 0, i.e. 0, 1, 2, ..., [num_class - 1].\n",
      "  warnings.warn(label_encoder_deprecation_msg, UserWarning)\n",
      "/Users/njp020/Library/Caches/pypoetry/virtualenvs/machinelearningmarchmadness-Ra9ZsL2z-py3.9/lib/python3.9/site-packages/xgboost/sklearn.py:1224: UserWarning: The use of label encoder in XGBClassifier is deprecated and will be removed in a future release. To remove this warning, do the following: 1) Pass option use_label_encoder=False when constructing XGBClassifier object; and 2) Encode your labels (y) as integers starting with 0, i.e. 0, 1, 2, ..., [num_class - 1].\n",
      "  warnings.warn(label_encoder_deprecation_msg, UserWarning)\n",
      "/Users/njp020/Library/Caches/pypoetry/virtualenvs/machinelearningmarchmadness-Ra9ZsL2z-py3.9/lib/python3.9/site-packages/xgboost/sklearn.py:1224: UserWarning: The use of label encoder in XGBClassifier is deprecated and will be removed in a future release. To remove this warning, do the following: 1) Pass option use_label_encoder=False when constructing XGBClassifier object; and 2) Encode your labels (y) as integers starting with 0, i.e. 0, 1, 2, ..., [num_class - 1].\n",
      "  warnings.warn(label_encoder_deprecation_msg, UserWarning)\n",
      "/Users/njp020/Library/Caches/pypoetry/virtualenvs/machinelearningmarchmadness-Ra9ZsL2z-py3.9/lib/python3.9/site-packages/xgboost/sklearn.py:1224: UserWarning: The use of label encoder in XGBClassifier is deprecated and will be removed in a future release. To remove this warning, do the following: 1) Pass option use_label_encoder=False when constructing XGBClassifier object; and 2) Encode your labels (y) as integers starting with 0, i.e. 0, 1, 2, ..., [num_class - 1].\n",
      "  warnings.warn(label_encoder_deprecation_msg, UserWarning)\n",
      "/Users/njp020/Library/Caches/pypoetry/virtualenvs/machinelearningmarchmadness-Ra9ZsL2z-py3.9/lib/python3.9/site-packages/xgboost/sklearn.py:1224: UserWarning: The use of label encoder in XGBClassifier is deprecated and will be removed in a future release. To remove this warning, do the following: 1) Pass option use_label_encoder=False when constructing XGBClassifier object; and 2) Encode your labels (y) as integers starting with 0, i.e. 0, 1, 2, ..., [num_class - 1].\n",
      "  warnings.warn(label_encoder_deprecation_msg, UserWarning)\n",
      "/Users/njp020/Library/Caches/pypoetry/virtualenvs/machinelearningmarchmadness-Ra9ZsL2z-py3.9/lib/python3.9/site-packages/xgboost/sklearn.py:1224: UserWarning: The use of label encoder in XGBClassifier is deprecated and will be removed in a future release. To remove this warning, do the following: 1) Pass option use_label_encoder=False when constructing XGBClassifier object; and 2) Encode your labels (y) as integers starting with 0, i.e. 0, 1, 2, ..., [num_class - 1].\n",
      "  warnings.warn(label_encoder_deprecation_msg, UserWarning)\n",
      "/Users/njp020/Library/Caches/pypoetry/virtualenvs/machinelearningmarchmadness-Ra9ZsL2z-py3.9/lib/python3.9/site-packages/xgboost/sklearn.py:1224: UserWarning: The use of label encoder in XGBClassifier is deprecated and will be removed in a future release. To remove this warning, do the following: 1) Pass option use_label_encoder=False when constructing XGBClassifier object; and 2) Encode your labels (y) as integers starting with 0, i.e. 0, 1, 2, ..., [num_class - 1].\n",
      "  warnings.warn(label_encoder_deprecation_msg, UserWarning)\n",
      "/Users/njp020/Library/Caches/pypoetry/virtualenvs/machinelearningmarchmadness-Ra9ZsL2z-py3.9/lib/python3.9/site-packages/xgboost/sklearn.py:1224: UserWarning: The use of label encoder in XGBClassifier is deprecated and will be removed in a future release. To remove this warning, do the following: 1) Pass option use_label_encoder=False when constructing XGBClassifier object; and 2) Encode your labels (y) as integers starting with 0, i.e. 0, 1, 2, ..., [num_class - 1].\n",
      "  warnings.warn(label_encoder_deprecation_msg, UserWarning)\n",
      "/Users/njp020/Library/Caches/pypoetry/virtualenvs/machinelearningmarchmadness-Ra9ZsL2z-py3.9/lib/python3.9/site-packages/xgboost/sklearn.py:1224: UserWarning: The use of label encoder in XGBClassifier is deprecated and will be removed in a future release. To remove this warning, do the following: 1) Pass option use_label_encoder=False when constructing XGBClassifier object; and 2) Encode your labels (y) as integers starting with 0, i.e. 0, 1, 2, ..., [num_class - 1].\n",
      "  warnings.warn(label_encoder_deprecation_msg, UserWarning)\n",
      "/Users/njp020/Library/Caches/pypoetry/virtualenvs/machinelearningmarchmadness-Ra9ZsL2z-py3.9/lib/python3.9/site-packages/xgboost/sklearn.py:1224: UserWarning: The use of label encoder in XGBClassifier is deprecated and will be removed in a future release. To remove this warning, do the following: 1) Pass option use_label_encoder=False when constructing XGBClassifier object; and 2) Encode your labels (y) as integers starting with 0, i.e. 0, 1, 2, ..., [num_class - 1].\n",
      "  warnings.warn(label_encoder_deprecation_msg, UserWarning)\n",
      "/Users/njp020/Library/Caches/pypoetry/virtualenvs/machinelearningmarchmadness-Ra9ZsL2z-py3.9/lib/python3.9/site-packages/xgboost/sklearn.py:1224: UserWarning: The use of label encoder in XGBClassifier is deprecated and will be removed in a future release. To remove this warning, do the following: 1) Pass option use_label_encoder=False when constructing XGBClassifier object; and 2) Encode your labels (y) as integers starting with 0, i.e. 0, 1, 2, ..., [num_class - 1].\n",
      "  warnings.warn(label_encoder_deprecation_msg, UserWarning)\n",
      "/Users/njp020/Library/Caches/pypoetry/virtualenvs/machinelearningmarchmadness-Ra9ZsL2z-py3.9/lib/python3.9/site-packages/xgboost/sklearn.py:1224: UserWarning: The use of label encoder in XGBClassifier is deprecated and will be removed in a future release. To remove this warning, do the following: 1) Pass option use_label_encoder=False when constructing XGBClassifier object; and 2) Encode your labels (y) as integers starting with 0, i.e. 0, 1, 2, ..., [num_class - 1].\n",
      "  warnings.warn(label_encoder_deprecation_msg, UserWarning)\n",
      "/Users/njp020/Library/Caches/pypoetry/virtualenvs/machinelearningmarchmadness-Ra9ZsL2z-py3.9/lib/python3.9/site-packages/xgboost/sklearn.py:1224: UserWarning: The use of label encoder in XGBClassifier is deprecated and will be removed in a future release. To remove this warning, do the following: 1) Pass option use_label_encoder=False when constructing XGBClassifier object; and 2) Encode your labels (y) as integers starting with 0, i.e. 0, 1, 2, ..., [num_class - 1].\n",
      "  warnings.warn(label_encoder_deprecation_msg, UserWarning)\n",
      "/Users/njp020/Library/Caches/pypoetry/virtualenvs/machinelearningmarchmadness-Ra9ZsL2z-py3.9/lib/python3.9/site-packages/xgboost/sklearn.py:1224: UserWarning: The use of label encoder in XGBClassifier is deprecated and will be removed in a future release. To remove this warning, do the following: 1) Pass option use_label_encoder=False when constructing XGBClassifier object; and 2) Encode your labels (y) as integers starting with 0, i.e. 0, 1, 2, ..., [num_class - 1].\n",
      "  warnings.warn(label_encoder_deprecation_msg, UserWarning)\n"
     ]
    },
    {
     "name": "stderr",
     "output_type": "stream",
     "text": [
      "/Users/njp020/Library/Caches/pypoetry/virtualenvs/machinelearningmarchmadness-Ra9ZsL2z-py3.9/lib/python3.9/site-packages/xgboost/sklearn.py:1224: UserWarning: The use of label encoder in XGBClassifier is deprecated and will be removed in a future release. To remove this warning, do the following: 1) Pass option use_label_encoder=False when constructing XGBClassifier object; and 2) Encode your labels (y) as integers starting with 0, i.e. 0, 1, 2, ..., [num_class - 1].\n",
      "  warnings.warn(label_encoder_deprecation_msg, UserWarning)\n",
      "/Users/njp020/Library/Caches/pypoetry/virtualenvs/machinelearningmarchmadness-Ra9ZsL2z-py3.9/lib/python3.9/site-packages/xgboost/sklearn.py:1224: UserWarning: The use of label encoder in XGBClassifier is deprecated and will be removed in a future release. To remove this warning, do the following: 1) Pass option use_label_encoder=False when constructing XGBClassifier object; and 2) Encode your labels (y) as integers starting with 0, i.e. 0, 1, 2, ..., [num_class - 1].\n",
      "  warnings.warn(label_encoder_deprecation_msg, UserWarning)\n",
      "/Users/njp020/Library/Caches/pypoetry/virtualenvs/machinelearningmarchmadness-Ra9ZsL2z-py3.9/lib/python3.9/site-packages/xgboost/sklearn.py:1224: UserWarning: The use of label encoder in XGBClassifier is deprecated and will be removed in a future release. To remove this warning, do the following: 1) Pass option use_label_encoder=False when constructing XGBClassifier object; and 2) Encode your labels (y) as integers starting with 0, i.e. 0, 1, 2, ..., [num_class - 1].\n",
      "  warnings.warn(label_encoder_deprecation_msg, UserWarning)\n",
      "/Users/njp020/Library/Caches/pypoetry/virtualenvs/machinelearningmarchmadness-Ra9ZsL2z-py3.9/lib/python3.9/site-packages/xgboost/sklearn.py:1224: UserWarning: The use of label encoder in XGBClassifier is deprecated and will be removed in a future release. To remove this warning, do the following: 1) Pass option use_label_encoder=False when constructing XGBClassifier object; and 2) Encode your labels (y) as integers starting with 0, i.e. 0, 1, 2, ..., [num_class - 1].\n",
      "  warnings.warn(label_encoder_deprecation_msg, UserWarning)\n",
      "/Users/njp020/Library/Caches/pypoetry/virtualenvs/machinelearningmarchmadness-Ra9ZsL2z-py3.9/lib/python3.9/site-packages/xgboost/sklearn.py:1224: UserWarning: The use of label encoder in XGBClassifier is deprecated and will be removed in a future release. To remove this warning, do the following: 1) Pass option use_label_encoder=False when constructing XGBClassifier object; and 2) Encode your labels (y) as integers starting with 0, i.e. 0, 1, 2, ..., [num_class - 1].\n",
      "  warnings.warn(label_encoder_deprecation_msg, UserWarning)\n",
      "/Users/njp020/Library/Caches/pypoetry/virtualenvs/machinelearningmarchmadness-Ra9ZsL2z-py3.9/lib/python3.9/site-packages/xgboost/sklearn.py:1224: UserWarning: The use of label encoder in XGBClassifier is deprecated and will be removed in a future release. To remove this warning, do the following: 1) Pass option use_label_encoder=False when constructing XGBClassifier object; and 2) Encode your labels (y) as integers starting with 0, i.e. 0, 1, 2, ..., [num_class - 1].\n",
      "  warnings.warn(label_encoder_deprecation_msg, UserWarning)\n",
      "/Users/njp020/Library/Caches/pypoetry/virtualenvs/machinelearningmarchmadness-Ra9ZsL2z-py3.9/lib/python3.9/site-packages/xgboost/sklearn.py:1224: UserWarning: The use of label encoder in XGBClassifier is deprecated and will be removed in a future release. To remove this warning, do the following: 1) Pass option use_label_encoder=False when constructing XGBClassifier object; and 2) Encode your labels (y) as integers starting with 0, i.e. 0, 1, 2, ..., [num_class - 1].\n",
      "  warnings.warn(label_encoder_deprecation_msg, UserWarning)\n",
      "/Users/njp020/Library/Caches/pypoetry/virtualenvs/machinelearningmarchmadness-Ra9ZsL2z-py3.9/lib/python3.9/site-packages/xgboost/sklearn.py:1224: UserWarning: The use of label encoder in XGBClassifier is deprecated and will be removed in a future release. To remove this warning, do the following: 1) Pass option use_label_encoder=False when constructing XGBClassifier object; and 2) Encode your labels (y) as integers starting with 0, i.e. 0, 1, 2, ..., [num_class - 1].\n",
      "  warnings.warn(label_encoder_deprecation_msg, UserWarning)\n",
      "/Users/njp020/Library/Caches/pypoetry/virtualenvs/machinelearningmarchmadness-Ra9ZsL2z-py3.9/lib/python3.9/site-packages/xgboost/sklearn.py:1224: UserWarning: The use of label encoder in XGBClassifier is deprecated and will be removed in a future release. To remove this warning, do the following: 1) Pass option use_label_encoder=False when constructing XGBClassifier object; and 2) Encode your labels (y) as integers starting with 0, i.e. 0, 1, 2, ..., [num_class - 1].\n",
      "  warnings.warn(label_encoder_deprecation_msg, UserWarning)\n",
      "/Users/njp020/Library/Caches/pypoetry/virtualenvs/machinelearningmarchmadness-Ra9ZsL2z-py3.9/lib/python3.9/site-packages/xgboost/sklearn.py:1224: UserWarning: The use of label encoder in XGBClassifier is deprecated and will be removed in a future release. To remove this warning, do the following: 1) Pass option use_label_encoder=False when constructing XGBClassifier object; and 2) Encode your labels (y) as integers starting with 0, i.e. 0, 1, 2, ..., [num_class - 1].\n",
      "  warnings.warn(label_encoder_deprecation_msg, UserWarning)\n",
      "/Users/njp020/Library/Caches/pypoetry/virtualenvs/machinelearningmarchmadness-Ra9ZsL2z-py3.9/lib/python3.9/site-packages/xgboost/sklearn.py:1224: UserWarning: The use of label encoder in XGBClassifier is deprecated and will be removed in a future release. To remove this warning, do the following: 1) Pass option use_label_encoder=False when constructing XGBClassifier object; and 2) Encode your labels (y) as integers starting with 0, i.e. 0, 1, 2, ..., [num_class - 1].\n",
      "  warnings.warn(label_encoder_deprecation_msg, UserWarning)\n",
      "/Users/njp020/Library/Caches/pypoetry/virtualenvs/machinelearningmarchmadness-Ra9ZsL2z-py3.9/lib/python3.9/site-packages/xgboost/sklearn.py:1224: UserWarning: The use of label encoder in XGBClassifier is deprecated and will be removed in a future release. To remove this warning, do the following: 1) Pass option use_label_encoder=False when constructing XGBClassifier object; and 2) Encode your labels (y) as integers starting with 0, i.e. 0, 1, 2, ..., [num_class - 1].\n",
      "  warnings.warn(label_encoder_deprecation_msg, UserWarning)\n",
      "/Users/njp020/Library/Caches/pypoetry/virtualenvs/machinelearningmarchmadness-Ra9ZsL2z-py3.9/lib/python3.9/site-packages/xgboost/sklearn.py:1224: UserWarning: The use of label encoder in XGBClassifier is deprecated and will be removed in a future release. To remove this warning, do the following: 1) Pass option use_label_encoder=False when constructing XGBClassifier object; and 2) Encode your labels (y) as integers starting with 0, i.e. 0, 1, 2, ..., [num_class - 1].\n",
      "  warnings.warn(label_encoder_deprecation_msg, UserWarning)\n",
      "/Users/njp020/Library/Caches/pypoetry/virtualenvs/machinelearningmarchmadness-Ra9ZsL2z-py3.9/lib/python3.9/site-packages/xgboost/sklearn.py:1224: UserWarning: The use of label encoder in XGBClassifier is deprecated and will be removed in a future release. To remove this warning, do the following: 1) Pass option use_label_encoder=False when constructing XGBClassifier object; and 2) Encode your labels (y) as integers starting with 0, i.e. 0, 1, 2, ..., [num_class - 1].\n",
      "  warnings.warn(label_encoder_deprecation_msg, UserWarning)\n",
      "/Users/njp020/Library/Caches/pypoetry/virtualenvs/machinelearningmarchmadness-Ra9ZsL2z-py3.9/lib/python3.9/site-packages/xgboost/sklearn.py:1224: UserWarning: The use of label encoder in XGBClassifier is deprecated and will be removed in a future release. To remove this warning, do the following: 1) Pass option use_label_encoder=False when constructing XGBClassifier object; and 2) Encode your labels (y) as integers starting with 0, i.e. 0, 1, 2, ..., [num_class - 1].\n",
      "  warnings.warn(label_encoder_deprecation_msg, UserWarning)\n",
      "/Users/njp020/Library/Caches/pypoetry/virtualenvs/machinelearningmarchmadness-Ra9ZsL2z-py3.9/lib/python3.9/site-packages/xgboost/sklearn.py:1224: UserWarning: The use of label encoder in XGBClassifier is deprecated and will be removed in a future release. To remove this warning, do the following: 1) Pass option use_label_encoder=False when constructing XGBClassifier object; and 2) Encode your labels (y) as integers starting with 0, i.e. 0, 1, 2, ..., [num_class - 1].\n",
      "  warnings.warn(label_encoder_deprecation_msg, UserWarning)\n",
      "/Users/njp020/Library/Caches/pypoetry/virtualenvs/machinelearningmarchmadness-Ra9ZsL2z-py3.9/lib/python3.9/site-packages/xgboost/sklearn.py:1224: UserWarning: The use of label encoder in XGBClassifier is deprecated and will be removed in a future release. To remove this warning, do the following: 1) Pass option use_label_encoder=False when constructing XGBClassifier object; and 2) Encode your labels (y) as integers starting with 0, i.e. 0, 1, 2, ..., [num_class - 1].\n",
      "  warnings.warn(label_encoder_deprecation_msg, UserWarning)\n",
      "/Users/njp020/Library/Caches/pypoetry/virtualenvs/machinelearningmarchmadness-Ra9ZsL2z-py3.9/lib/python3.9/site-packages/xgboost/sklearn.py:1224: UserWarning: The use of label encoder in XGBClassifier is deprecated and will be removed in a future release. To remove this warning, do the following: 1) Pass option use_label_encoder=False when constructing XGBClassifier object; and 2) Encode your labels (y) as integers starting with 0, i.e. 0, 1, 2, ..., [num_class - 1].\n",
      "  warnings.warn(label_encoder_deprecation_msg, UserWarning)\n",
      "/Users/njp020/Library/Caches/pypoetry/virtualenvs/machinelearningmarchmadness-Ra9ZsL2z-py3.9/lib/python3.9/site-packages/xgboost/sklearn.py:1224: UserWarning: The use of label encoder in XGBClassifier is deprecated and will be removed in a future release. To remove this warning, do the following: 1) Pass option use_label_encoder=False when constructing XGBClassifier object; and 2) Encode your labels (y) as integers starting with 0, i.e. 0, 1, 2, ..., [num_class - 1].\n",
      "  warnings.warn(label_encoder_deprecation_msg, UserWarning)\n",
      "/Users/njp020/Library/Caches/pypoetry/virtualenvs/machinelearningmarchmadness-Ra9ZsL2z-py3.9/lib/python3.9/site-packages/xgboost/sklearn.py:1224: UserWarning: The use of label encoder in XGBClassifier is deprecated and will be removed in a future release. To remove this warning, do the following: 1) Pass option use_label_encoder=False when constructing XGBClassifier object; and 2) Encode your labels (y) as integers starting with 0, i.e. 0, 1, 2, ..., [num_class - 1].\n",
      "  warnings.warn(label_encoder_deprecation_msg, UserWarning)\n"
     ]
    },
    {
     "name": "stderr",
     "output_type": "stream",
     "text": [
      "/Users/njp020/Library/Caches/pypoetry/virtualenvs/machinelearningmarchmadness-Ra9ZsL2z-py3.9/lib/python3.9/site-packages/xgboost/sklearn.py:1224: UserWarning: The use of label encoder in XGBClassifier is deprecated and will be removed in a future release. To remove this warning, do the following: 1) Pass option use_label_encoder=False when constructing XGBClassifier object; and 2) Encode your labels (y) as integers starting with 0, i.e. 0, 1, 2, ..., [num_class - 1].\n",
      "  warnings.warn(label_encoder_deprecation_msg, UserWarning)\n",
      "/Users/njp020/Library/Caches/pypoetry/virtualenvs/machinelearningmarchmadness-Ra9ZsL2z-py3.9/lib/python3.9/site-packages/xgboost/sklearn.py:1224: UserWarning: The use of label encoder in XGBClassifier is deprecated and will be removed in a future release. To remove this warning, do the following: 1) Pass option use_label_encoder=False when constructing XGBClassifier object; and 2) Encode your labels (y) as integers starting with 0, i.e. 0, 1, 2, ..., [num_class - 1].\n",
      "  warnings.warn(label_encoder_deprecation_msg, UserWarning)\n",
      "/Users/njp020/Library/Caches/pypoetry/virtualenvs/machinelearningmarchmadness-Ra9ZsL2z-py3.9/lib/python3.9/site-packages/xgboost/sklearn.py:1224: UserWarning: The use of label encoder in XGBClassifier is deprecated and will be removed in a future release. To remove this warning, do the following: 1) Pass option use_label_encoder=False when constructing XGBClassifier object; and 2) Encode your labels (y) as integers starting with 0, i.e. 0, 1, 2, ..., [num_class - 1].\n",
      "  warnings.warn(label_encoder_deprecation_msg, UserWarning)\n",
      "/Users/njp020/Library/Caches/pypoetry/virtualenvs/machinelearningmarchmadness-Ra9ZsL2z-py3.9/lib/python3.9/site-packages/xgboost/sklearn.py:1224: UserWarning: The use of label encoder in XGBClassifier is deprecated and will be removed in a future release. To remove this warning, do the following: 1) Pass option use_label_encoder=False when constructing XGBClassifier object; and 2) Encode your labels (y) as integers starting with 0, i.e. 0, 1, 2, ..., [num_class - 1].\n",
      "  warnings.warn(label_encoder_deprecation_msg, UserWarning)\n",
      "/Users/njp020/Library/Caches/pypoetry/virtualenvs/machinelearningmarchmadness-Ra9ZsL2z-py3.9/lib/python3.9/site-packages/xgboost/sklearn.py:1224: UserWarning: The use of label encoder in XGBClassifier is deprecated and will be removed in a future release. To remove this warning, do the following: 1) Pass option use_label_encoder=False when constructing XGBClassifier object; and 2) Encode your labels (y) as integers starting with 0, i.e. 0, 1, 2, ..., [num_class - 1].\n",
      "  warnings.warn(label_encoder_deprecation_msg, UserWarning)\n",
      "/Users/njp020/Library/Caches/pypoetry/virtualenvs/machinelearningmarchmadness-Ra9ZsL2z-py3.9/lib/python3.9/site-packages/xgboost/sklearn.py:1224: UserWarning: The use of label encoder in XGBClassifier is deprecated and will be removed in a future release. To remove this warning, do the following: 1) Pass option use_label_encoder=False when constructing XGBClassifier object; and 2) Encode your labels (y) as integers starting with 0, i.e. 0, 1, 2, ..., [num_class - 1].\n",
      "  warnings.warn(label_encoder_deprecation_msg, UserWarning)\n"
     ]
    },
    {
     "name": "stdout",
     "output_type": "stream",
     "text": [
      "[12:26:07] WARNING: /Users/runner/work/xgboost/xgboost/src/learner.cc:1115: Starting in XGBoost 1.3.0, the default evaluation metric used with the objective 'binary:logistic' was changed from 'error' to 'logloss'. Explicitly set eval_metric if you'd like to restore the old behavior.\n"
     ]
    },
    {
     "name": "stderr",
     "output_type": "stream",
     "text": [
      "/Users/njp020/Library/Caches/pypoetry/virtualenvs/machinelearningmarchmadness-Ra9ZsL2z-py3.9/lib/python3.9/site-packages/xgboost/sklearn.py:1224: UserWarning: The use of label encoder in XGBClassifier is deprecated and will be removed in a future release. To remove this warning, do the following: 1) Pass option use_label_encoder=False when constructing XGBClassifier object; and 2) Encode your labels (y) as integers starting with 0, i.e. 0, 1, 2, ..., [num_class - 1].\n",
      "  warnings.warn(label_encoder_deprecation_msg, UserWarning)\n"
     ]
    },
    {
     "data": {
      "text/plain": [
       "(0.8000378143316317, {'max_depth': 5, 'min_child_weight': 1})"
      ]
     },
     "execution_count": 32,
     "metadata": {},
     "output_type": "execute_result"
    }
   ],
   "source": [
    "# Optimize Hyper Parameters\n",
    "param_test1 = {\n",
    " 'max_depth':range(1,10,2),\n",
    " 'min_child_weight':range(1,6,2)\n",
    "}\n",
    "gsearch1 = GridSearchCV(estimator = xgb.XGBClassifier( learning_rate =0.1, n_estimators=140, max_depth=5,\n",
    " min_child_weight=1, gamma=0, subsample=0.8, colsample_bytree=0.8,\n",
    " objective= 'binary:logistic', nthread=4, scale_pos_weight=1, seed=27), \n",
    " param_grid = param_test1, scoring='roc_auc',n_jobs=4, cv=5)\n",
    "gsearch1.fit(ps_x_train, ps_y_train.ravel())\n",
    "gsearch1.best_score_, gsearch1.best_params_"
   ]
  },
  {
   "cell_type": "code",
   "execution_count": 33,
   "metadata": {},
   "outputs": [
    {
     "name": "stderr",
     "output_type": "stream",
     "text": [
      "/Users/njp020/Library/Caches/pypoetry/virtualenvs/machinelearningmarchmadness-Ra9ZsL2z-py3.9/lib/python3.9/site-packages/xgboost/sklearn.py:1224: UserWarning: The use of label encoder in XGBClassifier is deprecated and will be removed in a future release. To remove this warning, do the following: 1) Pass option use_label_encoder=False when constructing XGBClassifier object; and 2) Encode your labels (y) as integers starting with 0, i.e. 0, 1, 2, ..., [num_class - 1].\n",
      "  warnings.warn(label_encoder_deprecation_msg, UserWarning)\n",
      "/Users/njp020/Library/Caches/pypoetry/virtualenvs/machinelearningmarchmadness-Ra9ZsL2z-py3.9/lib/python3.9/site-packages/xgboost/sklearn.py:1224: UserWarning: The use of label encoder in XGBClassifier is deprecated and will be removed in a future release. To remove this warning, do the following: 1) Pass option use_label_encoder=False when constructing XGBClassifier object; and 2) Encode your labels (y) as integers starting with 0, i.e. 0, 1, 2, ..., [num_class - 1].\n",
      "  warnings.warn(label_encoder_deprecation_msg, UserWarning)\n",
      "/Users/njp020/Library/Caches/pypoetry/virtualenvs/machinelearningmarchmadness-Ra9ZsL2z-py3.9/lib/python3.9/site-packages/xgboost/sklearn.py:1224: UserWarning: The use of label encoder in XGBClassifier is deprecated and will be removed in a future release. To remove this warning, do the following: 1) Pass option use_label_encoder=False when constructing XGBClassifier object; and 2) Encode your labels (y) as integers starting with 0, i.e. 0, 1, 2, ..., [num_class - 1].\n",
      "  warnings.warn(label_encoder_deprecation_msg, UserWarning)\n",
      "/Users/njp020/Library/Caches/pypoetry/virtualenvs/machinelearningmarchmadness-Ra9ZsL2z-py3.9/lib/python3.9/site-packages/xgboost/sklearn.py:1224: UserWarning: The use of label encoder in XGBClassifier is deprecated and will be removed in a future release. To remove this warning, do the following: 1) Pass option use_label_encoder=False when constructing XGBClassifier object; and 2) Encode your labels (y) as integers starting with 0, i.e. 0, 1, 2, ..., [num_class - 1].\n",
      "  warnings.warn(label_encoder_deprecation_msg, UserWarning)\n",
      "/Users/njp020/Library/Caches/pypoetry/virtualenvs/machinelearningmarchmadness-Ra9ZsL2z-py3.9/lib/python3.9/site-packages/xgboost/sklearn.py:1224: UserWarning: The use of label encoder in XGBClassifier is deprecated and will be removed in a future release. To remove this warning, do the following: 1) Pass option use_label_encoder=False when constructing XGBClassifier object; and 2) Encode your labels (y) as integers starting with 0, i.e. 0, 1, 2, ..., [num_class - 1].\n",
      "  warnings.warn(label_encoder_deprecation_msg, UserWarning)\n",
      "/Users/njp020/Library/Caches/pypoetry/virtualenvs/machinelearningmarchmadness-Ra9ZsL2z-py3.9/lib/python3.9/site-packages/xgboost/sklearn.py:1224: UserWarning: The use of label encoder in XGBClassifier is deprecated and will be removed in a future release. To remove this warning, do the following: 1) Pass option use_label_encoder=False when constructing XGBClassifier object; and 2) Encode your labels (y) as integers starting with 0, i.e. 0, 1, 2, ..., [num_class - 1].\n",
      "  warnings.warn(label_encoder_deprecation_msg, UserWarning)\n",
      "/Users/njp020/Library/Caches/pypoetry/virtualenvs/machinelearningmarchmadness-Ra9ZsL2z-py3.9/lib/python3.9/site-packages/xgboost/sklearn.py:1224: UserWarning: The use of label encoder in XGBClassifier is deprecated and will be removed in a future release. To remove this warning, do the following: 1) Pass option use_label_encoder=False when constructing XGBClassifier object; and 2) Encode your labels (y) as integers starting with 0, i.e. 0, 1, 2, ..., [num_class - 1].\n",
      "  warnings.warn(label_encoder_deprecation_msg, UserWarning)\n",
      "/Users/njp020/Library/Caches/pypoetry/virtualenvs/machinelearningmarchmadness-Ra9ZsL2z-py3.9/lib/python3.9/site-packages/xgboost/sklearn.py:1224: UserWarning: The use of label encoder in XGBClassifier is deprecated and will be removed in a future release. To remove this warning, do the following: 1) Pass option use_label_encoder=False when constructing XGBClassifier object; and 2) Encode your labels (y) as integers starting with 0, i.e. 0, 1, 2, ..., [num_class - 1].\n",
      "  warnings.warn(label_encoder_deprecation_msg, UserWarning)\n",
      "/Users/njp020/Library/Caches/pypoetry/virtualenvs/machinelearningmarchmadness-Ra9ZsL2z-py3.9/lib/python3.9/site-packages/xgboost/sklearn.py:1224: UserWarning: The use of label encoder in XGBClassifier is deprecated and will be removed in a future release. To remove this warning, do the following: 1) Pass option use_label_encoder=False when constructing XGBClassifier object; and 2) Encode your labels (y) as integers starting with 0, i.e. 0, 1, 2, ..., [num_class - 1].\n",
      "  warnings.warn(label_encoder_deprecation_msg, UserWarning)\n",
      "/Users/njp020/Library/Caches/pypoetry/virtualenvs/machinelearningmarchmadness-Ra9ZsL2z-py3.9/lib/python3.9/site-packages/xgboost/sklearn.py:1224: UserWarning: The use of label encoder in XGBClassifier is deprecated and will be removed in a future release. To remove this warning, do the following: 1) Pass option use_label_encoder=False when constructing XGBClassifier object; and 2) Encode your labels (y) as integers starting with 0, i.e. 0, 1, 2, ..., [num_class - 1].\n",
      "  warnings.warn(label_encoder_deprecation_msg, UserWarning)\n",
      "/Users/njp020/Library/Caches/pypoetry/virtualenvs/machinelearningmarchmadness-Ra9ZsL2z-py3.9/lib/python3.9/site-packages/xgboost/sklearn.py:1224: UserWarning: The use of label encoder in XGBClassifier is deprecated and will be removed in a future release. To remove this warning, do the following: 1) Pass option use_label_encoder=False when constructing XGBClassifier object; and 2) Encode your labels (y) as integers starting with 0, i.e. 0, 1, 2, ..., [num_class - 1].\n",
      "  warnings.warn(label_encoder_deprecation_msg, UserWarning)\n",
      "/Users/njp020/Library/Caches/pypoetry/virtualenvs/machinelearningmarchmadness-Ra9ZsL2z-py3.9/lib/python3.9/site-packages/xgboost/sklearn.py:1224: UserWarning: The use of label encoder in XGBClassifier is deprecated and will be removed in a future release. To remove this warning, do the following: 1) Pass option use_label_encoder=False when constructing XGBClassifier object; and 2) Encode your labels (y) as integers starting with 0, i.e. 0, 1, 2, ..., [num_class - 1].\n",
      "  warnings.warn(label_encoder_deprecation_msg, UserWarning)\n",
      "/Users/njp020/Library/Caches/pypoetry/virtualenvs/machinelearningmarchmadness-Ra9ZsL2z-py3.9/lib/python3.9/site-packages/xgboost/sklearn.py:1224: UserWarning: The use of label encoder in XGBClassifier is deprecated and will be removed in a future release. To remove this warning, do the following: 1) Pass option use_label_encoder=False when constructing XGBClassifier object; and 2) Encode your labels (y) as integers starting with 0, i.e. 0, 1, 2, ..., [num_class - 1].\n",
      "  warnings.warn(label_encoder_deprecation_msg, UserWarning)\n",
      "/Users/njp020/Library/Caches/pypoetry/virtualenvs/machinelearningmarchmadness-Ra9ZsL2z-py3.9/lib/python3.9/site-packages/xgboost/sklearn.py:1224: UserWarning: The use of label encoder in XGBClassifier is deprecated and will be removed in a future release. To remove this warning, do the following: 1) Pass option use_label_encoder=False when constructing XGBClassifier object; and 2) Encode your labels (y) as integers starting with 0, i.e. 0, 1, 2, ..., [num_class - 1].\n",
      "  warnings.warn(label_encoder_deprecation_msg, UserWarning)\n",
      "/Users/njp020/Library/Caches/pypoetry/virtualenvs/machinelearningmarchmadness-Ra9ZsL2z-py3.9/lib/python3.9/site-packages/xgboost/sklearn.py:1224: UserWarning: The use of label encoder in XGBClassifier is deprecated and will be removed in a future release. To remove this warning, do the following: 1) Pass option use_label_encoder=False when constructing XGBClassifier object; and 2) Encode your labels (y) as integers starting with 0, i.e. 0, 1, 2, ..., [num_class - 1].\n",
      "  warnings.warn(label_encoder_deprecation_msg, UserWarning)\n",
      "/Users/njp020/Library/Caches/pypoetry/virtualenvs/machinelearningmarchmadness-Ra9ZsL2z-py3.9/lib/python3.9/site-packages/xgboost/sklearn.py:1224: UserWarning: The use of label encoder in XGBClassifier is deprecated and will be removed in a future release. To remove this warning, do the following: 1) Pass option use_label_encoder=False when constructing XGBClassifier object; and 2) Encode your labels (y) as integers starting with 0, i.e. 0, 1, 2, ..., [num_class - 1].\n",
      "  warnings.warn(label_encoder_deprecation_msg, UserWarning)\n",
      "/Users/njp020/Library/Caches/pypoetry/virtualenvs/machinelearningmarchmadness-Ra9ZsL2z-py3.9/lib/python3.9/site-packages/xgboost/sklearn.py:1224: UserWarning: The use of label encoder in XGBClassifier is deprecated and will be removed in a future release. To remove this warning, do the following: 1) Pass option use_label_encoder=False when constructing XGBClassifier object; and 2) Encode your labels (y) as integers starting with 0, i.e. 0, 1, 2, ..., [num_class - 1].\n",
      "  warnings.warn(label_encoder_deprecation_msg, UserWarning)\n",
      "/Users/njp020/Library/Caches/pypoetry/virtualenvs/machinelearningmarchmadness-Ra9ZsL2z-py3.9/lib/python3.9/site-packages/xgboost/sklearn.py:1224: UserWarning: The use of label encoder in XGBClassifier is deprecated and will be removed in a future release. To remove this warning, do the following: 1) Pass option use_label_encoder=False when constructing XGBClassifier object; and 2) Encode your labels (y) as integers starting with 0, i.e. 0, 1, 2, ..., [num_class - 1].\n",
      "  warnings.warn(label_encoder_deprecation_msg, UserWarning)\n",
      "/Users/njp020/Library/Caches/pypoetry/virtualenvs/machinelearningmarchmadness-Ra9ZsL2z-py3.9/lib/python3.9/site-packages/xgboost/sklearn.py:1224: UserWarning: The use of label encoder in XGBClassifier is deprecated and will be removed in a future release. To remove this warning, do the following: 1) Pass option use_label_encoder=False when constructing XGBClassifier object; and 2) Encode your labels (y) as integers starting with 0, i.e. 0, 1, 2, ..., [num_class - 1].\n",
      "  warnings.warn(label_encoder_deprecation_msg, UserWarning)\n",
      "/Users/njp020/Library/Caches/pypoetry/virtualenvs/machinelearningmarchmadness-Ra9ZsL2z-py3.9/lib/python3.9/site-packages/xgboost/sklearn.py:1224: UserWarning: The use of label encoder in XGBClassifier is deprecated and will be removed in a future release. To remove this warning, do the following: 1) Pass option use_label_encoder=False when constructing XGBClassifier object; and 2) Encode your labels (y) as integers starting with 0, i.e. 0, 1, 2, ..., [num_class - 1].\n",
      "  warnings.warn(label_encoder_deprecation_msg, UserWarning)\n",
      "/Users/njp020/Library/Caches/pypoetry/virtualenvs/machinelearningmarchmadness-Ra9ZsL2z-py3.9/lib/python3.9/site-packages/xgboost/sklearn.py:1224: UserWarning: The use of label encoder in XGBClassifier is deprecated and will be removed in a future release. To remove this warning, do the following: 1) Pass option use_label_encoder=False when constructing XGBClassifier object; and 2) Encode your labels (y) as integers starting with 0, i.e. 0, 1, 2, ..., [num_class - 1].\n",
      "  warnings.warn(label_encoder_deprecation_msg, UserWarning)\n"
     ]
    },
    {
     "name": "stdout",
     "output_type": "stream",
     "text": [
      "[12:26:13] WARNING: /Users/runner/work/xgboost/xgboost/src/learner.cc:1115: Starting in XGBoost 1.3.0, the default evaluation metric used with the objective 'binary:logistic' was changed from 'error' to 'logloss'. Explicitly set eval_metric if you'd like to restore the old behavior.\n"
     ]
    },
    {
     "name": "stderr",
     "output_type": "stream",
     "text": [
      "/Users/njp020/Library/Caches/pypoetry/virtualenvs/machinelearningmarchmadness-Ra9ZsL2z-py3.9/lib/python3.9/site-packages/xgboost/sklearn.py:1224: UserWarning: The use of label encoder in XGBClassifier is deprecated and will be removed in a future release. To remove this warning, do the following: 1) Pass option use_label_encoder=False when constructing XGBClassifier object; and 2) Encode your labels (y) as integers starting with 0, i.e. 0, 1, 2, ..., [num_class - 1].\n",
      "  warnings.warn(label_encoder_deprecation_msg, UserWarning)\n",
      "/Users/njp020/Library/Caches/pypoetry/virtualenvs/machinelearningmarchmadness-Ra9ZsL2z-py3.9/lib/python3.9/site-packages/xgboost/sklearn.py:1224: UserWarning: The use of label encoder in XGBClassifier is deprecated and will be removed in a future release. To remove this warning, do the following: 1) Pass option use_label_encoder=False when constructing XGBClassifier object; and 2) Encode your labels (y) as integers starting with 0, i.e. 0, 1, 2, ..., [num_class - 1].\n",
      "  warnings.warn(label_encoder_deprecation_msg, UserWarning)\n",
      "/Users/njp020/Library/Caches/pypoetry/virtualenvs/machinelearningmarchmadness-Ra9ZsL2z-py3.9/lib/python3.9/site-packages/xgboost/sklearn.py:1224: UserWarning: The use of label encoder in XGBClassifier is deprecated and will be removed in a future release. To remove this warning, do the following: 1) Pass option use_label_encoder=False when constructing XGBClassifier object; and 2) Encode your labels (y) as integers starting with 0, i.e. 0, 1, 2, ..., [num_class - 1].\n",
      "  warnings.warn(label_encoder_deprecation_msg, UserWarning)\n",
      "/Users/njp020/Library/Caches/pypoetry/virtualenvs/machinelearningmarchmadness-Ra9ZsL2z-py3.9/lib/python3.9/site-packages/xgboost/sklearn.py:1224: UserWarning: The use of label encoder in XGBClassifier is deprecated and will be removed in a future release. To remove this warning, do the following: 1) Pass option use_label_encoder=False when constructing XGBClassifier object; and 2) Encode your labels (y) as integers starting with 0, i.e. 0, 1, 2, ..., [num_class - 1].\n",
      "  warnings.warn(label_encoder_deprecation_msg, UserWarning)\n",
      "/Users/njp020/Library/Caches/pypoetry/virtualenvs/machinelearningmarchmadness-Ra9ZsL2z-py3.9/lib/python3.9/site-packages/xgboost/sklearn.py:1224: UserWarning: The use of label encoder in XGBClassifier is deprecated and will be removed in a future release. To remove this warning, do the following: 1) Pass option use_label_encoder=False when constructing XGBClassifier object; and 2) Encode your labels (y) as integers starting with 0, i.e. 0, 1, 2, ..., [num_class - 1].\n",
      "  warnings.warn(label_encoder_deprecation_msg, UserWarning)\n"
     ]
    },
    {
     "data": {
      "text/plain": [
       "(0.7876401156038139, {'gamma': 0.0})"
      ]
     },
     "execution_count": 33,
     "metadata": {},
     "output_type": "execute_result"
    }
   ],
   "source": [
    "param_test2 = {\n",
    "    'gamma':[i/10.0 for i in range(0,5)]\n",
    "}\n",
    "gsearch2 = GridSearchCV(estimator = xgb.XGBClassifier( learning_rate =0.1, n_estimators=140, max_depth=1,\n",
    " min_child_weight=1, gamma=0, subsample=0.8, colsample_bytree=0.8,\n",
    " objective= 'binary:logistic', nthread=4, scale_pos_weight=1,seed=27), \n",
    " param_grid = param_test2, scoring='roc_auc',n_jobs=4, cv=5)\n",
    "gsearch2.fit(ps_x_train, ps_y_train.ravel())\n",
    "gsearch2.best_score_, gsearch2.best_params_"
   ]
  },
  {
   "cell_type": "code",
   "execution_count": 33,
   "metadata": {},
   "outputs": [
    {
     "name": "stdout",
     "output_type": "stream",
     "text": [
      "[09:30:12] WARNING: /Users/travis/build/dmlc/xgboost/src/learner.cc:1061: Starting in XGBoost 1.3.0, the default evaluation metric used with the objective 'binary:logistic' was changed from 'error' to 'logloss'. Explicitly set eval_metric if you'd like to restore the old behavior.\n"
     ]
    },
    {
     "name": "stderr",
     "output_type": "stream",
     "text": [
      "/Users/njp020/Library/Caches/pypoetry/virtualenvs/machinelearningmarchmadness-Ra9ZsL2z-py3.8/lib/python3.8/site-packages/xgboost/sklearn.py:888: UserWarning: The use of label encoder in XGBClassifier is deprecated and will be removed in a future release. To remove this warning, do the following: 1) Pass option use_label_encoder=False when constructing XGBClassifier object; and 2) Encode your labels (y) as integers starting with 0, i.e. 0, 1, 2, ..., [num_class - 1].\n",
      "  warnings.warn(label_encoder_deprecation_msg, UserWarning)\n"
     ]
    },
    {
     "data": {
      "text/plain": [
       "(0.8106722106722108, {'colsample_bytree': 0.9, 'subsample': 0.7})"
      ]
     },
     "execution_count": 33,
     "metadata": {},
     "output_type": "execute_result"
    }
   ],
   "source": [
    "param_test3 = {\n",
    " 'subsample':[i/10.0 for i in range(6,10)],\n",
    " 'colsample_bytree':[i/10.0 for i in range(6,10)]\n",
    "}\n",
    "gsearch3 = GridSearchCV(estimator = xgb.XGBClassifier( learning_rate =0.1, n_estimators=177, max_depth=1,\n",
    " min_child_weight=1, gamma=0, subsample=0.8, colsample_bytree=0.8,\n",
    " objective= 'binary:logistic', nthread=4, scale_pos_weight=1,seed=27), \n",
    " param_grid = param_test3, scoring='roc_auc',n_jobs=4, cv=5)\n",
    "gsearch3.fit(ps_x_train, ps_y_train.ravel())\n",
    "gsearch3.best_score_, gsearch3.best_params_"
   ]
  },
  {
   "cell_type": "code",
   "execution_count": 34,
   "metadata": {},
   "outputs": [
    {
     "name": "stdout",
     "output_type": "stream",
     "text": [
      "[09:30:15] WARNING: /Users/travis/build/dmlc/xgboost/src/learner.cc:1061: Starting in XGBoost 1.3.0, the default evaluation metric used with the objective 'binary:logistic' was changed from 'error' to 'logloss'. Explicitly set eval_metric if you'd like to restore the old behavior.\n"
     ]
    },
    {
     "name": "stderr",
     "output_type": "stream",
     "text": [
      "/Users/njp020/Library/Caches/pypoetry/virtualenvs/machinelearningmarchmadness-Ra9ZsL2z-py3.8/lib/python3.8/site-packages/xgboost/sklearn.py:888: UserWarning: The use of label encoder in XGBClassifier is deprecated and will be removed in a future release. To remove this warning, do the following: 1) Pass option use_label_encoder=False when constructing XGBClassifier object; and 2) Encode your labels (y) as integers starting with 0, i.e. 0, 1, 2, ..., [num_class - 1].\n",
      "  warnings.warn(label_encoder_deprecation_msg, UserWarning)\n"
     ]
    },
    {
     "data": {
      "text/plain": [
       "(0.8054054054054054, {'reg_alpha': 0})"
      ]
     },
     "execution_count": 34,
     "metadata": {},
     "output_type": "execute_result"
    }
   ],
   "source": [
    "param_test4 = {\n",
    " 'reg_alpha':[0, 0.001, 0.005, 0.01, 0.05]\n",
    "}\n",
    "gsearch4 = GridSearchCV(estimator = xgb.XGBClassifier( learning_rate =0.1, n_estimators=177, max_depth=1,\n",
    " min_child_weight=1, gamma=0, subsample=0.8, colsample_bytree=0.6,\n",
    " objective= 'binary:logistic', nthread=4, scale_pos_weight=1,seed=27), \n",
    " param_grid = param_test4, scoring='roc_auc',n_jobs=4, cv=5)\n",
    "gsearch4.fit(ps_x_train, ps_y_train.ravel())\n",
    "gsearch4.best_score_, gsearch4.best_params_"
   ]
  },
  {
   "cell_type": "code",
   "execution_count": 34,
   "metadata": {},
   "outputs": [
    {
     "name": "stdout",
     "output_type": "stream",
     "text": [
      "[12:26:28] WARNING: /Users/runner/work/xgboost/xgboost/src/learner.cc:1115: Starting in XGBoost 1.3.0, the default evaluation metric used with the objective 'binary:logistic' was changed from 'error' to 'logloss'. Explicitly set eval_metric if you'd like to restore the old behavior.\n",
      "Accuracy: {0:.4f} 0.7417582417582418\n"
     ]
    }
   ],
   "source": [
    "xgb_model = xgb.XGBClassifier( learning_rate =0.01, n_estimators=500, max_depth=1,\n",
    " min_child_weight=1, gamma=0, subsample=0.8, colsample_bytree=0.6, reg_alpha=.005,\n",
    " objective= 'binary:logistic', nthread=4, scale_pos_weight=1,seed=27)\n",
    "xgb_model.fit(ps_x_train, ps_y_train.ravel())\n",
    "xgb_test = xgb_model.predict(ps_x_test)\n",
    "print(\"Accuracy: {0:.4f}\",format(metrics.accuracy_score(ps_y_test, xgb_test)))"
   ]
  },
  {
   "cell_type": "markdown",
   "metadata": {},
   "source": [
    "# We have trained our models, not experiment with them to produce your bracket!"
   ]
  },
  {
   "cell_type": "code",
   "execution_count": 55,
   "metadata": {},
   "outputs": [],
   "source": [
    "# Setup This years bracket regions\n",
    "# TODO: automate this with the data received from the scraper from https://www.sports-reference.com/cbb/postseason/2021-ncaa.html\n",
    "# Note: we are ignoring some of the play in teams since 16 seeds are not frequent upset candidates\n",
    "team_names_south = [\n",
    "    # south region\n",
    "    ('Arizona', 1),('Hartford', 16),\n",
    "    ('Seton Hall', 8), ('TCU', 9),\n",
    "    ('Houston',5), ('UAB', 12),\n",
    "    ('Illinois',4), ('Chattanooga', 13),\n",
    "    ('Colorado State', 6), (\"Michigan\", 11),\n",
    "    ('Tennessee',3), ('Longwood',14),\n",
    "    ('Ohio State',7),('Loyola (IL)',10),\n",
    "    ('Villanova',2), ('Delaware',15)\n",
    "]\n",
    "team_names_west = [\n",
    "    # west region\n",
    "    ('Gonzaga', 1),('Georgia State',16),\n",
    "    ('Boise State', 8),('Memphis', 9),\n",
    "    ('UConn',5), ('New Mexico State', 12),\n",
    "    ('Arkansas',4), ('Vermont',13),\n",
    "    ('Alabama',6),('Rutgers',11), \n",
    "    ('Texas Tech', 3),('Montana State', 14),\n",
    "    ('Michigan State',7),('Davidson',10),\n",
    "    ('Duke',2),('Cal State Fullerton',15)\n",
    "]\n",
    "team_names_east = [\n",
    "    # east region\n",
    "    ('Baylor',1),('Norfolk State',16), \n",
    "    ('UNC',8), ('Marquette',9),\n",
    "    (\"Saint Mary's\",5), ('Indiana',12),\n",
    "    ('UCLA',4), ('Akron',13),\n",
    "    ('Texas',6), ('Virginia Tech',11),\n",
    "    ('Purdue',3), ('Yale',14),\n",
    "    ('Murray State',7), ('San Francisco',10),\n",
    "    ('Kentucky', 2), (\"St. Peter's\",15)\n",
    "]\n",
    "team_names_midwest = [\n",
    "    # mid-west region\n",
    "    ('Kansas', 1),('Texas Southern', 16),\n",
    "    ('San Diego State', 8), ('Creighton', 9),\n",
    "    ('Iowa',5), ('Richmond', 12),\n",
    "    ('Providence',4), ('South Dakota State', 13),\n",
    "    ('LSU', 6), ('Iowa State', 11),\n",
    "    ('Wisconsin',3), ('Colgate',14),\n",
    "    ('USC',7),('Miami (FL)',10),\n",
    "    ('Auburn',2), ('Jacksonville State',15)\n",
    "]\n",
    "\n"
   ]
  },
  {
   "cell_type": "code",
   "execution_count": 56,
   "metadata": {},
   "outputs": [],
   "source": [
    "'''\n",
    "    Methods to add evaluating the predicted winners of matchups and subbrackets (A region or Final Four)\n",
    "    To change the predictive model used, just change the model handed to \"evaluate_winner(teams,sub_bracket_name, model)\"\n",
    "    found later in the notebook\n",
    "'''\n",
    "def get_matchup_winners(matchup_stats, teams, model, post_season):\n",
    "    if(post_season):\n",
    "        x_tourney = matchup_stats[shared.ps_feature_col_names].values\n",
    "    else:\n",
    "        x_tourney = matchup_stats[shared.feature_col_names].values\n",
    "    y_tourney = model.predict(x_tourney)\n",
    "    i = 0\n",
    "    winners = []\n",
    "    for y_val in y_tourney:\n",
    "        t1_name, t1_seed = teams[i]\n",
    "        t2_name, t2_seed = teams[i + 1]\n",
    "        print(t1_name,t1_seed,' vs. ', t2_name,t2_seed,'(team 1 won=', y_val,')')\n",
    "        if(y_val):\n",
    "            winners.append((t1_name,t1_seed))\n",
    "        else:\n",
    "            winners.append((t2_name, t2_seed))\n",
    "        i = i + 2\n",
    "    return winners\n",
    "\n",
    "def evaluate_winner(teams,sub_bracket_name, model):        \n",
    "    remaining_teams = teams\n",
    "    i = 1\n",
    "    while(len(remaining_teams) > 1):\n",
    "        post_season_stats = True\n",
    "        print(\"---\",sub_bracket_name,\" round \",i,\"---\")\n",
    "        matchup_stats = shared.get_matchups_stats(df_team, remaining_teams, post_season_stats, 2022)\n",
    "        remaining_teams = get_matchup_winners(matchup_stats,remaining_teams, model, post_season_stats)\n",
    "        i = i + 1\n",
    "    winner = remaining_teams[0]\n",
    "    print('Winner of ',sub_bracket_name,':',winner)\n",
    "    return winner\n"
   ]
  },
  {
   "cell_type": "markdown",
   "metadata": {},
   "source": [
    "## Post Season Trained Logistic Regression Model results\n"
   ]
  },
  {
   "cell_type": "code",
   "execution_count": 57,
   "metadata": {},
   "outputs": [
    {
     "name": "stdout",
     "output_type": "stream",
     "text": [
      "--- East  round  1 ---\n",
      "Baylor 1  vs.  Norfolk State 16 (team 1 won= 1 )\n",
      "UNC 8  vs.  Marquette 9 (team 1 won= 0 )\n",
      "Saint Mary's 5  vs.  Indiana 12 (team 1 won= 1 )\n",
      "UCLA 4  vs.  Akron 13 (team 1 won= 1 )\n",
      "Texas 6  vs.  Virginia Tech 11 (team 1 won= 1 )\n",
      "Purdue 3  vs.  Yale 14 (team 1 won= 1 )\n",
      "Murray State 7  vs.  San Francisco 10 (team 1 won= 1 )\n",
      "Kentucky 2  vs.  St. Peter's 15 (team 1 won= 1 )\n",
      "--- East  round  2 ---\n",
      "Baylor 1  vs.  Marquette 9 (team 1 won= 1 )\n",
      "Saint Mary's 5  vs.  UCLA 4 (team 1 won= 0 )\n",
      "Texas 6  vs.  Purdue 3 (team 1 won= 1 )\n",
      "Murray State 7  vs.  Kentucky 2 (team 1 won= 0 )\n",
      "--- East  round  3 ---\n",
      "Baylor 1  vs.  UCLA 4 (team 1 won= 1 )\n",
      "Texas 6  vs.  Kentucky 2 (team 1 won= 0 )\n",
      "--- East  round  4 ---\n",
      "Baylor 1  vs.  Kentucky 2 (team 1 won= 1 )\n",
      "Winner of  East : ('Baylor', 1)\n",
      "--- West  round  1 ---\n",
      "Gonzaga 1  vs.  Georgia State 16 (team 1 won= 1 )\n",
      "Boise State 8  vs.  Memphis 9 (team 1 won= 1 )\n",
      "UConn 5  vs.  New Mexico State 12 (team 1 won= 1 )\n",
      "Arkansas 4  vs.  Vermont 13 (team 1 won= 1 )\n",
      "Alabama 6  vs.  Rutgers 11 (team 1 won= 1 )\n",
      "Texas Tech 3  vs.  Montana State 14 (team 1 won= 1 )\n",
      "Michigan State 7  vs.  Davidson 10 (team 1 won= 1 )\n",
      "Duke 2  vs.  Cal State Fullerton 15 (team 1 won= 1 )\n",
      "--- West  round  2 ---\n",
      "Gonzaga 1  vs.  Boise State 8 (team 1 won= 1 )\n",
      "UConn 5  vs.  Arkansas 4 (team 1 won= 1 )\n",
      "Alabama 6  vs.  Texas Tech 3 (team 1 won= 0 )\n",
      "Michigan State 7  vs.  Duke 2 (team 1 won= 0 )\n",
      "--- West  round  3 ---\n",
      "Gonzaga 1  vs.  UConn 5 (team 1 won= 1 )\n",
      "Texas Tech 3  vs.  Duke 2 (team 1 won= 1 )\n",
      "--- West  round  4 ---\n",
      "Gonzaga 1  vs.  Texas Tech 3 (team 1 won= 0 )\n",
      "Winner of  West : ('Texas Tech', 3)\n",
      "--- South  round  1 ---\n",
      "Arizona 1  vs.  Hartford 16 (team 1 won= 1 )\n",
      "Seton Hall 8  vs.  TCU 9 (team 1 won= 1 )\n",
      "Houston 5  vs.  UAB 12 (team 1 won= 1 )\n",
      "Illinois 4  vs.  Chattanooga 13 (team 1 won= 1 )\n",
      "Colorado State 6  vs.  Michigan 11 (team 1 won= 0 )\n",
      "Tennessee 3  vs.  Longwood 14 (team 1 won= 1 )\n",
      "Ohio State 7  vs.  Loyola (IL) 10 (team 1 won= 0 )\n",
      "Villanova 2  vs.  Delaware 15 (team 1 won= 1 )\n",
      "--- South  round  2 ---\n",
      "Arizona 1  vs.  Seton Hall 8 (team 1 won= 1 )\n",
      "Houston 5  vs.  Illinois 4 (team 1 won= 1 )\n",
      "Michigan 11  vs.  Tennessee 3 (team 1 won= 0 )\n",
      "Loyola (IL) 10  vs.  Villanova 2 (team 1 won= 0 )\n",
      "--- South  round  3 ---\n",
      "Arizona 1  vs.  Houston 5 (team 1 won= 0 )\n",
      "Tennessee 3  vs.  Villanova 2 (team 1 won= 1 )\n",
      "--- South  round  4 ---\n",
      "Houston 5  vs.  Tennessee 3 (team 1 won= 1 )\n",
      "Winner of  South : ('Houston', 5)\n",
      "--- MidWest  round  1 ---\n",
      "Kansas 1  vs.  Texas Southern 16 (team 1 won= 1 )\n",
      "San Diego State 8  vs.  Creighton 9 (team 1 won= 1 )\n",
      "Iowa 5  vs.  Richmond 12 (team 1 won= 1 )\n",
      "Providence 4  vs.  South Dakota State 13 (team 1 won= 0 )\n",
      "LSU 6  vs.  Iowa State 11 (team 1 won= 1 )\n",
      "Wisconsin 3  vs.  Colgate 14 (team 1 won= 1 )\n",
      "USC 7  vs.  Miami (FL) 10 (team 1 won= 0 )\n",
      "Auburn 2  vs.  Jacksonville State 15 (team 1 won= 1 )\n",
      "--- MidWest  round  2 ---\n",
      "Kansas 1  vs.  San Diego State 8 (team 1 won= 1 )\n",
      "Iowa 5  vs.  South Dakota State 13 (team 1 won= 1 )\n",
      "LSU 6  vs.  Wisconsin 3 (team 1 won= 1 )\n",
      "Miami (FL) 10  vs.  Auburn 2 (team 1 won= 0 )\n",
      "--- MidWest  round  3 ---\n",
      "Kansas 1  vs.  Iowa 5 (team 1 won= 1 )\n",
      "LSU 6  vs.  Auburn 2 (team 1 won= 1 )\n",
      "--- MidWest  round  4 ---\n",
      "Kansas 1  vs.  LSU 6 (team 1 won= 0 )\n",
      "Winner of  MidWest : ('LSU', 6)\n"
     ]
    }
   ],
   "source": [
    "# Get predicted final four\n",
    "final_four = [evaluate_winner(team_names_east, \"East\",ps_lr_model), evaluate_winner(team_names_west,\"West\",ps_lr_model),\n",
    "              evaluate_winner(team_names_south, \"South\",ps_lr_model), evaluate_winner(team_names_midwest, \"MidWest\",ps_lr_model)]\n"
   ]
  },
  {
   "cell_type": "markdown",
   "metadata": {},
   "source": [
    "## THE CHAMPION"
   ]
  },
  {
   "cell_type": "code",
   "execution_count": 58,
   "metadata": {},
   "outputs": [
    {
     "name": "stdout",
     "output_type": "stream",
     "text": [
      "--- FinalFour  round  1 ---\n",
      "Baylor 1  vs.  Texas Tech 3 (team 1 won= 1 )\n",
      "Houston 5  vs.  LSU 6 (team 1 won= 1 )\n",
      "--- FinalFour  round  2 ---\n",
      "Baylor 1  vs.  Houston 5 (team 1 won= 1 )\n",
      "Winner of  FinalFour : ('Baylor', 1)\n"
     ]
    }
   ],
   "source": [
    "champ = evaluate_winner(final_four, \"FinalFour\", ps_lr_model)"
   ]
  },
  {
   "cell_type": "code",
   "execution_count": 59,
   "metadata": {},
   "outputs": [
    {
     "data": {
      "text/plain": [
       "('Baylor', 1)"
      ]
     },
     "execution_count": 59,
     "metadata": {},
     "output_type": "execute_result"
    }
   ],
   "source": [
    "champ"
   ]
  },
  {
   "cell_type": "markdown",
   "metadata": {},
   "source": [
    "## XGBoost results\n"
   ]
  },
  {
   "cell_type": "code",
   "execution_count": 60,
   "metadata": {},
   "outputs": [
    {
     "name": "stdout",
     "output_type": "stream",
     "text": [
      "--- East  round  1 ---\n",
      "Baylor 1  vs.  Norfolk State 16 (team 1 won= 1 )\n",
      "UNC 8  vs.  Marquette 9 (team 1 won= 1 )\n",
      "Saint Mary's 5  vs.  Indiana 12 (team 1 won= 1 )\n",
      "UCLA 4  vs.  Akron 13 (team 1 won= 1 )\n",
      "Texas 6  vs.  Virginia Tech 11 (team 1 won= 1 )\n",
      "Purdue 3  vs.  Yale 14 (team 1 won= 1 )\n",
      "Murray State 7  vs.  San Francisco 10 (team 1 won= 1 )\n",
      "Kentucky 2  vs.  St. Peter's 15 (team 1 won= 1 )\n",
      "--- East  round  2 ---\n",
      "Baylor 1  vs.  UNC 8 (team 1 won= 1 )\n",
      "Saint Mary's 5  vs.  UCLA 4 (team 1 won= 0 )\n",
      "Texas 6  vs.  Purdue 3 (team 1 won= 0 )\n",
      "Murray State 7  vs.  Kentucky 2 (team 1 won= 0 )\n",
      "--- East  round  3 ---\n",
      "Baylor 1  vs.  UCLA 4 (team 1 won= 1 )\n",
      "Purdue 3  vs.  Kentucky 2 (team 1 won= 0 )\n",
      "--- East  round  4 ---\n",
      "Baylor 1  vs.  Kentucky 2 (team 1 won= 1 )\n",
      "Winner of  East : ('Baylor', 1)\n",
      "--- West  round  1 ---\n",
      "Gonzaga 1  vs.  Georgia State 16 (team 1 won= 1 )\n",
      "Boise State 8  vs.  Memphis 9 (team 1 won= 1 )\n",
      "UConn 5  vs.  New Mexico State 12 (team 1 won= 1 )\n",
      "Arkansas 4  vs.  Vermont 13 (team 1 won= 1 )\n",
      "Alabama 6  vs.  Rutgers 11 (team 1 won= 1 )\n",
      "Texas Tech 3  vs.  Montana State 14 (team 1 won= 1 )\n",
      "Michigan State 7  vs.  Davidson 10 (team 1 won= 1 )\n",
      "Duke 2  vs.  Cal State Fullerton 15 (team 1 won= 1 )\n",
      "--- West  round  2 ---\n",
      "Gonzaga 1  vs.  Boise State 8 (team 1 won= 1 )\n",
      "UConn 5  vs.  Arkansas 4 (team 1 won= 1 )\n",
      "Alabama 6  vs.  Texas Tech 3 (team 1 won= 0 )\n",
      "Michigan State 7  vs.  Duke 2 (team 1 won= 0 )\n",
      "--- West  round  3 ---\n",
      "Gonzaga 1  vs.  UConn 5 (team 1 won= 1 )\n",
      "Texas Tech 3  vs.  Duke 2 (team 1 won= 1 )\n",
      "--- West  round  4 ---\n",
      "Gonzaga 1  vs.  Texas Tech 3 (team 1 won= 1 )\n",
      "Winner of  West : ('Gonzaga', 1)\n",
      "--- South  round  1 ---\n",
      "Arizona 1  vs.  Hartford 16 (team 1 won= 1 )\n",
      "Seton Hall 8  vs.  TCU 9 (team 1 won= 1 )\n",
      "Houston 5  vs.  UAB 12 (team 1 won= 1 )\n",
      "Illinois 4  vs.  Chattanooga 13 (team 1 won= 1 )\n",
      "Colorado State 6  vs.  Michigan 11 (team 1 won= 1 )\n",
      "Tennessee 3  vs.  Longwood 14 (team 1 won= 1 )\n",
      "Ohio State 7  vs.  Loyola (IL) 10 (team 1 won= 1 )\n",
      "Villanova 2  vs.  Delaware 15 (team 1 won= 1 )\n",
      "--- South  round  2 ---\n",
      "Arizona 1  vs.  Seton Hall 8 (team 1 won= 1 )\n",
      "Houston 5  vs.  Illinois 4 (team 1 won= 1 )\n",
      "Colorado State 6  vs.  Tennessee 3 (team 1 won= 0 )\n",
      "Ohio State 7  vs.  Villanova 2 (team 1 won= 0 )\n",
      "--- South  round  3 ---\n",
      "Arizona 1  vs.  Houston 5 (team 1 won= 1 )\n",
      "Tennessee 3  vs.  Villanova 2 (team 1 won= 1 )\n",
      "--- South  round  4 ---\n",
      "Arizona 1  vs.  Tennessee 3 (team 1 won= 1 )\n",
      "Winner of  South : ('Arizona', 1)\n",
      "--- MidWest  round  1 ---\n",
      "Kansas 1  vs.  Texas Southern 16 (team 1 won= 1 )\n",
      "San Diego State 8  vs.  Creighton 9 (team 1 won= 1 )\n",
      "Iowa 5  vs.  Richmond 12 (team 1 won= 1 )\n",
      "Providence 4  vs.  South Dakota State 13 (team 1 won= 1 )\n",
      "LSU 6  vs.  Iowa State 11 (team 1 won= 1 )\n",
      "Wisconsin 3  vs.  Colgate 14 (team 1 won= 1 )\n",
      "USC 7  vs.  Miami (FL) 10 (team 1 won= 1 )\n",
      "Auburn 2  vs.  Jacksonville State 15 (team 1 won= 1 )\n",
      "--- MidWest  round  2 ---\n",
      "Kansas 1  vs.  San Diego State 8 (team 1 won= 1 )\n",
      "Iowa 5  vs.  Providence 4 (team 1 won= 1 )\n",
      "LSU 6  vs.  Wisconsin 3 (team 1 won= 1 )\n",
      "USC 7  vs.  Auburn 2 (team 1 won= 0 )\n",
      "--- MidWest  round  3 ---\n",
      "Kansas 1  vs.  Iowa 5 (team 1 won= 1 )\n",
      "LSU 6  vs.  Auburn 2 (team 1 won= 0 )\n",
      "--- MidWest  round  4 ---\n",
      "Kansas 1  vs.  Auburn 2 (team 1 won= 0 )\n",
      "Winner of  MidWest : ('Auburn', 2)\n"
     ]
    }
   ],
   "source": [
    "# Get predicted final four\n",
    "final_four = [evaluate_winner(team_names_east, \"East\",xgb_model), evaluate_winner(team_names_west,\"West\",xgb_model),\n",
    "              evaluate_winner(team_names_south, \"South\",xgb_model), evaluate_winner(team_names_midwest, \"MidWest\",xgb_model)]\n"
   ]
  },
  {
   "cell_type": "code",
   "execution_count": 61,
   "metadata": {},
   "outputs": [
    {
     "name": "stdout",
     "output_type": "stream",
     "text": [
      "--- FinalFour  round  1 ---\n",
      "Baylor 1  vs.  Gonzaga 1 (team 1 won= 0 )\n",
      "Arizona 1  vs.  Auburn 2 (team 1 won= 0 )\n",
      "--- FinalFour  round  2 ---\n",
      "Gonzaga 1  vs.  Auburn 2 (team 1 won= 0 )\n",
      "Winner of  FinalFour : ('Auburn', 2)\n"
     ]
    }
   ],
   "source": [
    "champ = evaluate_winner(final_four, \"FinalFour\", xgb_model)"
   ]
  },
  {
   "cell_type": "markdown",
   "metadata": {},
   "source": [
    "## Post Season Naive Baesean Model Results"
   ]
  },
  {
   "cell_type": "code",
   "execution_count": 64,
   "metadata": {},
   "outputs": [
    {
     "name": "stdout",
     "output_type": "stream",
     "text": [
      "--- East  round  1 ---\n",
      "Baylor 1  vs.  Norfolk State 16 (team 1 won= 1 )\n",
      "UNC 8  vs.  Marquette 9 (team 1 won= 1 )\n",
      "Saint Mary's 5  vs.  Indiana 12 (team 1 won= 1 )\n",
      "UCLA 4  vs.  Akron 13 (team 1 won= 1 )\n",
      "Texas 6  vs.  Virginia Tech 11 (team 1 won= 1 )\n",
      "Purdue 3  vs.  Yale 14 (team 1 won= 1 )\n",
      "Murray State 7  vs.  San Francisco 10 (team 1 won= 1 )\n",
      "Kentucky 2  vs.  St. Peter's 15 (team 1 won= 1 )\n",
      "--- East  round  2 ---\n",
      "Baylor 1  vs.  UNC 8 (team 1 won= 1 )\n",
      "Saint Mary's 5  vs.  UCLA 4 (team 1 won= 0 )\n",
      "Texas 6  vs.  Purdue 3 (team 1 won= 0 )\n",
      "Murray State 7  vs.  Kentucky 2 (team 1 won= 0 )\n",
      "--- East  round  3 ---\n",
      "Baylor 1  vs.  UCLA 4 (team 1 won= 1 )\n",
      "Purdue 3  vs.  Kentucky 2 (team 1 won= 0 )\n",
      "--- East  round  4 ---\n",
      "Baylor 1  vs.  Kentucky 2 (team 1 won= 0 )\n",
      "Winner of  East : ('Kentucky', 2)\n",
      "--- West  round  1 ---\n",
      "Gonzaga 1  vs.  Georgia State 16 (team 1 won= 1 )\n",
      "Boise State 8  vs.  Memphis 9 (team 1 won= 1 )\n",
      "UConn 5  vs.  New Mexico State 12 (team 1 won= 1 )\n",
      "Arkansas 4  vs.  Vermont 13 (team 1 won= 1 )\n",
      "Alabama 6  vs.  Rutgers 11 (team 1 won= 1 )\n",
      "Texas Tech 3  vs.  Montana State 14 (team 1 won= 1 )\n",
      "Michigan State 7  vs.  Davidson 10 (team 1 won= 1 )\n",
      "Duke 2  vs.  Cal State Fullerton 15 (team 1 won= 1 )\n",
      "--- West  round  2 ---\n",
      "Gonzaga 1  vs.  Boise State 8 (team 1 won= 1 )\n",
      "UConn 5  vs.  Arkansas 4 (team 1 won= 1 )\n",
      "Alabama 6  vs.  Texas Tech 3 (team 1 won= 0 )\n",
      "Michigan State 7  vs.  Duke 2 (team 1 won= 0 )\n",
      "--- West  round  3 ---\n",
      "Gonzaga 1  vs.  UConn 5 (team 1 won= 1 )\n",
      "Texas Tech 3  vs.  Duke 2 (team 1 won= 0 )\n",
      "--- West  round  4 ---\n",
      "Gonzaga 1  vs.  Duke 2 (team 1 won= 0 )\n",
      "Winner of  West : ('Duke', 2)\n",
      "--- South  round  1 ---\n",
      "Arizona 1  vs.  Hartford 16 (team 1 won= 1 )\n",
      "Seton Hall 8  vs.  TCU 9 (team 1 won= 1 )\n",
      "Houston 5  vs.  UAB 12 (team 1 won= 1 )\n",
      "Illinois 4  vs.  Chattanooga 13 (team 1 won= 1 )\n",
      "Colorado State 6  vs.  Michigan 11 (team 1 won= 1 )\n",
      "Tennessee 3  vs.  Longwood 14 (team 1 won= 1 )\n",
      "Ohio State 7  vs.  Loyola (IL) 10 (team 1 won= 1 )\n",
      "Villanova 2  vs.  Delaware 15 (team 1 won= 1 )\n",
      "--- South  round  2 ---\n",
      "Arizona 1  vs.  Seton Hall 8 (team 1 won= 1 )\n",
      "Houston 5  vs.  Illinois 4 (team 1 won= 1 )\n",
      "Colorado State 6  vs.  Tennessee 3 (team 1 won= 0 )\n",
      "Ohio State 7  vs.  Villanova 2 (team 1 won= 0 )\n",
      "--- South  round  3 ---\n",
      "Arizona 1  vs.  Houston 5 (team 1 won= 1 )\n",
      "Tennessee 3  vs.  Villanova 2 (team 1 won= 1 )\n",
      "--- South  round  4 ---\n",
      "Arizona 1  vs.  Tennessee 3 (team 1 won= 1 )\n",
      "Winner of  South : ('Arizona', 1)\n",
      "--- MidWest  round  1 ---\n",
      "Kansas 1  vs.  Texas Southern 16 (team 1 won= 1 )\n",
      "San Diego State 8  vs.  Creighton 9 (team 1 won= 1 )\n",
      "Iowa 5  vs.  Richmond 12 (team 1 won= 1 )\n",
      "Providence 4  vs.  South Dakota State 13 (team 1 won= 1 )\n",
      "LSU 6  vs.  Iowa State 11 (team 1 won= 1 )\n",
      "Wisconsin 3  vs.  Colgate 14 (team 1 won= 1 )\n",
      "USC 7  vs.  Miami (FL) 10 (team 1 won= 0 )\n",
      "Auburn 2  vs.  Jacksonville State 15 (team 1 won= 1 )\n",
      "--- MidWest  round  2 ---\n",
      "Kansas 1  vs.  San Diego State 8 (team 1 won= 1 )\n",
      "Iowa 5  vs.  Providence 4 (team 1 won= 1 )\n",
      "LSU 6  vs.  Wisconsin 3 (team 1 won= 1 )\n",
      "Miami (FL) 10  vs.  Auburn 2 (team 1 won= 0 )\n",
      "--- MidWest  round  3 ---\n",
      "Kansas 1  vs.  Iowa 5 (team 1 won= 0 )\n",
      "LSU 6  vs.  Auburn 2 (team 1 won= 0 )\n",
      "--- MidWest  round  4 ---\n",
      "Iowa 5  vs.  Auburn 2 (team 1 won= 0 )\n",
      "Winner of  MidWest : ('Auburn', 2)\n"
     ]
    }
   ],
   "source": [
    "# Get predicted final four\n",
    "final_four = [evaluate_winner(team_names_east, \"East\",ps_nb_model), evaluate_winner(team_names_west,\"West\",ps_nb_model),\n",
    "              evaluate_winner(team_names_south, \"South\",ps_nb_model), evaluate_winner(team_names_midwest, \"MidWest\",ps_nb_model)]"
   ]
  },
  {
   "cell_type": "code",
   "execution_count": 65,
   "metadata": {},
   "outputs": [
    {
     "name": "stdout",
     "output_type": "stream",
     "text": [
      "--- FinalFour  round  1 ---\n",
      "Kentucky 2  vs.  Duke 2 (team 1 won= 0 )\n",
      "Arizona 1  vs.  Auburn 2 (team 1 won= 0 )\n",
      "--- FinalFour  round  2 ---\n",
      "Duke 2  vs.  Auburn 2 (team 1 won= 0 )\n",
      "Winner of  FinalFour : ('Auburn', 2)\n"
     ]
    }
   ],
   "source": [
    "champ = evaluate_winner(final_four, \"FinalFour\", ps_nb_model)"
   ]
  }
 ],
 "metadata": {
  "kernelspec": {
   "display_name": "Python 3 (ipykernel)",
   "language": "python",
   "name": "python3"
  },
  "language_info": {
   "codemirror_mode": {
    "name": "ipython",
    "version": 3
   },
   "file_extension": ".py",
   "mimetype": "text/x-python",
   "name": "python",
   "nbconvert_exporter": "python",
   "pygments_lexer": "ipython3",
   "version": "3.9.5"
  }
 },
 "nbformat": 4,
 "nbformat_minor": 2
}
